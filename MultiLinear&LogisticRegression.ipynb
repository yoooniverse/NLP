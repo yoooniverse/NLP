{
  "nbformat": 4,
  "nbformat_minor": 0,
  "metadata": {
    "colab": {
      "provenance": [],
      "authorship_tag": "ABX9TyPwNeYZSBkTT01JtA6vs6ZM",
      "include_colab_link": true
    },
    "kernelspec": {
      "name": "python3",
      "display_name": "Python 3"
    },
    "language_info": {
      "name": "python"
    }
  },
  "cells": [
    {
      "cell_type": "markdown",
      "metadata": {
        "id": "view-in-github",
        "colab_type": "text"
      },
      "source": [
        "<a href=\"https://colab.research.google.com/github/yoooniverse/NLP/blob/main/MultiLinear%26LogisticRegression.ipynb\" target=\"_parent\"><img src=\"https://colab.research.google.com/assets/colab-badge.svg\" alt=\"Open In Colab\"/></a>"
      ]
    },
    {
      "cell_type": "markdown",
      "source": [
        "multi : multiple independent variables(multiple x's)"
      ],
      "metadata": {
        "id": "R76fIHPnqF7I"
      }
    },
    {
      "cell_type": "code",
      "execution_count": 1,
      "metadata": {
        "id": "KeqJ3g41pru_"
      },
      "outputs": [],
      "source": [
        "import numpy as np\n",
        "from tensorflow.keras.models import Sequential\n",
        "from tensorflow.keras.layers import Dense\n",
        "from tensorflow.keras import optimizers"
      ]
    },
    {
      "cell_type": "markdown",
      "source": [
        "1. multi linear regression"
      ],
      "metadata": {
        "id": "cYViB0IzqC1O"
      }
    },
    {
      "cell_type": "markdown",
      "source": [
        "n(x) : 3, n(y) : 1\n",
        "\n",
        "Theory : $H(X) = w_1x_1 + w_2x_2 + w_3x_3 + b$\n",
        "\n",
        "$X = [x_1, x_2, x_3]$ <- 벡터 표현\n"
      ],
      "metadata": {
        "id": "Ud53gEX6qeI6"
      }
    },
    {
      "cell_type": "code",
      "source": [
        "# 중간 고사, 기말 고사, 가산점 점수\n",
        "X = np.array([[70,85,11], [71,89,18], [50,80,20], [99,20,10], [50,10,10]]) \n",
        "y = np.array([73, 82 ,72, 57, 34]) # 최종 성적\n",
        "\n",
        "model = Sequential()\n",
        "model.add(Dense(1, input_dim=3, activation='linear'))\n",
        "\n",
        "sgd = optimizers.SGD(lr=0.0001)\n",
        "model.compile(optimizer=sgd, loss='mse', metrics=['mse'])\n",
        "model.fit(X, y, epochs=2000)"
      ],
      "metadata": {
        "id": "iu0oL5hCqAgb"
      },
      "execution_count": null,
      "outputs": []
    },
    {
      "cell_type": "code",
      "source": [
        "print(model.predict(X))"
      ],
      "metadata": {
        "colab": {
          "base_uri": "https://localhost:8080/"
        },
        "id": "jMwvpnvWr982",
        "outputId": "5827e709-57d6-433a-f418-2146332e7a1e"
      },
      "execution_count": 3,
      "outputs": [
        {
          "output_type": "stream",
          "name": "stdout",
          "text": [
            "1/1 [==============================] - 0s 70ms/step\n",
            "[[72.93825 ]\n",
            " [81.973625]\n",
            " [72.09065 ]\n",
            " [57.11438 ]\n",
            " [33.806942]]\n"
          ]
        }
      ]
    },
    {
      "cell_type": "code",
      "source": [
        "X_test = np.array([[20,99,10], [40,50,20]])\n",
        "print(model.predict(X_test))"
      ],
      "metadata": {
        "colab": {
          "base_uri": "https://localhost:8080/"
        },
        "id": "4UrY9I6jsWza",
        "outputId": "a6d4352c-8c1a-469b-a1db-d58cbff7ca91"
      },
      "execution_count": 4,
      "outputs": [
        {
          "output_type": "stream",
          "name": "stdout",
          "text": [
            "1/1 [==============================] - 0s 16ms/step\n",
            "[[57.916958]\n",
            " [56.053093]]\n"
          ]
        }
      ]
    },
    {
      "cell_type": "markdown",
      "source": [
        "2. multi logistic regression"
      ],
      "metadata": {
        "id": "T-P-fy_ZskhW"
      }
    },
    {
      "cell_type": "markdown",
      "source": [
        "n(x) : 2, n(y) : 1\n",
        "\n",
        "theory : $H(X) = sigmoid(w_1x_1 + w_2x_2 + b)$\n",
        "\n",
        "$X = [x_1, x_2]$"
      ],
      "metadata": {
        "id": "UFrlj7J9srL_"
      }
    },
    {
      "cell_type": "markdown",
      "source": [
        "logic : \n",
        "\n",
        "if x1 + x2 >= 2 : y = 1  \n",
        "if x1 + x2 < 2 : y = 0"
      ],
      "metadata": {
        "id": "rgcPeOmktNb5"
      }
    },
    {
      "cell_type": "code",
      "source": [
        "X = np.array([[0, 0], [0, 1], [1, 0], [0, 2], [1, 1], [2, 0]])\n",
        "y = np.array([0, 0, 0, 1, 1, 1])\n",
        "\n",
        "model = Sequential()\n",
        "model.add(Dense(1, input_dim=2, activation='sigmoid'))\n",
        "model.compile(optimizer='sgd', loss='binary_crossentropy', metrics=['binary_accuracy'])\n",
        "\n",
        "model.fit(X, y, epochs=2000)"
      ],
      "metadata": {
        "id": "I11XMyAzshHd"
      },
      "execution_count": null,
      "outputs": []
    },
    {
      "cell_type": "markdown",
      "source": [
        "Epoch 2000/2000\n",
        "1/1 [==============================] - 0s 11ms/step - loss: 0.3514 - binary_accuracy: 1.0000\n",
        "\n",
        "<keras.callbacks.History at 0x7f8402f41eb0>"
      ],
      "metadata": {
        "id": "ZHx0WWFQvEvb"
      }
    },
    {
      "cell_type": "code",
      "source": [
        "print(model.predict(X))"
      ],
      "metadata": {
        "colab": {
          "base_uri": "https://localhost:8080/"
        },
        "id": "qgkvIxxEt5tj",
        "outputId": "ea47014f-5b65-4a97-b549-274ca9a55846"
      },
      "execution_count": 7,
      "outputs": [
        {
          "output_type": "stream",
          "name": "stdout",
          "text": [
            "1/1 [==============================] - 0s 38ms/step\n",
            "[[0.1554706 ]\n",
            " [0.44956687]\n",
            " [0.43509114]\n",
            " [0.78372055]\n",
            " [0.7736072 ]\n",
            " [0.763164  ]]\n"
          ]
        }
      ]
    },
    {
      "cell_type": "code",
      "source": [],
      "metadata": {
        "id": "I0iiPciHt8YV"
      },
      "execution_count": null,
      "outputs": []
    }
  ]
}