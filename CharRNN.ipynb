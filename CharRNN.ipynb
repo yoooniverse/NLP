{
  "nbformat": 4,
  "nbformat_minor": 0,
  "metadata": {
    "colab": {
      "provenance": [],
      "authorship_tag": "ABX9TyMb+MRF6OWnom6UBlpyAcMr",
      "include_colab_link": true
    },
    "kernelspec": {
      "name": "python3",
      "display_name": "Python 3"
    },
    "language_info": {
      "name": "python"
    },
    "accelerator": "GPU",
    "gpuClass": "standard"
  },
  "cells": [
    {
      "cell_type": "markdown",
      "metadata": {
        "id": "view-in-github",
        "colab_type": "text"
      },
      "source": [
        "<a href=\"https://colab.research.google.com/github/yoooniverse/NLP/blob/main/CharRNN.ipynb\" target=\"_parent\"><img src=\"https://colab.research.google.com/assets/colab-badge.svg\" alt=\"Open In Colab\"/></a>"
      ]
    },
    {
      "cell_type": "markdown",
      "source": [
        "입출력의 단위 : character-level\n",
        "\n",
        "![image.png](data:image/png;base64,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)"
      ],
      "metadata": {
        "id": "kBvlb4GMguZj"
      }
    },
    {
      "cell_type": "markdown",
      "source": [
        "단어 벡터 단위의 접근이 아니기 때문에 embedding layer 사용하지 않음"
      ],
      "metadata": {
        "id": "fPvmuMYBg8oZ"
      }
    },
    {
      "cell_type": "markdown",
      "source": [
        "1. 다 대 다 구조의 RNN"
      ],
      "metadata": {
        "id": "yF1b-g77OCQA"
      }
    },
    {
      "cell_type": "code",
      "execution_count": 2,
      "metadata": {
        "id": "9bO6namUgipM"
      },
      "outputs": [],
      "source": [
        "# 1) data preprocessing\n",
        "import numpy as np\n",
        "import urllib.request\n",
        "from tensorflow.keras.utils import to_categorical\n",
        "\n",
        "urllib.request.urlretrieve(\"http://www.gutenberg.org/files/11/11-0.txt\", filename=\"11-0.txt\")\n",
        "\n",
        "f = open('11-0.txt', 'rb')\n",
        "sentences = []\n",
        "for sentence in f:\n",
        "  sentence = sentence.strip()\n",
        "  sentence = sentence.lower()\n",
        "  sentence = sentence.decode('ascii', 'ignore')\n",
        "  if len(sentence) > 0:\n",
        "    sentences.append(sentence)\n",
        "\n",
        "f.close()"
      ]
    },
    {
      "cell_type": "code",
      "source": [
        "sentences[:5]"
      ],
      "metadata": {
        "colab": {
          "base_uri": "https://localhost:8080/"
        },
        "id": "MbBnmXAeiBpY",
        "outputId": "4228510d-8c8f-4aba-c3fb-54b60e533268"
      },
      "execution_count": 3,
      "outputs": [
        {
          "output_type": "execute_result",
          "data": {
            "text/plain": [
              "['the project gutenberg ebook of alices adventures in wonderland, by lewis carroll',\n",
              " 'this ebook is for the use of anyone anywhere in the united states and',\n",
              " 'most other parts of the world at no cost and with almost no restrictions',\n",
              " 'whatsoever. you may copy it, give it away or re-use it under the terms',\n",
              " 'of the project gutenberg license included with this ebook or online at']"
            ]
          },
          "metadata": {},
          "execution_count": 3
        }
      ]
    },
    {
      "cell_type": "code",
      "source": [
        "total_data = ' '.join(sentences)\n",
        "print('length of string(or number of letters) : %d' %len(total_data))"
      ],
      "metadata": {
        "colab": {
          "base_uri": "https://localhost:8080/"
        },
        "id": "k5DqFPn7iXEt",
        "outputId": "b17e76a2-d990-4fcb-a115-dd913a9261fc"
      },
      "execution_count": 4,
      "outputs": [
        {
          "output_type": "stream",
          "name": "stdout",
          "text": [
            "length of string(or number of letters) : 159484\n"
          ]
        }
      ]
    },
    {
      "cell_type": "code",
      "source": [
        "print(total_data[:200])"
      ],
      "metadata": {
        "colab": {
          "base_uri": "https://localhost:8080/"
        },
        "id": "TTWO70NYiulu",
        "outputId": "6a46f4e3-982c-45a8-f589-bc6ee2101c2c"
      },
      "execution_count": 5,
      "outputs": [
        {
          "output_type": "stream",
          "name": "stdout",
          "text": [
            "the project gutenberg ebook of alices adventures in wonderland, by lewis carroll this ebook is for the use of anyone anywhere in the united states and most other parts of the world at no cost and with\n"
          ]
        }
      ]
    },
    {
      "cell_type": "code",
      "source": [
        "char_vocab = sorted(list(set(total_data)))\n",
        "vocab_size = len(char_vocab)\n",
        "print('문자 집합의 크기 : {}'.format(vocab_size))"
      ],
      "metadata": {
        "colab": {
          "base_uri": "https://localhost:8080/"
        },
        "id": "Et66eFaHkd0j",
        "outputId": "3dda058e-c7a0-45cd-d9a7-6505defd71f8"
      },
      "execution_count": 6,
      "outputs": [
        {
          "output_type": "stream",
          "name": "stdout",
          "text": [
            "문자 집합의 크기 : 56\n"
          ]
        }
      ]
    },
    {
      "cell_type": "code",
      "source": [
        "char_to_index = dict((char, index) for index, char in enumerate(char_vocab))\n",
        "print('문자 집합 :', char_to_index)"
      ],
      "metadata": {
        "colab": {
          "base_uri": "https://localhost:8080/"
        },
        "id": "br6odZyQl3xd",
        "outputId": "f18777e2-d741-43c6-bfb8-8bc1f4003bc7"
      },
      "execution_count": 7,
      "outputs": [
        {
          "output_type": "stream",
          "name": "stdout",
          "text": [
            "문자 집합 : {' ': 0, '!': 1, '\"': 2, '#': 3, '$': 4, '%': 5, \"'\": 6, '(': 7, ')': 8, '*': 9, ',': 10, '-': 11, '.': 12, '/': 13, '0': 14, '1': 15, '2': 16, '3': 17, '4': 18, '5': 19, '6': 20, '7': 21, '8': 22, '9': 23, ':': 24, ';': 25, '?': 26, '[': 27, ']': 28, '_': 29, 'a': 30, 'b': 31, 'c': 32, 'd': 33, 'e': 34, 'f': 35, 'g': 36, 'h': 37, 'i': 38, 'j': 39, 'k': 40, 'l': 41, 'm': 42, 'n': 43, 'o': 44, 'p': 45, 'q': 46, 'r': 47, 's': 48, 't': 49, 'u': 50, 'v': 51, 'w': 52, 'x': 53, 'y': 54, 'z': 55}\n"
          ]
        }
      ]
    },
    {
      "cell_type": "code",
      "source": [
        "index_to_char = {}\n",
        "for key, value in char_to_index.items():\n",
        "  index_to_char[value] = key"
      ],
      "metadata": {
        "id": "ja1Bylzcm7sq"
      },
      "execution_count": 8,
      "outputs": []
    },
    {
      "cell_type": "code",
      "source": [
        "# 훈련 데이터 구성의 예: appl (입력 시퀀스) -> pple (예측해야하는 시퀀스)\n",
        "train_X = 'appl'\n",
        "train_y = 'pple'"
      ],
      "metadata": {
        "id": "WeCOqlaonXIt"
      },
      "execution_count": 9,
      "outputs": []
    },
    {
      "cell_type": "markdown",
      "source": [
        "데이터를 만드는 방법: 문장 샘플의 길이를 정하고, 해당 길이만큼 문자열 전체를 등분하는 것"
      ],
      "metadata": {
        "id": "hCViLEBWwzrS"
      }
    },
    {
      "cell_type": "code",
      "source": [
        "seq_length = 60\n",
        "\n",
        "n_samples = int(np.floor((len(total_data) - 1) / seq_length))\n",
        "print('number of samples : {}'.format(n_samples))"
      ],
      "metadata": {
        "colab": {
          "base_uri": "https://localhost:8080/"
        },
        "id": "1ArwzwFkwEaA",
        "outputId": "21fb47e2-6d18-48f5-8291-58d9e9f7ac76"
      },
      "execution_count": 10,
      "outputs": [
        {
          "output_type": "stream",
          "name": "stdout",
          "text": [
            "number of samples : 2658\n"
          ]
        }
      ]
    },
    {
      "cell_type": "code",
      "source": [
        "train_X = []\n",
        "train_y = []\n",
        "\n",
        "for i in range(n_samples):\n",
        "  X_sample = total_data[i * seq_length: (i+1) * seq_length]\n",
        "\n",
        "  X_encoded = [char_to_index[c] for c in X_sample]\n",
        "  train_X.append(X_encoded)\n",
        "\n",
        "  y_sample = total_data[i * seq_length + 1: (i+1) * seq_length + 1]\n",
        "  y_encoded = [char_to_index[c] for c in y_sample]\n",
        "  train_y.append(y_encoded)"
      ],
      "metadata": {
        "id": "5SNQ___Iwws1"
      },
      "execution_count": 11,
      "outputs": []
    },
    {
      "cell_type": "code",
      "source": [
        "print('X data, first sample : ', train_X[0])\n",
        "print('y data, first sample : ', train_y[0])\n",
        "print('-'*50)\n",
        "print('X data, first sample decoding : ', [index_to_char[c] for c in train_X[0]])\n",
        "print('y data, first sample decoding : ', [index_to_char[c] for c in train_y[0]])\n"
      ],
      "metadata": {
        "colab": {
          "base_uri": "https://localhost:8080/"
        },
        "id": "uQZP5LRsyBjl",
        "outputId": "86d1e5a7-de0f-4596-fac3-e2997aa28ab5"
      },
      "execution_count": 12,
      "outputs": [
        {
          "output_type": "stream",
          "name": "stdout",
          "text": [
            "X data, first sample :  [49, 37, 34, 0, 45, 47, 44, 39, 34, 32, 49, 0, 36, 50, 49, 34, 43, 31, 34, 47, 36, 0, 34, 31, 44, 44, 40, 0, 44, 35, 0, 30, 41, 38, 32, 34, 48, 0, 30, 33, 51, 34, 43, 49, 50, 47, 34, 48, 0, 38, 43, 0, 52, 44, 43, 33, 34, 47, 41, 30]\n",
            "y data, first sample :  [37, 34, 0, 45, 47, 44, 39, 34, 32, 49, 0, 36, 50, 49, 34, 43, 31, 34, 47, 36, 0, 34, 31, 44, 44, 40, 0, 44, 35, 0, 30, 41, 38, 32, 34, 48, 0, 30, 33, 51, 34, 43, 49, 50, 47, 34, 48, 0, 38, 43, 0, 52, 44, 43, 33, 34, 47, 41, 30, 43]\n",
            "--------------------------------------------------\n",
            "X data, first sample decoding :  ['t', 'h', 'e', ' ', 'p', 'r', 'o', 'j', 'e', 'c', 't', ' ', 'g', 'u', 't', 'e', 'n', 'b', 'e', 'r', 'g', ' ', 'e', 'b', 'o', 'o', 'k', ' ', 'o', 'f', ' ', 'a', 'l', 'i', 'c', 'e', 's', ' ', 'a', 'd', 'v', 'e', 'n', 't', 'u', 'r', 'e', 's', ' ', 'i', 'n', ' ', 'w', 'o', 'n', 'd', 'e', 'r', 'l', 'a']\n",
            "y data, first sample decoding :  ['h', 'e', ' ', 'p', 'r', 'o', 'j', 'e', 'c', 't', ' ', 'g', 'u', 't', 'e', 'n', 'b', 'e', 'r', 'g', ' ', 'e', 'b', 'o', 'o', 'k', ' ', 'o', 'f', ' ', 'a', 'l', 'i', 'c', 'e', 's', ' ', 'a', 'd', 'v', 'e', 'n', 't', 'u', 'r', 'e', 's', ' ', 'i', 'n', ' ', 'w', 'o', 'n', 'd', 'e', 'r', 'l', 'a', 'n']\n"
          ]
        }
      ]
    },
    {
      "cell_type": "code",
      "source": [
        "train_X = to_categorical(train_X)\n",
        "train_y = to_categorical(train_y)\n",
        "\n",
        "print('train_X shape : {}'.format(train_X.shape))\n",
        "print('train_y shape : {}'.format(train_y.shape))"
      ],
      "metadata": {
        "colab": {
          "base_uri": "https://localhost:8080/"
        },
        "id": "yJlxcEw8yccS",
        "outputId": "1319aec6-b834-4b65-816b-1b02c83444d1"
      },
      "execution_count": 13,
      "outputs": [
        {
          "output_type": "stream",
          "name": "stdout",
          "text": [
            "train_X shape : (2658, 60, 56)\n",
            "train_y shape : (2658, 60, 56)\n"
          ]
        }
      ]
    },
    {
      "cell_type": "markdown",
      "source": [
        "샘플의 수(No. of samples)가 2,658개, 입력 시퀀스의 길이(input_length)가 60, 각 벡터의 차원(input_dim)이 55\n",
        "\n",
        "원-핫 벡터의 차원은 문자 집합의 크기인 56이어야 하므로 원-핫 인코딩이 수행되었음"
      ],
      "metadata": {
        "id": "0Cf-DVnsK8ts"
      }
    },
    {
      "cell_type": "markdown",
      "source": [
        "build model"
      ],
      "metadata": {
        "id": "WJO0Mv_IK_YL"
      }
    },
    {
      "cell_type": "markdown",
      "source": [
        "하이퍼파라미터인 은닉 상태의 크기는 256  \n",
        "모델은 다 대 다 구조의 LSTM  \n",
        "LSTM 은닉층은 두 개를 사용  \n",
        "\n",
        "전결합층(Fully Connected Layer)을 출력층으로 문자 집합 크기만큼의 뉴런을 배치하여 모델을 설계\n",
        "\n",
        "모든 시점에서 모든 가능한 문자 중 하나의 문자를 예측하는 다중 클래스 분류 문제를 수행하는 모델\n",
        "\n",
        "출력층: 소프트맥스 회귀 -> 활성화 함수: 소프트맥스 함수 사용\n",
        "\n",
        "손실 함수: 크로스 엔트로피 함수\n",
        "\n",
        "80 에포크"
      ],
      "metadata": {
        "id": "yOiz84ooMD6f"
      }
    },
    {
      "cell_type": "code",
      "source": [
        "from tensorflow.keras.models import Sequential\n",
        "from tensorflow.keras.layers import Dense, LSTM, TimeDistributed\n",
        "\n",
        "hidden_units = 256\n",
        "\n",
        "model = Sequential()\n",
        "model.add(LSTM(hidden_units, input_shape=(None, train_X.shape[2]), return_sequences=True))\n",
        "model.add(LSTM(hidden_units, return_sequences=True))\n",
        "model.add(TimeDistributed(Dense(vocab_size, activation='softmax')))\n",
        "\n",
        "model.compile(loss='categorical_crossentropy', optimizer='adam', metrics=['accuracy'])\n",
        "model.fit(train_X, train_y, epochs=80, verbose=2)\n",
        "\n",
        "#Epoch 80/80\n",
        "#84/84 - 1s - loss: 0.1952 - accuracy: 0.9546 - 823ms/epoch - 10ms/step"
      ],
      "metadata": {
        "id": "k6462DPdKfn5"
      },
      "execution_count": null,
      "outputs": []
    },
    {
      "cell_type": "code",
      "source": [
        "def sentence_generation(model, length): #특정 문자를 주면 다음 문자를 계속해서 생성해냄\n",
        "  ix = [np.random.randint(vocab_size)]\n",
        "\n",
        "  y_char = [index_to_char[ix[-1]]]\n",
        "  print(ix[-1], '번 문자', y_char[-1], '로 예측을 시작!')\n",
        "\n",
        "  X = np.zeros((1, length, vocab_size))\n",
        "\n",
        "  for i in range(length):\n",
        "    X[0][i][ix[-1]] = 1\n",
        "    print(index_to_char[ix[-1]], end=\"\")\n",
        "    ix = np.argmax(model.predict(X[:, :i+1, :])[0], 1)\n",
        "    y_char.append(index_to_char[ix[-1]])\n",
        "\n",
        "  return ('').join(y_char)"
      ],
      "metadata": {
        "id": "BrHv3iONMBWA"
      },
      "execution_count": 19,
      "outputs": []
    },
    {
      "cell_type": "code",
      "source": [
        "result = sentence_generation(model, 100)\n",
        "print(result)\n",
        "#25 번 문자 ; 로 예측을 시작!\n",
        "#; theyd have been ill. so they were, said the dormouse; _very well enough he head such a thing! she b"
      ],
      "metadata": {
        "id": "AZeeO2r1NEIj"
      },
      "execution_count": null,
      "outputs": []
    },
    {
      "cell_type": "markdown",
      "source": [
        "2. 다 대 일 구조의 RNN"
      ],
      "metadata": {
        "id": "xlhlp-B4SXKy"
      }
    },
    {
      "cell_type": "markdown",
      "source": [
        "data preprocessing"
      ],
      "metadata": {
        "id": "8eZNG5XqSabI"
      }
    },
    {
      "cell_type": "code",
      "source": [
        "import numpy as np\n",
        "from tensorflow.keras.utils import to_categorical"
      ],
      "metadata": {
        "id": "EUir4O8UScZ3"
      },
      "execution_count": 21,
      "outputs": []
    },
    {
      "cell_type": "code",
      "source": [
        "raw_text = '''\n",
        "I get on with life as a programmer,\n",
        "I like to contemplate beer.\n",
        "But when I start to daydream,\n",
        "My mind turns straight to wine.\n",
        "\n",
        "Do I love wine more than beer?\n",
        "\n",
        "I like to use words about beer.\n",
        "But when I stop my talking,\n",
        "My mind turns straight to wine.\n",
        "\n",
        "I hate bugs and errors.\n",
        "But I just think back to wine,\n",
        "And I'm happy once again.\n",
        "\n",
        "I like to hang out with programming and deep learning.\n",
        "But when left alone,\n",
        "My mind turns straight to wine.\n",
        "'''"
      ],
      "metadata": {
        "id": "_aW_jXG3NdSS"
      },
      "execution_count": 22,
      "outputs": []
    },
    {
      "cell_type": "code",
      "source": [
        "tokens = raw_text.split() #redefine raw text into 1 string\n",
        "raw_text = ' '.join(tokens)\n",
        "print(raw_text)"
      ],
      "metadata": {
        "colab": {
          "base_uri": "https://localhost:8080/"
        },
        "id": "6JaRX07sSkFG",
        "outputId": "bf852d7f-ff17-4c2a-f1af-ae6b643ec29f"
      },
      "execution_count": 24,
      "outputs": [
        {
          "output_type": "stream",
          "name": "stdout",
          "text": [
            "I get on with life as a programmer, I like to contemplate beer. But when I start to daydream, My mind turns straight to wine. Do I love wine more than beer? I like to use words about beer. But when I stop my talking, My mind turns straight to wine. I hate bugs and errors. But I just think back to wine, And I'm happy once again. I like to hang out with programming and deep learning. But when left alone, My mind turns straight to wine.\n"
          ]
        }
      ]
    },
    {
      "cell_type": "code",
      "source": [
        "char_vocab = sorted(list(set(raw_text)))\n",
        "vocab_size = len(char_vocab)\n",
        "print('문자 집합: ', char_vocab)\n",
        "print('문자 집합의 크기: {}'.format(vocab_size))"
      ],
      "metadata": {
        "colab": {
          "base_uri": "https://localhost:8080/"
        },
        "id": "GFQJQ2mSSr41",
        "outputId": "ef9622cb-aacc-485a-d6f4-95b71594a6e0"
      },
      "execution_count": 25,
      "outputs": [
        {
          "output_type": "stream",
          "name": "stdout",
          "text": [
            "문자 집합:  [' ', \"'\", ',', '.', '?', 'A', 'B', 'D', 'I', 'M', 'a', 'b', 'c', 'd', 'e', 'f', 'g', 'h', 'i', 'j', 'k', 'l', 'm', 'n', 'o', 'p', 'r', 's', 't', 'u', 'v', 'w', 'y']\n",
            "문자 집합의 크기: 33\n"
          ]
        }
      ]
    },
    {
      "cell_type": "code",
      "source": [
        "char_to_index = dict((char, index) for index, char in enumerate(char_vocab))\n",
        "print(char_to_index)"
      ],
      "metadata": {
        "colab": {
          "base_uri": "https://localhost:8080/"
        },
        "id": "gEsr1fDyTMNz",
        "outputId": "87442aef-345b-4340-cfc9-b1e465956205"
      },
      "execution_count": 26,
      "outputs": [
        {
          "output_type": "stream",
          "name": "stdout",
          "text": [
            "{' ': 0, \"'\": 1, ',': 2, '.': 3, '?': 4, 'A': 5, 'B': 6, 'D': 7, 'I': 8, 'M': 9, 'a': 10, 'b': 11, 'c': 12, 'd': 13, 'e': 14, 'f': 15, 'g': 16, 'h': 17, 'i': 18, 'j': 19, 'k': 20, 'l': 21, 'm': 22, 'n': 23, 'o': 24, 'p': 25, 'r': 26, 's': 27, 't': 28, 'u': 29, 'v': 30, 'w': 31, 'y': 32}\n"
          ]
        }
      ]
    },
    {
      "cell_type": "markdown",
      "source": [
        "학습 데이터의 구성\n",
        "\n",
        "RNN의 timesteps: 5\n",
        "*   stude -> n\n",
        "*   tuden -> t\n",
        "\n",
        "input_sequence : 10\n"
      ],
      "metadata": {
        "id": "fMXSIpt6WOWC"
      }
    },
    {
      "cell_type": "code",
      "source": [
        "length = 11 #input_sequence(10) + target(1)\n",
        "sequences = []\n",
        "\n",
        "for i in range(length, len(raw_text)):\n",
        "  seq = raw_text[i-length:i]  #keep making string, which length is 10\n",
        "  sequences.append(seq)\n",
        "\n",
        "print('총 훈련 샘플의 수:  %d' %len(sequences))"
      ],
      "metadata": {
        "colab": {
          "base_uri": "https://localhost:8080/"
        },
        "id": "5eqqJwfyVe2-",
        "outputId": "7ec03300-6757-4b54-adaf-0c8485665562"
      },
      "execution_count": 28,
      "outputs": [
        {
          "output_type": "stream",
          "name": "stdout",
          "text": [
            "총 훈련 샘플의 수:  426\n"
          ]
        }
      ]
    },
    {
      "cell_type": "code",
      "source": [
        "sequences[:10]"
      ],
      "metadata": {
        "colab": {
          "base_uri": "https://localhost:8080/"
        },
        "id": "CtMpV3qrXIzq",
        "outputId": "ba970be4-10cc-467b-badd-089b7498a0f5"
      },
      "execution_count": 29,
      "outputs": [
        {
          "output_type": "execute_result",
          "data": {
            "text/plain": [
              "['I get on wi',\n",
              " ' get on wit',\n",
              " 'get on with',\n",
              " 'et on with ',\n",
              " 't on with l',\n",
              " ' on with li',\n",
              " 'on with lif',\n",
              " 'n with life',\n",
              " ' with life ',\n",
              " 'with life a']"
            ]
          },
          "metadata": {},
          "execution_count": 29
        }
      ]
    },
    {
      "cell_type": "code",
      "source": [
        "encoded_sequences = []\n",
        "for sequence in sequences:\n",
        "  encoded_sequence = [char_to_index[char] for char in sequence]\n",
        "  encoded_sequences.append(encoded_sequence)"
      ],
      "metadata": {
        "id": "In3JqfccXNb8"
      },
      "execution_count": 30,
      "outputs": []
    },
    {
      "cell_type": "code",
      "source": [
        "encoded_sequences[:5]"
      ],
      "metadata": {
        "colab": {
          "base_uri": "https://localhost:8080/"
        },
        "id": "ELwnBUM5YZ_M",
        "outputId": "f8355f4a-aed3-4a04-802e-67d8588740aa"
      },
      "execution_count": 31,
      "outputs": [
        {
          "output_type": "execute_result",
          "data": {
            "text/plain": [
              "[[8, 0, 16, 14, 28, 0, 24, 23, 0, 31, 18],\n",
              " [0, 16, 14, 28, 0, 24, 23, 0, 31, 18, 28],\n",
              " [16, 14, 28, 0, 24, 23, 0, 31, 18, 28, 17],\n",
              " [14, 28, 0, 24, 23, 0, 31, 18, 28, 17, 0],\n",
              " [28, 0, 24, 23, 0, 31, 18, 28, 17, 0, 21]]"
            ]
          },
          "metadata": {},
          "execution_count": 31
        }
      ]
    },
    {
      "cell_type": "code",
      "source": [
        "#split into train X, train y\n",
        "encoded_sequences = np.array(encoded_sequences)\n",
        "X_data = encoded_sequences[:, :-1]\n",
        "y_data = encoded_sequences[:, -1]\n",
        "print(X_data[:5])\n",
        "print(y_data[:5])"
      ],
      "metadata": {
        "colab": {
          "base_uri": "https://localhost:8080/"
        },
        "id": "YpXz3UpFYdQQ",
        "outputId": "98ee2f9e-39dd-4ac5-8ba6-ee5b9dd0f16c"
      },
      "execution_count": 32,
      "outputs": [
        {
          "output_type": "stream",
          "name": "stdout",
          "text": [
            "[[ 8  0 16 14 28  0 24 23  0 31]\n",
            " [ 0 16 14 28  0 24 23  0 31 18]\n",
            " [16 14 28  0 24 23  0 31 18 28]\n",
            " [14 28  0 24 23  0 31 18 28 17]\n",
            " [28  0 24 23  0 31 18 28 17  0]]\n",
            "[18 28 17  0 21]\n"
          ]
        }
      ]
    },
    {
      "cell_type": "code",
      "source": [
        "X_data_one_hot = [to_categorical(encoded, num_classes=vocab_size) for encoded in X_data]\n",
        "X_data_one_hot = np.array(X_data_one_hot)\n",
        "\n",
        "y_data_one_hot = to_categorical(y_data, num_classes=vocab_size)"
      ],
      "metadata": {
        "id": "7u-YeBLiY0Z6"
      },
      "execution_count": 34,
      "outputs": []
    },
    {
      "cell_type": "code",
      "source": [
        "print(X_data_one_hot.shape)"
      ],
      "metadata": {
        "colab": {
          "base_uri": "https://localhost:8080/"
        },
        "id": "KW9So0w7ZaJm",
        "outputId": "8d91488b-094f-48bc-99a9-af66ada572bf"
      },
      "execution_count": 35,
      "outputs": [
        {
          "output_type": "stream",
          "name": "stdout",
          "text": [
            "(426, 10, 33)\n"
          ]
        }
      ]
    },
    {
      "cell_type": "markdown",
      "source": [
        "샘플의 수(No. of samples)가 426개, 입력 시퀀스의 길이(input_length)가 10, 각 벡터의 차원(input_dim)이 33"
      ],
      "metadata": {
        "id": "lOcnrummZkkg"
      }
    },
    {
      "cell_type": "markdown",
      "source": [
        "build model"
      ],
      "metadata": {
        "id": "bTnwx-8mZodf"
      }
    },
    {
      "cell_type": "markdown",
      "source": [
        "은닉 상태의 크기: 64  \n",
        "모델: 다 대 일 구조의 LSTM  \n",
        "전결합층(Fully Connected Layer)을 출력층으로 문자 집합 크기만큼의 뉴런을 배치하여 모델을 설계  \n",
        "마지막 시점에서 모든 가능한 문자 중 하나의 문자를 예측하는 다중 클래스 분류 문제를 수행하는 모델  \n",
        "다중 클래스 분류 문제이므로\n",
        "\n",
        "출력층: 소프트맥스 회귀  \n",
        "활성화 함수: 소프트맥스 함수  \n",
        "손실 함수: 크로스 엔트로피 함수   \n",
        "100 에포크를 수행"
      ],
      "metadata": {
        "id": "k6KsdistZp9y"
      }
    },
    {
      "cell_type": "code",
      "source": [
        "from tensorflow.keras.models import Sequential\n",
        "from tensorflow.keras.layers import Dense, LSTM\n",
        "from tensorflow.keras.preprocessing.sequence import pad_sequences\n",
        "\n",
        "hidden_units = 64\n",
        "\n",
        "model = Sequential()\n",
        "model.add(LSTM(hidden_units, input_shape=(X_data_one_hot.shape[1], X_data_one_hot.shape[2])))\n",
        "model.add(Dense(vocab_size, activation='softmax'))\n",
        "\n",
        "model.compile(optimizer='adam', metrics='accuracy', loss='categorical_crossentropy')\n",
        "model.fit(X_data_one_hot, y_data_one_hot, epochs=100, verbose=2)\n",
        "\n",
        "#Epoch 100/100\n",
        "#14/14 - 0s - loss: 0.2240 - accuracy: 0.9765 - 47ms/epoch - 3ms/step"
      ],
      "metadata": {
        "id": "892JQd6xZh7i"
      },
      "execution_count": null,
      "outputs": []
    },
    {
      "cell_type": "code",
      "source": [
        "def sentence_generation(model, char_to_index, seq_length, seed_text, n):\n",
        "  init_text = seed_text\n",
        "  sentence = ''\n",
        "\n",
        "  for _ in range(n):\n",
        "    encoded = [char_to_index[char] for char in seed_text]\n",
        "    encoded = pad_sequences([encoded], maxlen=seq_length, padding='pre')\n",
        "    encoded = to_categorical(encoded, num_classes=len(char_to_index))\n",
        "\n",
        "    result = model.predict(encoded, verbose=0)\n",
        "    result = np.argmax(result, axis=1)\n",
        "\n",
        "    for char, index in char_to_index.items():\n",
        "      if index == result:\n",
        "        break\n",
        "    \n",
        "    seed_text = seed_text + char\n",
        "    sentence = sentence+char\n",
        "  \n",
        "  sentence = init_text + sentence\n",
        "  return sentence"
      ],
      "metadata": {
        "id": "YilB3zpac-AK"
      },
      "execution_count": 39,
      "outputs": []
    },
    {
      "cell_type": "code",
      "source": [
        "print(sentence_generation(model, char_to_index, 10, 'I get on w', 80))"
      ],
      "metadata": {
        "colab": {
          "base_uri": "https://localhost:8080/"
        },
        "id": "vl5o7Yw9eQmb",
        "outputId": "e38c72f4-680f-436f-ba1e-c5a68917ee20"
      },
      "execution_count": 40,
      "outputs": [
        {
          "output_type": "stream",
          "name": "stdout",
          "text": [
            "I get on with life as a programmer, I like to contemplate beer. But when I start to daydre\n"
          ]
        }
      ]
    },
    {
      "cell_type": "code",
      "source": [],
      "metadata": {
        "id": "d6Q2TbbneWQQ"
      },
      "execution_count": null,
      "outputs": []
    }
  ]
}