{
  "nbformat": 4,
  "nbformat_minor": 0,
  "metadata": {
    "colab": {
      "provenance": [],
      "mount_file_id": "1H5pff_0Qg9BrjnzM9V4WNiKVieW96m88",
      "authorship_tag": "ABX9TyOnQ81GWjPsw00kcX0FQf6v",
      "include_colab_link": true
    },
    "kernelspec": {
      "name": "python3",
      "display_name": "Python 3"
    },
    "language_info": {
      "name": "python"
    }
  },
  "cells": [
    {
      "cell_type": "markdown",
      "metadata": {
        "id": "view-in-github",
        "colab_type": "text"
      },
      "source": [
        "<a href=\"https://colab.research.google.com/github/yoooniverse/NLP/blob/main/TextGenerationUsingRNN.ipynb\" target=\"_parent\"><img src=\"https://colab.research.google.com/assets/colab-badge.svg\" alt=\"Open In Colab\"/></a>"
      ]
    },
    {
      "cell_type": "markdown",
      "source": [
        "1. SimpleRNN"
      ],
      "metadata": {
        "id": "w_TLlU4rp_Vi"
      }
    },
    {
      "cell_type": "markdown",
      "source": [
        "preprocessing"
      ],
      "metadata": {
        "id": "FDfkE3BGgF5k"
      }
    },
    {
      "cell_type": "code",
      "execution_count": 1,
      "metadata": {
        "id": "TQa5D8w9b5va"
      },
      "outputs": [],
      "source": [
        "import numpy as np\n",
        "from tensorflow.keras.preprocessing.text import Tokenizer\n",
        "from tensorflow.keras.preprocessing.sequence import pad_sequences\n",
        "from tensorflow.keras.utils import to_categorical"
      ]
    },
    {
      "cell_type": "code",
      "source": [
        "text = \"\"\"경마장에 있는 말이 뛰고 있다\\n\n",
        "그의 말이 법이다\\n\n",
        "가는 말이 고와야 오는 말이 곱다\\n\"\"\""
      ],
      "metadata": {
        "id": "ix8kVz12cPso"
      },
      "execution_count": 2,
      "outputs": []
    },
    {
      "cell_type": "code",
      "source": [
        "tokenizer = Tokenizer()\n",
        "tokenizer.fit_on_texts([text])\n",
        "vocab_size = len(tokenizer.word_index) + 1\n",
        "print('단어 집합의 크기 : {}'.format(vocab_size))"
      ],
      "metadata": {
        "colab": {
          "base_uri": "https://localhost:8080/"
        },
        "id": "Qk3HjfWUcTTe",
        "outputId": "35ec0e5a-9d89-499c-c796-6927b97ac65d"
      },
      "execution_count": 7,
      "outputs": [
        {
          "output_type": "stream",
          "name": "stdout",
          "text": [
            "단어 집합의 크기 : 12\n"
          ]
        }
      ]
    },
    {
      "cell_type": "code",
      "source": [
        "print(tokenizer.word_index)"
      ],
      "metadata": {
        "colab": {
          "base_uri": "https://localhost:8080/"
        },
        "id": "tUM-qKgWcnmP",
        "outputId": "dd95b1e2-58ad-4e00-a8a2-aaf40738c783"
      },
      "execution_count": 8,
      "outputs": [
        {
          "output_type": "stream",
          "name": "stdout",
          "text": [
            "{'말이': 1, '경마장에': 2, '있는': 3, '뛰고': 4, '있다': 5, '그의': 6, '법이다': 7, '가는': 8, '고와야': 9, '오는': 10, '곱다': 11}\n"
          ]
        }
      ]
    },
    {
      "cell_type": "code",
      "source": [
        "sequences = list()\n",
        "for line in text.split(\"\\n\"):\n",
        "  encoded = tokenizer.texts_to_sequences([line])[0]\n",
        "  for i in range(1, len(encoded)):\n",
        "    sequence = encoded[:i+1]\n",
        "    sequences.append(sequence)\n",
        "\n",
        "print('학습에 사용할 샘플의 개수 : %d' %len(sequences))"
      ],
      "metadata": {
        "colab": {
          "base_uri": "https://localhost:8080/"
        },
        "id": "INXNvePhc3Lp",
        "outputId": "731c3280-ecae-4669-d630-b1b32fe228b9"
      },
      "execution_count": 12,
      "outputs": [
        {
          "output_type": "stream",
          "name": "stdout",
          "text": [
            "학습에 사용할 샘플의 개수 : 11\n"
          ]
        }
      ]
    },
    {
      "cell_type": "code",
      "source": [
        "print(sequences)"
      ],
      "metadata": {
        "colab": {
          "base_uri": "https://localhost:8080/"
        },
        "id": "02gkMVofdWXl",
        "outputId": "c410060b-daf2-4989-d858-7c55dd1f1237"
      },
      "execution_count": 14,
      "outputs": [
        {
          "output_type": "stream",
          "name": "stdout",
          "text": [
            "[[2, 3], [2, 3, 1], [2, 3, 1, 4], [2, 3, 1, 4, 5], [6, 1], [6, 1, 7], [8, 1], [8, 1, 9], [8, 1, 9, 10], [8, 1, 9, 10, 1], [8, 1, 9, 10, 1, 11]]\n"
          ]
        }
      ]
    },
    {
      "cell_type": "markdown",
      "source": [
        "위의 데이터는 아직 레이블로 사용될 단어를 분리하지 않은 훈련 데이터\n",
        "\n",
        "전체 훈련 데이터에 대해서 맨 우측에 있는 단어에 대해서만 레이블로 분리해야 함."
      ],
      "metadata": {
        "id": "sWF-xn9ces0g"
      }
    },
    {
      "cell_type": "code",
      "source": [
        "max_len = max(len(l) for l in sequences)\n",
        "print('샘플의 최대 길이 : {}'.format(max_len))"
      ],
      "metadata": {
        "colab": {
          "base_uri": "https://localhost:8080/"
        },
        "id": "_A6zgsz-ejl8",
        "outputId": "1db5d05c-7498-4134-dc1d-e70ac384e42d"
      },
      "execution_count": 15,
      "outputs": [
        {
          "output_type": "stream",
          "name": "stdout",
          "text": [
            "샘플의 최대 길이 : 6\n"
          ]
        }
      ]
    },
    {
      "cell_type": "code",
      "source": [
        "#padding the length of samples into size 6\n",
        "sequences = pad_sequences(sequences, maxlen=max_len, padding='pre')\n",
        "print(sequences)"
      ],
      "metadata": {
        "colab": {
          "base_uri": "https://localhost:8080/"
        },
        "id": "TXEgOG6we-TN",
        "outputId": "e2aa6785-9ab5-47f8-a33d-de85d87ed5d5"
      },
      "execution_count": 16,
      "outputs": [
        {
          "output_type": "stream",
          "name": "stdout",
          "text": [
            "[[ 0  0  0  0  2  3]\n",
            " [ 0  0  0  2  3  1]\n",
            " [ 0  0  2  3  1  4]\n",
            " [ 0  2  3  1  4  5]\n",
            " [ 0  0  0  0  6  1]\n",
            " [ 0  0  0  6  1  7]\n",
            " [ 0  0  0  0  8  1]\n",
            " [ 0  0  0  8  1  9]\n",
            " [ 0  0  8  1  9 10]\n",
            " [ 0  8  1  9 10  1]\n",
            " [ 8  1  9 10  1 11]]\n"
          ]
        }
      ]
    },
    {
      "cell_type": "code",
      "source": [
        "sequences = np.array(sequences)\n",
        "X = sequences[:, :-1]\n",
        "y = sequences[:, -1]\n",
        "print(X)\n",
        "print(y)"
      ],
      "metadata": {
        "colab": {
          "base_uri": "https://localhost:8080/"
        },
        "id": "LeehPK_9fOni",
        "outputId": "a473c92d-05ea-44c6-9a8b-b84d3beaac49"
      },
      "execution_count": 17,
      "outputs": [
        {
          "output_type": "stream",
          "name": "stdout",
          "text": [
            "[[ 0  0  0  0  2]\n",
            " [ 0  0  0  2  3]\n",
            " [ 0  0  2  3  1]\n",
            " [ 0  2  3  1  4]\n",
            " [ 0  0  0  0  6]\n",
            " [ 0  0  0  6  1]\n",
            " [ 0  0  0  0  8]\n",
            " [ 0  0  0  8  1]\n",
            " [ 0  0  8  1  9]\n",
            " [ 0  8  1  9 10]\n",
            " [ 8  1  9 10  1]]\n",
            "[ 3  1  4  5  1  7  1  9 10  1 11]\n"
          ]
        }
      ]
    },
    {
      "cell_type": "code",
      "source": [
        "y = to_categorical(y, num_classes=vocab_size)"
      ],
      "metadata": {
        "id": "MsClLFc4fik5"
      },
      "execution_count": 18,
      "outputs": []
    },
    {
      "cell_type": "code",
      "source": [
        "print(y)"
      ],
      "metadata": {
        "colab": {
          "base_uri": "https://localhost:8080/"
        },
        "id": "F0_qp9xRgCyw",
        "outputId": "cdbab8cd-bb36-4d02-ee5d-ebc2208d4477"
      },
      "execution_count": 19,
      "outputs": [
        {
          "output_type": "stream",
          "name": "stdout",
          "text": [
            "[[0. 0. 0. 1. 0. 0. 0. 0. 0. 0. 0. 0.]\n",
            " [0. 1. 0. 0. 0. 0. 0. 0. 0. 0. 0. 0.]\n",
            " [0. 0. 0. 0. 1. 0. 0. 0. 0. 0. 0. 0.]\n",
            " [0. 0. 0. 0. 0. 1. 0. 0. 0. 0. 0. 0.]\n",
            " [0. 1. 0. 0. 0. 0. 0. 0. 0. 0. 0. 0.]\n",
            " [0. 0. 0. 0. 0. 0. 0. 1. 0. 0. 0. 0.]\n",
            " [0. 1. 0. 0. 0. 0. 0. 0. 0. 0. 0. 0.]\n",
            " [0. 0. 0. 0. 0. 0. 0. 0. 0. 1. 0. 0.]\n",
            " [0. 0. 0. 0. 0. 0. 0. 0. 0. 0. 1. 0.]\n",
            " [0. 1. 0. 0. 0. 0. 0. 0. 0. 0. 0. 0.]\n",
            " [0. 0. 0. 0. 0. 0. 0. 0. 0. 0. 0. 1.]]\n"
          ]
        }
      ]
    },
    {
      "cell_type": "markdown",
      "source": [
        "building model"
      ],
      "metadata": {
        "id": "iDSC2MmEgIb3"
      }
    },
    {
      "cell_type": "markdown",
      "source": [
        "임베딩 벡터의 차원은 10, 은닉 상태의 크기는 32\n",
        "\n",
        "다 대 일 구조의 RNN을 사용\n",
        "\n",
        "\n",
        "다중 클래스 분류 문제 : 출력층에 소프트맥스 회귀를 사용해야 함  \n",
        "활성화 함수 : 소프트맥스 함수  \n",
        "손실 함수 : 크로스 엔트로피 함수를 사용하여 200 에포크를 수행"
      ],
      "metadata": {
        "id": "pusA_98UhkTE"
      }
    },
    {
      "cell_type": "code",
      "source": [
        "from tensorflow.keras.models import Sequential\n",
        "from tensorflow.keras.layers import Embedding, Dense, SimpleRNN\n",
        "\n",
        "embedding_dim = 10\n",
        "hidden_units = 32\n",
        "\n",
        "model = Sequential()\n",
        "model.add(Embedding(vocab_size, embedding_dim))\n",
        "model.add(SimpleRNN(hidden_units))\n",
        "model.add(Dense(vocab_size, activation='softmax'))\n",
        "model.compile(loss='categorical_crossentropy', optimizer='adam', metrics=['accuracy'])\n",
        "model.fit(X, y, epochs=200, verbose=2)\n",
        "'''\n",
        "Epoch 200/200\n",
        "1/1 - 0s - loss: 0.1264 - accuracy: 1.0000 - 7ms/epoch - 7ms/step\n",
        "<keras.callbacks.History at 0x7f68b643a8e0>\n",
        "'''"
      ],
      "metadata": {
        "id": "6xD7cHVfgIQ0"
      },
      "execution_count": null,
      "outputs": []
    },
    {
      "cell_type": "code",
      "source": [
        "model.summary()"
      ],
      "metadata": {
        "colab": {
          "base_uri": "https://localhost:8080/"
        },
        "id": "8p5yNt_egDob",
        "outputId": "5ebb294b-9a57-4790-e74d-b19ad55c4226"
      },
      "execution_count": 22,
      "outputs": [
        {
          "output_type": "stream",
          "name": "stdout",
          "text": [
            "Model: \"sequential\"\n",
            "_________________________________________________________________\n",
            " Layer (type)                Output Shape              Param #   \n",
            "=================================================================\n",
            " embedding (Embedding)       (None, None, 10)          120       \n",
            "                                                                 \n",
            " simple_rnn (SimpleRNN)      (None, 32)                1376      \n",
            "                                                                 \n",
            " dense (Dense)               (None, 12)                396       \n",
            "                                                                 \n",
            "=================================================================\n",
            "Total params: 1,892\n",
            "Trainable params: 1,892\n",
            "Non-trainable params: 0\n",
            "_________________________________________________________________\n"
          ]
        }
      ]
    },
    {
      "cell_type": "code",
      "source": [
        "def sentence_generation(model, tokenizer, current_word, n):\n",
        "  init_word = current_word\n",
        "  sentence = ''\n",
        "\n",
        "  for _ in range(n):\n",
        "    encoded = tokenizer.texts_to_sequences([current_word])[0]\n",
        "    encoded = pad_sequences([encoded], maxlen=5, padding='pre')\n",
        "    print(encoded)\n",
        "    \n",
        "    result = model.predict(encoded, verbose=0)\n",
        "    result = np.argmax(result, axis=1)\n",
        "\n",
        "    for word, index in tokenizer.word_index.items():\n",
        "      if index == result:\n",
        "        break\n",
        "    \n",
        "    current_word = current_word + ' ' + word\n",
        "    sentence = sentence + ' ' + word\n",
        "  \n",
        "  sentence = init_word + sentence\n",
        "  return sentence"
      ],
      "metadata": {
        "id": "8pQ0VkBUiL-D"
      },
      "execution_count": 28,
      "outputs": []
    },
    {
      "cell_type": "code",
      "source": [
        "print(sentence_generation(model, tokenizer, '경마장에', 3))"
      ],
      "metadata": {
        "colab": {
          "base_uri": "https://localhost:8080/"
        },
        "id": "2f1jTrfDk2JW",
        "outputId": "53f54470-bcbb-4fa9-e20b-6b78e4e94912"
      },
      "execution_count": 32,
      "outputs": [
        {
          "output_type": "stream",
          "name": "stdout",
          "text": [
            "[[0 0 0 0 2]]\n",
            "[[0 0 0 2 3]]\n",
            "[[0 0 2 3 1]]\n",
            "경마장에 있는 말이 뛰고\n"
          ]
        }
      ]
    },
    {
      "cell_type": "code",
      "source": [
        "print(sentence_generation(model, tokenizer, '그의', 2))"
      ],
      "metadata": {
        "colab": {
          "base_uri": "https://localhost:8080/"
        },
        "id": "qZYHv8SSmXYM",
        "outputId": "596c9858-f8ad-41c2-c1cd-29b56d11ce0f"
      },
      "execution_count": 34,
      "outputs": [
        {
          "output_type": "stream",
          "name": "stdout",
          "text": [
            "[[0 0 0 0 6]]\n",
            "[[0 0 0 6 1]]\n",
            "그의 말이 법이다\n"
          ]
        }
      ]
    },
    {
      "cell_type": "code",
      "source": [
        "print(sentence_generation(model, tokenizer, '말이', 1))"
      ],
      "metadata": {
        "colab": {
          "base_uri": "https://localhost:8080/"
        },
        "id": "X-GA9YnhphuU",
        "outputId": "37e133ae-abff-41be-b398-9f7f6899ef34"
      },
      "execution_count": 35,
      "outputs": [
        {
          "output_type": "stream",
          "name": "stdout",
          "text": [
            "[[0 0 0 0 1]]\n",
            "말이 있는\n"
          ]
        }
      ]
    },
    {
      "cell_type": "code",
      "source": [
        "print(sentence_generation(model, tokenizer, '가는', 5))"
      ],
      "metadata": {
        "colab": {
          "base_uri": "https://localhost:8080/"
        },
        "id": "akzVcYTtpsHf",
        "outputId": "ba246190-9fdb-4d5b-8870-944ef8df083e"
      },
      "execution_count": 37,
      "outputs": [
        {
          "output_type": "stream",
          "name": "stdout",
          "text": [
            "[[0 0 0 0 8]]\n",
            "[[0 0 0 8 1]]\n",
            "[[0 0 8 1 9]]\n",
            "[[ 0  8  1  9 10]]\n",
            "[[ 8  1  9 10  1]]\n",
            "가는 말이 고와야 오는 말이 곱다\n"
          ]
        }
      ]
    },
    {
      "cell_type": "markdown",
      "source": [
        "\n",
        "\n",
        "---\n",
        "\n"
      ],
      "metadata": {
        "id": "AqlgOrnjqB0a"
      }
    },
    {
      "cell_type": "markdown",
      "source": [
        "2. LSTM"
      ],
      "metadata": {
        "id": "pTEyijghqCj2"
      }
    },
    {
      "cell_type": "markdown",
      "source": [
        "ArticlesApril2018.csv\n",
        "\n",
        "https://www.kaggle.com/aashita/nyt-comments"
      ],
      "metadata": {
        "id": "e9FPaXFDqL60"
      }
    },
    {
      "cell_type": "code",
      "source": [
        "import numpy as np\n",
        "import pandas as pd\n",
        "from string import punctuation\n",
        "\n",
        "from tensorflow.keras.preprocessing.text import Tokenizer\n",
        "from tensorflow.keras.preprocessing.sequence import pad_sequences\n",
        "from tensorflow.keras.utils import to_categorical"
      ],
      "metadata": {
        "id": "hl_A8asJpuot"
      },
      "execution_count": 1,
      "outputs": []
    },
    {
      "cell_type": "code",
      "source": [
        "df = pd.read_csv('/content/drive/MyDrive/NLP/ArticlesApril2018.csv')\n",
        "df.head()"
      ],
      "metadata": {
        "colab": {
          "base_uri": "https://localhost:8080/",
          "height": 687
        },
        "id": "ytgDg45uqwjk",
        "outputId": "efcec3a4-20cf-4ab9-9a01-5f3ffdb16000"
      },
      "execution_count": 2,
      "outputs": [
        {
          "output_type": "execute_result",
          "data": {
            "text/plain": [
              "                  articleID  articleWordCount  \\\n",
              "0  5adf6684068401528a2aa69b               781   \n",
              "1  5adf653f068401528a2aa697               656   \n",
              "2  5adf4626068401528a2aa628              2427   \n",
              "3  5adf40d2068401528a2aa619               626   \n",
              "4  5adf3d64068401528a2aa60f               815   \n",
              "\n",
              "                                      byline documentType  \\\n",
              "0                             By JOHN BRANCH      article   \n",
              "1                           By LISA FRIEDMAN      article   \n",
              "2                              By PETE WELLS      article   \n",
              "3  By JULIE HIRSCHFELD DAVIS and PETER BAKER      article   \n",
              "4             By IAN AUSTEN and DAN BILEFSKY      article   \n",
              "\n",
              "                                            headline  \\\n",
              "0  Former N.F.L. Cheerleaders’ Settlement Offer: ...   \n",
              "1  E.P.A. to Unveil a New Rule. Its Effect: Less ...   \n",
              "2                            The New Noma, Explained   \n",
              "3                                            Unknown   \n",
              "4                                            Unknown   \n",
              "\n",
              "                                            keywords  multimedia     newDesk  \\\n",
              "0  ['Workplace Hazards and Violations', 'Football...          68      Sports   \n",
              "1  ['Environmental Protection Agency', 'Pruitt, S...          68     Climate   \n",
              "2  ['Restaurants', 'Noma (Copenhagen, Restaurant)...          66      Dining   \n",
              "3  ['Macron, Emmanuel (1977- )', 'Trump, Donald J...          68  Washington   \n",
              "4  ['Toronto, Ontario, Attack (April, 2018)', 'Mu...          68     Foreign   \n",
              "\n",
              "   printPage              pubDate   sectionName  \\\n",
              "0          0  2018-04-24 17:16:49  Pro Football   \n",
              "1          0  2018-04-24 17:11:21       Unknown   \n",
              "2          0  2018-04-24 14:58:44       Unknown   \n",
              "3          0  2018-04-24 14:35:57        Europe   \n",
              "4          0  2018-04-24 14:21:21        Canada   \n",
              "\n",
              "                                             snippet              source  \\\n",
              "0  “I understand that they could meet with us, pa...  The New York Times   \n",
              "1  The agency plans to publish a new regulation T...  The New York Times   \n",
              "2  What’s it like to eat at the second incarnatio...  The New York Times   \n",
              "3  President Trump welcomed President Emmanuel Ma...  The New York Times   \n",
              "4  Alek Minassian, 25, a resident of Toronto’s Ri...  The New York Times   \n",
              "\n",
              "  typeOfMaterial                                             webURL  \n",
              "0           News  https://www.nytimes.com/2018/04/24/sports/foot...  \n",
              "1           News  https://www.nytimes.com/2018/04/24/climate/epa...  \n",
              "2           News  https://www.nytimes.com/2018/04/24/dining/noma...  \n",
              "3           News  https://www.nytimes.com/2018/04/24/world/europ...  \n",
              "4           News  https://www.nytimes.com/2018/04/24/world/canad...  "
            ],
            "text/html": [
              "\n",
              "  <div id=\"df-332adf96-2a91-4bb3-b553-1473d77b1029\">\n",
              "    <div class=\"colab-df-container\">\n",
              "      <div>\n",
              "<style scoped>\n",
              "    .dataframe tbody tr th:only-of-type {\n",
              "        vertical-align: middle;\n",
              "    }\n",
              "\n",
              "    .dataframe tbody tr th {\n",
              "        vertical-align: top;\n",
              "    }\n",
              "\n",
              "    .dataframe thead th {\n",
              "        text-align: right;\n",
              "    }\n",
              "</style>\n",
              "<table border=\"1\" class=\"dataframe\">\n",
              "  <thead>\n",
              "    <tr style=\"text-align: right;\">\n",
              "      <th></th>\n",
              "      <th>articleID</th>\n",
              "      <th>articleWordCount</th>\n",
              "      <th>byline</th>\n",
              "      <th>documentType</th>\n",
              "      <th>headline</th>\n",
              "      <th>keywords</th>\n",
              "      <th>multimedia</th>\n",
              "      <th>newDesk</th>\n",
              "      <th>printPage</th>\n",
              "      <th>pubDate</th>\n",
              "      <th>sectionName</th>\n",
              "      <th>snippet</th>\n",
              "      <th>source</th>\n",
              "      <th>typeOfMaterial</th>\n",
              "      <th>webURL</th>\n",
              "    </tr>\n",
              "  </thead>\n",
              "  <tbody>\n",
              "    <tr>\n",
              "      <th>0</th>\n",
              "      <td>5adf6684068401528a2aa69b</td>\n",
              "      <td>781</td>\n",
              "      <td>By JOHN BRANCH</td>\n",
              "      <td>article</td>\n",
              "      <td>Former N.F.L. Cheerleaders’ Settlement Offer: ...</td>\n",
              "      <td>['Workplace Hazards and Violations', 'Football...</td>\n",
              "      <td>68</td>\n",
              "      <td>Sports</td>\n",
              "      <td>0</td>\n",
              "      <td>2018-04-24 17:16:49</td>\n",
              "      <td>Pro Football</td>\n",
              "      <td>“I understand that they could meet with us, pa...</td>\n",
              "      <td>The New York Times</td>\n",
              "      <td>News</td>\n",
              "      <td>https://www.nytimes.com/2018/04/24/sports/foot...</td>\n",
              "    </tr>\n",
              "    <tr>\n",
              "      <th>1</th>\n",
              "      <td>5adf653f068401528a2aa697</td>\n",
              "      <td>656</td>\n",
              "      <td>By LISA FRIEDMAN</td>\n",
              "      <td>article</td>\n",
              "      <td>E.P.A. to Unveil a New Rule. Its Effect: Less ...</td>\n",
              "      <td>['Environmental Protection Agency', 'Pruitt, S...</td>\n",
              "      <td>68</td>\n",
              "      <td>Climate</td>\n",
              "      <td>0</td>\n",
              "      <td>2018-04-24 17:11:21</td>\n",
              "      <td>Unknown</td>\n",
              "      <td>The agency plans to publish a new regulation T...</td>\n",
              "      <td>The New York Times</td>\n",
              "      <td>News</td>\n",
              "      <td>https://www.nytimes.com/2018/04/24/climate/epa...</td>\n",
              "    </tr>\n",
              "    <tr>\n",
              "      <th>2</th>\n",
              "      <td>5adf4626068401528a2aa628</td>\n",
              "      <td>2427</td>\n",
              "      <td>By PETE WELLS</td>\n",
              "      <td>article</td>\n",
              "      <td>The New Noma, Explained</td>\n",
              "      <td>['Restaurants', 'Noma (Copenhagen, Restaurant)...</td>\n",
              "      <td>66</td>\n",
              "      <td>Dining</td>\n",
              "      <td>0</td>\n",
              "      <td>2018-04-24 14:58:44</td>\n",
              "      <td>Unknown</td>\n",
              "      <td>What’s it like to eat at the second incarnatio...</td>\n",
              "      <td>The New York Times</td>\n",
              "      <td>News</td>\n",
              "      <td>https://www.nytimes.com/2018/04/24/dining/noma...</td>\n",
              "    </tr>\n",
              "    <tr>\n",
              "      <th>3</th>\n",
              "      <td>5adf40d2068401528a2aa619</td>\n",
              "      <td>626</td>\n",
              "      <td>By JULIE HIRSCHFELD DAVIS and PETER BAKER</td>\n",
              "      <td>article</td>\n",
              "      <td>Unknown</td>\n",
              "      <td>['Macron, Emmanuel (1977- )', 'Trump, Donald J...</td>\n",
              "      <td>68</td>\n",
              "      <td>Washington</td>\n",
              "      <td>0</td>\n",
              "      <td>2018-04-24 14:35:57</td>\n",
              "      <td>Europe</td>\n",
              "      <td>President Trump welcomed President Emmanuel Ma...</td>\n",
              "      <td>The New York Times</td>\n",
              "      <td>News</td>\n",
              "      <td>https://www.nytimes.com/2018/04/24/world/europ...</td>\n",
              "    </tr>\n",
              "    <tr>\n",
              "      <th>4</th>\n",
              "      <td>5adf3d64068401528a2aa60f</td>\n",
              "      <td>815</td>\n",
              "      <td>By IAN AUSTEN and DAN BILEFSKY</td>\n",
              "      <td>article</td>\n",
              "      <td>Unknown</td>\n",
              "      <td>['Toronto, Ontario, Attack (April, 2018)', 'Mu...</td>\n",
              "      <td>68</td>\n",
              "      <td>Foreign</td>\n",
              "      <td>0</td>\n",
              "      <td>2018-04-24 14:21:21</td>\n",
              "      <td>Canada</td>\n",
              "      <td>Alek Minassian, 25, a resident of Toronto’s Ri...</td>\n",
              "      <td>The New York Times</td>\n",
              "      <td>News</td>\n",
              "      <td>https://www.nytimes.com/2018/04/24/world/canad...</td>\n",
              "    </tr>\n",
              "  </tbody>\n",
              "</table>\n",
              "</div>\n",
              "      <button class=\"colab-df-convert\" onclick=\"convertToInteractive('df-332adf96-2a91-4bb3-b553-1473d77b1029')\"\n",
              "              title=\"Convert this dataframe to an interactive table.\"\n",
              "              style=\"display:none;\">\n",
              "        \n",
              "  <svg xmlns=\"http://www.w3.org/2000/svg\" height=\"24px\"viewBox=\"0 0 24 24\"\n",
              "       width=\"24px\">\n",
              "    <path d=\"M0 0h24v24H0V0z\" fill=\"none\"/>\n",
              "    <path d=\"M18.56 5.44l.94 2.06.94-2.06 2.06-.94-2.06-.94-.94-2.06-.94 2.06-2.06.94zm-11 1L8.5 8.5l.94-2.06 2.06-.94-2.06-.94L8.5 2.5l-.94 2.06-2.06.94zm10 10l.94 2.06.94-2.06 2.06-.94-2.06-.94-.94-2.06-.94 2.06-2.06.94z\"/><path d=\"M17.41 7.96l-1.37-1.37c-.4-.4-.92-.59-1.43-.59-.52 0-1.04.2-1.43.59L10.3 9.45l-7.72 7.72c-.78.78-.78 2.05 0 2.83L4 21.41c.39.39.9.59 1.41.59.51 0 1.02-.2 1.41-.59l7.78-7.78 2.81-2.81c.8-.78.8-2.07 0-2.86zM5.41 20L4 18.59l7.72-7.72 1.47 1.35L5.41 20z\"/>\n",
              "  </svg>\n",
              "      </button>\n",
              "      \n",
              "  <style>\n",
              "    .colab-df-container {\n",
              "      display:flex;\n",
              "      flex-wrap:wrap;\n",
              "      gap: 12px;\n",
              "    }\n",
              "\n",
              "    .colab-df-convert {\n",
              "      background-color: #E8F0FE;\n",
              "      border: none;\n",
              "      border-radius: 50%;\n",
              "      cursor: pointer;\n",
              "      display: none;\n",
              "      fill: #1967D2;\n",
              "      height: 32px;\n",
              "      padding: 0 0 0 0;\n",
              "      width: 32px;\n",
              "    }\n",
              "\n",
              "    .colab-df-convert:hover {\n",
              "      background-color: #E2EBFA;\n",
              "      box-shadow: 0px 1px 2px rgba(60, 64, 67, 0.3), 0px 1px 3px 1px rgba(60, 64, 67, 0.15);\n",
              "      fill: #174EA6;\n",
              "    }\n",
              "\n",
              "    [theme=dark] .colab-df-convert {\n",
              "      background-color: #3B4455;\n",
              "      fill: #D2E3FC;\n",
              "    }\n",
              "\n",
              "    [theme=dark] .colab-df-convert:hover {\n",
              "      background-color: #434B5C;\n",
              "      box-shadow: 0px 1px 3px 1px rgba(0, 0, 0, 0.15);\n",
              "      filter: drop-shadow(0px 1px 2px rgba(0, 0, 0, 0.3));\n",
              "      fill: #FFFFFF;\n",
              "    }\n",
              "  </style>\n",
              "\n",
              "      <script>\n",
              "        const buttonEl =\n",
              "          document.querySelector('#df-332adf96-2a91-4bb3-b553-1473d77b1029 button.colab-df-convert');\n",
              "        buttonEl.style.display =\n",
              "          google.colab.kernel.accessAllowed ? 'block' : 'none';\n",
              "\n",
              "        async function convertToInteractive(key) {\n",
              "          const element = document.querySelector('#df-332adf96-2a91-4bb3-b553-1473d77b1029');\n",
              "          const dataTable =\n",
              "            await google.colab.kernel.invokeFunction('convertToInteractive',\n",
              "                                                     [key], {});\n",
              "          if (!dataTable) return;\n",
              "\n",
              "          const docLinkHtml = 'Like what you see? Visit the ' +\n",
              "            '<a target=\"_blank\" href=https://colab.research.google.com/notebooks/data_table.ipynb>data table notebook</a>'\n",
              "            + ' to learn more about interactive tables.';\n",
              "          element.innerHTML = '';\n",
              "          dataTable['output_type'] = 'display_data';\n",
              "          await google.colab.output.renderOutput(dataTable, element);\n",
              "          const docLink = document.createElement('div');\n",
              "          docLink.innerHTML = docLinkHtml;\n",
              "          element.appendChild(docLink);\n",
              "        }\n",
              "      </script>\n",
              "    </div>\n",
              "  </div>\n",
              "  "
            ]
          },
          "metadata": {},
          "execution_count": 2
        }
      ]
    },
    {
      "cell_type": "code",
      "source": [
        "print('number of columns :', len(df.columns))\n",
        "print(df.columns)"
      ],
      "metadata": {
        "colab": {
          "base_uri": "https://localhost:8080/"
        },
        "id": "V9j3Wkb1q3eQ",
        "outputId": "977c6a68-43bb-49e1-e655-80ac3d3d5aeb"
      },
      "execution_count": 3,
      "outputs": [
        {
          "output_type": "stream",
          "name": "stdout",
          "text": [
            "number of columns : 15\n",
            "Index(['articleID', 'articleWordCount', 'byline', 'documentType', 'headline',\n",
            "       'keywords', 'multimedia', 'newDesk', 'printPage', 'pubDate',\n",
            "       'sectionName', 'snippet', 'source', 'typeOfMaterial', 'webURL'],\n",
            "      dtype='object')\n"
          ]
        }
      ]
    },
    {
      "cell_type": "code",
      "source": [
        "print(df['headline'].isnull().values.any())"
      ],
      "metadata": {
        "colab": {
          "base_uri": "https://localhost:8080/"
        },
        "id": "ZzJQ7WVRrKWA",
        "outputId": "fbc12a19-20a1-4b56-b454-89ccb497e908"
      },
      "execution_count": 4,
      "outputs": [
        {
          "output_type": "stream",
          "name": "stdout",
          "text": [
            "False\n"
          ]
        }
      ]
    },
    {
      "cell_type": "code",
      "source": [
        "headline = []\n",
        "headline.extend(list(df.headline.values))\n",
        "headline[:5]"
      ],
      "metadata": {
        "colab": {
          "base_uri": "https://localhost:8080/"
        },
        "id": "siopxfrMrW42",
        "outputId": "5e6fea14-137c-4c16-c032-712c5bec2abe"
      },
      "execution_count": 5,
      "outputs": [
        {
          "output_type": "execute_result",
          "data": {
            "text/plain": [
              "['Former N.F.L. Cheerleaders’ Settlement Offer: $1 and a Meeting With Goodell',\n",
              " 'E.P.A. to Unveil a New Rule. Its Effect: Less Science in Policymaking.',\n",
              " 'The New Noma, Explained',\n",
              " 'Unknown',\n",
              " 'Unknown']"
            ]
          },
          "metadata": {},
          "execution_count": 5
        }
      ]
    },
    {
      "cell_type": "code",
      "source": [
        "#remove 'unknown' since it is considered as noise\n",
        "print('total number of samples : {}'.format(len(headline)))"
      ],
      "metadata": {
        "colab": {
          "base_uri": "https://localhost:8080/"
        },
        "id": "woyyfdUdrfYa",
        "outputId": "85024ca2-0794-43af-e167-f85943248d16"
      },
      "execution_count": 6,
      "outputs": [
        {
          "output_type": "stream",
          "name": "stdout",
          "text": [
            "total number of samples : 1324\n"
          ]
        }
      ]
    },
    {
      "cell_type": "code",
      "source": [
        "headline = [word for word in headline if word != 'Unknown']\n",
        "print('total number of samples after remove noise values : {}'.format(len(headline)))"
      ],
      "metadata": {
        "colab": {
          "base_uri": "https://localhost:8080/"
        },
        "id": "PKslRxZ_rtpz",
        "outputId": "43602b0b-da8a-418d-aff7-0e28f0fc65f1"
      },
      "execution_count": 7,
      "outputs": [
        {
          "output_type": "stream",
          "name": "stdout",
          "text": [
            "total number of samples after remove noise values : 1214\n"
          ]
        }
      ]
    },
    {
      "cell_type": "code",
      "source": [
        "headline[:5]"
      ],
      "metadata": {
        "colab": {
          "base_uri": "https://localhost:8080/"
        },
        "id": "H92T1oh0r-E_",
        "outputId": "29a6e458-f89f-49a0-e6b5-3a6fcc067126"
      },
      "execution_count": 8,
      "outputs": [
        {
          "output_type": "execute_result",
          "data": {
            "text/plain": [
              "['Former N.F.L. Cheerleaders’ Settlement Offer: $1 and a Meeting With Goodell',\n",
              " 'E.P.A. to Unveil a New Rule. Its Effect: Less Science in Policymaking.',\n",
              " 'The New Noma, Explained',\n",
              " 'How a Bag of Texas Dirt  Became a Times Tradition',\n",
              " 'Is School a Place for Self-Expression?']"
            ]
          },
          "metadata": {},
          "execution_count": 8
        }
      ]
    },
    {
      "cell_type": "markdown",
      "source": [
        "preprocessing"
      ],
      "metadata": {
        "id": "3TAmnvlZsHR8"
      }
    },
    {
      "cell_type": "code",
      "source": [
        "#punctuation removal, lowercase\n",
        "def repreprocessing(raw_sentence):\n",
        "  preprocessed_sentence = raw_sentence.encode(\"utf8\").decode(\"ascii\", 'ignore')\n",
        "\n",
        "  return ''.join(word for word in preprocessed_sentence if word not in punctuation).lower()\n",
        "\n",
        "preprocessed_headline = [repreprocessing(x) for x in headline]\n",
        "preprocessed_headline[:5]"
      ],
      "metadata": {
        "colab": {
          "base_uri": "https://localhost:8080/"
        },
        "id": "Hg-4zqKnsDUW",
        "outputId": "5268a92f-8a17-4270-e520-42084f3bdff8"
      },
      "execution_count": 9,
      "outputs": [
        {
          "output_type": "execute_result",
          "data": {
            "text/plain": [
              "['former nfl cheerleaders settlement offer 1 and a meeting with goodell',\n",
              " 'epa to unveil a new rule its effect less science in policymaking',\n",
              " 'the new noma explained',\n",
              " 'how a bag of texas dirt  became a times tradition',\n",
              " 'is school a place for selfexpression']"
            ]
          },
          "metadata": {},
          "execution_count": 9
        }
      ]
    },
    {
      "cell_type": "code",
      "source": [
        "tokenizer = Tokenizer()\n",
        "tokenizer.fit_on_texts(preprocessed_headline)\n",
        "vocab_size = len(tokenizer.word_index) + 1\n",
        "print('단어 집합의 크기 : {}'.format(vocab_size))"
      ],
      "metadata": {
        "colab": {
          "base_uri": "https://localhost:8080/"
        },
        "id": "XvaGMZBns5UM",
        "outputId": "33d4c44a-53c2-4e3c-e0f9-fd44fe121a9c"
      },
      "execution_count": 10,
      "outputs": [
        {
          "output_type": "stream",
          "name": "stdout",
          "text": [
            "단어 집합의 크기 : 3494\n"
          ]
        }
      ]
    },
    {
      "cell_type": "code",
      "source": [
        "#정수 인코딩 & 하나의 문장을 여러 줄로 분해하여 훈련 데이터를 구성\n",
        "sequences = list()\n",
        "\n",
        "for sentence in preprocessed_headline:\n",
        "  encoded = tokenizer.texts_to_sequences([sentence])[0]\n",
        "  for i in range(1, len(encoded)):\n",
        "    sequence = encoded[:i+1]\n",
        "    sequences.append(sequence)\n",
        "\n",
        "sequences[:11]"
      ],
      "metadata": {
        "colab": {
          "base_uri": "https://localhost:8080/"
        },
        "id": "uAGEEk2rtFx5",
        "outputId": "1a895c36-0cf8-4ab6-b911-b4d2b3ef6ed5"
      },
      "execution_count": 11,
      "outputs": [
        {
          "output_type": "execute_result",
          "data": {
            "text/plain": [
              "[[99, 269],\n",
              " [99, 269, 371],\n",
              " [99, 269, 371, 1115],\n",
              " [99, 269, 371, 1115, 582],\n",
              " [99, 269, 371, 1115, 582, 52],\n",
              " [99, 269, 371, 1115, 582, 52, 7],\n",
              " [99, 269, 371, 1115, 582, 52, 7, 2],\n",
              " [99, 269, 371, 1115, 582, 52, 7, 2, 372],\n",
              " [99, 269, 371, 1115, 582, 52, 7, 2, 372, 10],\n",
              " [99, 269, 371, 1115, 582, 52, 7, 2, 372, 10, 1116],\n",
              " [100, 3]]"
            ]
          },
          "metadata": {},
          "execution_count": 11
        }
      ]
    },
    {
      "cell_type": "code",
      "source": [
        "index_to_word = {}\n",
        "for key, value in tokenizer.word_index.items():\n",
        "  index_to_word[value] = key\n",
        "\n",
        "print('Top 582 frequency words: {}'.format(index_to_word[582]))"
      ],
      "metadata": {
        "colab": {
          "base_uri": "https://localhost:8080/"
        },
        "id": "C52YpGekuD3v",
        "outputId": "d5f990e0-0ae7-4951-de88-5926312b3556"
      },
      "execution_count": 12,
      "outputs": [
        {
          "output_type": "stream",
          "name": "stdout",
          "text": [
            "Top 582 frequency words: offer\n"
          ]
        }
      ]
    },
    {
      "cell_type": "code",
      "source": [
        "max_len = max(len(l) for l in sequences)\n",
        "print('max length of sample : {}'.format(max_len))"
      ],
      "metadata": {
        "colab": {
          "base_uri": "https://localhost:8080/"
        },
        "id": "wlSRKXh8tkBl",
        "outputId": "daf638b3-e840-4ab2-db00-558e24de78e9"
      },
      "execution_count": 13,
      "outputs": [
        {
          "output_type": "stream",
          "name": "stdout",
          "text": [
            "max length of sample : 24\n"
          ]
        }
      ]
    },
    {
      "cell_type": "code",
      "source": [
        "#padding the length of samples into size 24\n",
        "sequences = pad_sequences(sequences, maxlen=max_len, padding='pre')\n",
        "print(sequences[:3])"
      ],
      "metadata": {
        "colab": {
          "base_uri": "https://localhost:8080/"
        },
        "id": "grppmpN8twGR",
        "outputId": "43010d01-efc5-4362-8c74-2628761cb592"
      },
      "execution_count": 14,
      "outputs": [
        {
          "output_type": "stream",
          "name": "stdout",
          "text": [
            "[[   0    0    0    0    0    0    0    0    0    0    0    0    0    0\n",
            "     0    0    0    0    0    0    0    0   99  269]\n",
            " [   0    0    0    0    0    0    0    0    0    0    0    0    0    0\n",
            "     0    0    0    0    0    0    0   99  269  371]\n",
            " [   0    0    0    0    0    0    0    0    0    0    0    0    0    0\n",
            "     0    0    0    0    0    0   99  269  371 1115]]\n"
          ]
        }
      ]
    },
    {
      "cell_type": "code",
      "source": [
        "sequences = np.array(sequences)\n",
        "X = sequences[:, :-1]\n",
        "y = sequences[:, -1]\n",
        "print(X[:3])\n",
        "print(y[:3])"
      ],
      "metadata": {
        "colab": {
          "base_uri": "https://localhost:8080/"
        },
        "id": "ZLJm30nTt5j3",
        "outputId": "fcd1ccc5-608b-4d0f-fabb-4273bfcb6788"
      },
      "execution_count": 15,
      "outputs": [
        {
          "output_type": "stream",
          "name": "stdout",
          "text": [
            "[[  0   0   0   0   0   0   0   0   0   0   0   0   0   0   0   0   0   0\n",
            "    0   0   0   0  99]\n",
            " [  0   0   0   0   0   0   0   0   0   0   0   0   0   0   0   0   0   0\n",
            "    0   0   0  99 269]\n",
            " [  0   0   0   0   0   0   0   0   0   0   0   0   0   0   0   0   0   0\n",
            "    0   0  99 269 371]]\n",
            "[ 269  371 1115]\n"
          ]
        }
      ]
    },
    {
      "cell_type": "code",
      "source": [
        "y = to_categorical(y, num_classes=vocab_size)\n",
        "print(y)"
      ],
      "metadata": {
        "colab": {
          "base_uri": "https://localhost:8080/"
        },
        "id": "WnhifN9Vuewv",
        "outputId": "1fe13829-f735-457c-ba4c-28f5837abd1e"
      },
      "execution_count": 16,
      "outputs": [
        {
          "output_type": "stream",
          "name": "stdout",
          "text": [
            "[[0. 0. 0. ... 0. 0. 0.]\n",
            " [0. 0. 0. ... 0. 0. 0.]\n",
            " [0. 0. 0. ... 0. 0. 0.]\n",
            " ...\n",
            " [0. 0. 0. ... 0. 0. 0.]\n",
            " [0. 0. 1. ... 0. 0. 0.]\n",
            " [0. 0. 0. ... 0. 0. 0.]]\n"
          ]
        }
      ]
    },
    {
      "cell_type": "markdown",
      "source": [
        "building model"
      ],
      "metadata": {
        "id": "LvEmZeDIvC_E"
      }
    },
    {
      "cell_type": "markdown",
      "source": [
        "임베딩 벡터의 차원: 10, 은닉 상태의 크기: 128\n",
        "\n",
        "다 대 일 구조의 LSTM\n",
        "\n",
        "마지막 시점에서 모든 가능한 단어 중 하나의 단어를 예측하는 다중 클래스 분류 문제를 수행하는 모델\n",
        "\n",
        "활성화 함수: 소프트맥스 함수를 사용\n",
        "\n",
        "손실 함수: 크로스 엔트로피 함수를 사용하여 200 에포크를 수행"
      ],
      "metadata": {
        "id": "gyGBWlTpvMiw"
      }
    },
    {
      "cell_type": "code",
      "source": [
        "from tensorflow.keras.models import Sequential\n",
        "from tensorflow.keras.layers import Embedding, Dense, LSTM"
      ],
      "metadata": {
        "id": "zzQfFpoIuqBX"
      },
      "execution_count": 17,
      "outputs": []
    },
    {
      "cell_type": "code",
      "source": [
        "embedding_dim = 10\n",
        "hidden_units = 128\n",
        "\n",
        "model = Sequential()\n",
        "model.add(Embedding(vocab_size, embedding_dim))\n",
        "model.add(LSTM(hidden_units))\n",
        "model.add(Dense(vocab_size, activation='softmax'))\n",
        "model.compile(loss='categorical_crossentropy', optimizer='adam', metrics=['accuracy'])\n",
        "model.fit(X, y, epochs=200, verbose=2)"
      ],
      "metadata": {
        "colab": {
          "base_uri": "https://localhost:8080/"
        },
        "id": "To6A0Q-TvZn7",
        "outputId": "eaa32fb9-2ae6-4fef-e016-9ddd72671f0d"
      },
      "execution_count": 18,
      "outputs": [
        {
          "output_type": "stream",
          "name": "stdout",
          "text": [
            "Epoch 1/200\n",
            "244/244 - 11s - loss: 7.6254 - accuracy: 0.0288 - 11s/epoch - 46ms/step\n",
            "Epoch 2/200\n",
            "244/244 - 8s - loss: 7.1128 - accuracy: 0.0296 - 8s/epoch - 33ms/step\n",
            "Epoch 3/200\n",
            "244/244 - 9s - loss: 6.9728 - accuracy: 0.0342 - 9s/epoch - 35ms/step\n",
            "Epoch 4/200\n",
            "244/244 - 8s - loss: 6.8469 - accuracy: 0.0414 - 8s/epoch - 32ms/step\n",
            "Epoch 5/200\n",
            "244/244 - 9s - loss: 6.7022 - accuracy: 0.0447 - 9s/epoch - 36ms/step\n",
            "Epoch 6/200\n",
            "244/244 - 9s - loss: 6.5325 - accuracy: 0.0459 - 9s/epoch - 35ms/step\n",
            "Epoch 7/200\n",
            "244/244 - 8s - loss: 6.3381 - accuracy: 0.0516 - 8s/epoch - 33ms/step\n",
            "Epoch 8/200\n",
            "244/244 - 8s - loss: 6.1301 - accuracy: 0.0575 - 8s/epoch - 32ms/step\n",
            "Epoch 9/200\n",
            "244/244 - 8s - loss: 5.9258 - accuracy: 0.0605 - 8s/epoch - 32ms/step\n",
            "Epoch 10/200\n",
            "244/244 - 8s - loss: 5.7344 - accuracy: 0.0651 - 8s/epoch - 32ms/step\n",
            "Epoch 11/200\n",
            "244/244 - 8s - loss: 5.5518 - accuracy: 0.0695 - 8s/epoch - 32ms/step\n",
            "Epoch 12/200\n",
            "244/244 - 8s - loss: 5.3803 - accuracy: 0.0751 - 8s/epoch - 32ms/step\n",
            "Epoch 13/200\n",
            "244/244 - 8s - loss: 5.2200 - accuracy: 0.0768 - 8s/epoch - 32ms/step\n",
            "Epoch 14/200\n",
            "244/244 - 8s - loss: 5.0655 - accuracy: 0.0884 - 8s/epoch - 32ms/step\n",
            "Epoch 15/200\n",
            "244/244 - 8s - loss: 4.9168 - accuracy: 0.1012 - 8s/epoch - 33ms/step\n",
            "Epoch 16/200\n",
            "244/244 - 8s - loss: 4.7761 - accuracy: 0.1088 - 8s/epoch - 32ms/step\n",
            "Epoch 17/200\n",
            "244/244 - 8s - loss: 4.6393 - accuracy: 0.1256 - 8s/epoch - 32ms/step\n",
            "Epoch 18/200\n",
            "244/244 - 8s - loss: 4.5060 - accuracy: 0.1412 - 8s/epoch - 32ms/step\n",
            "Epoch 19/200\n",
            "244/244 - 8s - loss: 4.3777 - accuracy: 0.1548 - 8s/epoch - 32ms/step\n",
            "Epoch 20/200\n",
            "244/244 - 8s - loss: 4.2518 - accuracy: 0.1739 - 8s/epoch - 33ms/step\n",
            "Epoch 21/200\n",
            "244/244 - 8s - loss: 4.1315 - accuracy: 0.1872 - 8s/epoch - 32ms/step\n",
            "Epoch 22/200\n",
            "244/244 - 8s - loss: 4.0161 - accuracy: 0.2058 - 8s/epoch - 33ms/step\n",
            "Epoch 23/200\n",
            "244/244 - 8s - loss: 3.9039 - accuracy: 0.2254 - 8s/epoch - 32ms/step\n",
            "Epoch 24/200\n",
            "244/244 - 8s - loss: 3.7909 - accuracy: 0.2435 - 8s/epoch - 32ms/step\n",
            "Epoch 25/200\n",
            "244/244 - 8s - loss: 3.6859 - accuracy: 0.2690 - 8s/epoch - 32ms/step\n",
            "Epoch 26/200\n",
            "244/244 - 8s - loss: 3.5839 - accuracy: 0.2758 - 8s/epoch - 32ms/step\n",
            "Epoch 27/200\n",
            "244/244 - 8s - loss: 3.4853 - accuracy: 0.2962 - 8s/epoch - 32ms/step\n",
            "Epoch 28/200\n",
            "244/244 - 8s - loss: 3.3899 - accuracy: 0.3173 - 8s/epoch - 32ms/step\n",
            "Epoch 29/200\n",
            "244/244 - 8s - loss: 3.2982 - accuracy: 0.3286 - 8s/epoch - 32ms/step\n",
            "Epoch 30/200\n",
            "244/244 - 8s - loss: 3.2145 - accuracy: 0.3465 - 8s/epoch - 32ms/step\n",
            "Epoch 31/200\n",
            "244/244 - 8s - loss: 3.1280 - accuracy: 0.3599 - 8s/epoch - 32ms/step\n",
            "Epoch 32/200\n",
            "244/244 - 8s - loss: 3.0450 - accuracy: 0.3787 - 8s/epoch - 32ms/step\n",
            "Epoch 33/200\n",
            "244/244 - 8s - loss: 2.9645 - accuracy: 0.3956 - 8s/epoch - 33ms/step\n",
            "Epoch 34/200\n",
            "244/244 - 8s - loss: 2.8923 - accuracy: 0.4054 - 8s/epoch - 32ms/step\n",
            "Epoch 35/200\n",
            "244/244 - 12s - loss: 2.8163 - accuracy: 0.4260 - 12s/epoch - 49ms/step\n",
            "Epoch 36/200\n",
            "244/244 - 8s - loss: 2.7492 - accuracy: 0.4312 - 8s/epoch - 33ms/step\n",
            "Epoch 37/200\n",
            "244/244 - 8s - loss: 2.6781 - accuracy: 0.4491 - 8s/epoch - 32ms/step\n",
            "Epoch 38/200\n",
            "244/244 - 8s - loss: 2.6153 - accuracy: 0.4608 - 8s/epoch - 32ms/step\n",
            "Epoch 39/200\n",
            "244/244 - 8s - loss: 2.5492 - accuracy: 0.4692 - 8s/epoch - 32ms/step\n",
            "Epoch 40/200\n",
            "244/244 - 8s - loss: 2.4898 - accuracy: 0.4867 - 8s/epoch - 33ms/step\n",
            "Epoch 41/200\n",
            "244/244 - 8s - loss: 2.4264 - accuracy: 0.5029 - 8s/epoch - 32ms/step\n",
            "Epoch 42/200\n",
            "244/244 - 8s - loss: 2.3740 - accuracy: 0.5129 - 8s/epoch - 32ms/step\n",
            "Epoch 43/200\n",
            "244/244 - 8s - loss: 2.3157 - accuracy: 0.5195 - 8s/epoch - 32ms/step\n",
            "Epoch 44/200\n",
            "244/244 - 8s - loss: 2.2618 - accuracy: 0.5358 - 8s/epoch - 33ms/step\n",
            "Epoch 45/200\n",
            "244/244 - 8s - loss: 2.2077 - accuracy: 0.5438 - 8s/epoch - 32ms/step\n",
            "Epoch 46/200\n",
            "244/244 - 8s - loss: 2.1584 - accuracy: 0.5532 - 8s/epoch - 32ms/step\n",
            "Epoch 47/200\n",
            "244/244 - 8s - loss: 2.1079 - accuracy: 0.5603 - 8s/epoch - 32ms/step\n",
            "Epoch 48/200\n",
            "244/244 - 8s - loss: 2.0614 - accuracy: 0.5672 - 8s/epoch - 32ms/step\n",
            "Epoch 49/200\n",
            "244/244 - 8s - loss: 2.0110 - accuracy: 0.5818 - 8s/epoch - 32ms/step\n",
            "Epoch 50/200\n",
            "244/244 - 8s - loss: 1.9641 - accuracy: 0.5964 - 8s/epoch - 32ms/step\n",
            "Epoch 51/200\n",
            "244/244 - 8s - loss: 1.9220 - accuracy: 0.6039 - 8s/epoch - 32ms/step\n",
            "Epoch 52/200\n",
            "244/244 - 8s - loss: 1.8755 - accuracy: 0.6125 - 8s/epoch - 32ms/step\n",
            "Epoch 53/200\n",
            "244/244 - 8s - loss: 1.8320 - accuracy: 0.6248 - 8s/epoch - 32ms/step\n",
            "Epoch 54/200\n",
            "244/244 - 8s - loss: 1.7913 - accuracy: 0.6345 - 8s/epoch - 32ms/step\n",
            "Epoch 55/200\n",
            "244/244 - 8s - loss: 1.7505 - accuracy: 0.6431 - 8s/epoch - 32ms/step\n",
            "Epoch 56/200\n",
            "244/244 - 8s - loss: 1.7097 - accuracy: 0.6526 - 8s/epoch - 32ms/step\n",
            "Epoch 57/200\n",
            "244/244 - 8s - loss: 1.6711 - accuracy: 0.6604 - 8s/epoch - 33ms/step\n",
            "Epoch 58/200\n",
            "244/244 - 8s - loss: 1.6360 - accuracy: 0.6679 - 8s/epoch - 32ms/step\n",
            "Epoch 59/200\n",
            "244/244 - 8s - loss: 1.5973 - accuracy: 0.6745 - 8s/epoch - 33ms/step\n",
            "Epoch 60/200\n",
            "244/244 - 8s - loss: 1.5609 - accuracy: 0.6870 - 8s/epoch - 32ms/step\n",
            "Epoch 61/200\n",
            "244/244 - 8s - loss: 1.5248 - accuracy: 0.6872 - 8s/epoch - 32ms/step\n",
            "Epoch 62/200\n",
            "244/244 - 8s - loss: 1.4916 - accuracy: 0.6991 - 8s/epoch - 32ms/step\n",
            "Epoch 63/200\n",
            "244/244 - 8s - loss: 1.4799 - accuracy: 0.6990 - 8s/epoch - 32ms/step\n",
            "Epoch 64/200\n",
            "244/244 - 8s - loss: 1.4347 - accuracy: 0.7119 - 8s/epoch - 32ms/step\n",
            "Epoch 65/200\n",
            "244/244 - 8s - loss: 1.3937 - accuracy: 0.7192 - 8s/epoch - 32ms/step\n",
            "Epoch 66/200\n",
            "244/244 - 8s - loss: 1.3610 - accuracy: 0.7234 - 8s/epoch - 32ms/step\n",
            "Epoch 67/200\n",
            "244/244 - 8s - loss: 1.3290 - accuracy: 0.7343 - 8s/epoch - 32ms/step\n",
            "Epoch 68/200\n",
            "244/244 - 8s - loss: 1.3033 - accuracy: 0.7404 - 8s/epoch - 32ms/step\n",
            "Epoch 69/200\n",
            "244/244 - 8s - loss: 1.2723 - accuracy: 0.7432 - 8s/epoch - 33ms/step\n",
            "Epoch 70/200\n",
            "244/244 - 8s - loss: 1.2443 - accuracy: 0.7486 - 8s/epoch - 32ms/step\n",
            "Epoch 71/200\n",
            "244/244 - 8s - loss: 1.2169 - accuracy: 0.7580 - 8s/epoch - 33ms/step\n",
            "Epoch 72/200\n",
            "244/244 - 8s - loss: 1.1916 - accuracy: 0.7610 - 8s/epoch - 32ms/step\n",
            "Epoch 73/200\n",
            "244/244 - 8s - loss: 1.1670 - accuracy: 0.7650 - 8s/epoch - 32ms/step\n",
            "Epoch 74/200\n",
            "244/244 - 8s - loss: 1.1401 - accuracy: 0.7719 - 8s/epoch - 32ms/step\n",
            "Epoch 75/200\n",
            "244/244 - 8s - loss: 1.1111 - accuracy: 0.7789 - 8s/epoch - 32ms/step\n",
            "Epoch 76/200\n",
            "244/244 - 8s - loss: 1.0892 - accuracy: 0.7842 - 8s/epoch - 32ms/step\n",
            "Epoch 77/200\n",
            "244/244 - 8s - loss: 1.0636 - accuracy: 0.7879 - 8s/epoch - 32ms/step\n",
            "Epoch 78/200\n",
            "244/244 - 8s - loss: 1.0413 - accuracy: 0.7893 - 8s/epoch - 33ms/step\n",
            "Epoch 79/200\n",
            "244/244 - 8s - loss: 1.0173 - accuracy: 0.7964 - 8s/epoch - 32ms/step\n",
            "Epoch 80/200\n",
            "244/244 - 8s - loss: 0.9919 - accuracy: 0.8021 - 8s/epoch - 32ms/step\n",
            "Epoch 81/200\n",
            "244/244 - 8s - loss: 0.9718 - accuracy: 0.8030 - 8s/epoch - 32ms/step\n",
            "Epoch 82/200\n",
            "244/244 - 8s - loss: 0.9489 - accuracy: 0.8105 - 8s/epoch - 32ms/step\n",
            "Epoch 83/200\n",
            "244/244 - 8s - loss: 0.9280 - accuracy: 0.8112 - 8s/epoch - 32ms/step\n",
            "Epoch 84/200\n",
            "244/244 - 8s - loss: 0.9095 - accuracy: 0.8152 - 8s/epoch - 32ms/step\n",
            "Epoch 85/200\n",
            "244/244 - 8s - loss: 0.8869 - accuracy: 0.8208 - 8s/epoch - 32ms/step\n",
            "Epoch 86/200\n",
            "244/244 - 8s - loss: 0.8665 - accuracy: 0.8261 - 8s/epoch - 33ms/step\n",
            "Epoch 87/200\n",
            "244/244 - 8s - loss: 0.8461 - accuracy: 0.8308 - 8s/epoch - 32ms/step\n",
            "Epoch 88/200\n",
            "244/244 - 8s - loss: 0.8305 - accuracy: 0.8334 - 8s/epoch - 32ms/step\n",
            "Epoch 89/200\n",
            "244/244 - 8s - loss: 0.8127 - accuracy: 0.8378 - 8s/epoch - 32ms/step\n",
            "Epoch 90/200\n",
            "244/244 - 8s - loss: 0.7968 - accuracy: 0.8398 - 8s/epoch - 32ms/step\n",
            "Epoch 91/200\n",
            "244/244 - 8s - loss: 0.7804 - accuracy: 0.8411 - 8s/epoch - 32ms/step\n",
            "Epoch 92/200\n",
            "244/244 - 8s - loss: 0.7603 - accuracy: 0.8469 - 8s/epoch - 32ms/step\n",
            "Epoch 93/200\n",
            "244/244 - 8s - loss: 0.7441 - accuracy: 0.8519 - 8s/epoch - 32ms/step\n",
            "Epoch 94/200\n",
            "244/244 - 8s - loss: 0.7252 - accuracy: 0.8543 - 8s/epoch - 32ms/step\n",
            "Epoch 95/200\n",
            "244/244 - 8s - loss: 0.7093 - accuracy: 0.8579 - 8s/epoch - 32ms/step\n",
            "Epoch 96/200\n",
            "244/244 - 8s - loss: 0.6963 - accuracy: 0.8606 - 8s/epoch - 33ms/step\n",
            "Epoch 97/200\n",
            "244/244 - 8s - loss: 0.6846 - accuracy: 0.8625 - 8s/epoch - 32ms/step\n",
            "Epoch 98/200\n",
            "244/244 - 8s - loss: 0.6676 - accuracy: 0.8661 - 8s/epoch - 32ms/step\n",
            "Epoch 99/200\n",
            "244/244 - 8s - loss: 0.6576 - accuracy: 0.8690 - 8s/epoch - 32ms/step\n",
            "Epoch 100/200\n",
            "244/244 - 8s - loss: 0.6372 - accuracy: 0.8711 - 8s/epoch - 32ms/step\n",
            "Epoch 101/200\n",
            "244/244 - 8s - loss: 0.6263 - accuracy: 0.8727 - 8s/epoch - 33ms/step\n",
            "Epoch 102/200\n",
            "244/244 - 8s - loss: 0.6140 - accuracy: 0.8790 - 8s/epoch - 32ms/step\n",
            "Epoch 103/200\n",
            "244/244 - 8s - loss: 0.5991 - accuracy: 0.8803 - 8s/epoch - 32ms/step\n",
            "Epoch 104/200\n",
            "244/244 - 8s - loss: 0.5874 - accuracy: 0.8793 - 8s/epoch - 32ms/step\n",
            "Epoch 105/200\n",
            "244/244 - 8s - loss: 0.5765 - accuracy: 0.8840 - 8s/epoch - 32ms/step\n",
            "Epoch 106/200\n",
            "244/244 - 8s - loss: 0.5662 - accuracy: 0.8840 - 8s/epoch - 32ms/step\n",
            "Epoch 107/200\n",
            "244/244 - 8s - loss: 0.5530 - accuracy: 0.8863 - 8s/epoch - 32ms/step\n",
            "Epoch 108/200\n",
            "244/244 - 8s - loss: 0.5418 - accuracy: 0.8912 - 8s/epoch - 32ms/step\n",
            "Epoch 109/200\n",
            "244/244 - 8s - loss: 0.5297 - accuracy: 0.8906 - 8s/epoch - 33ms/step\n",
            "Epoch 110/200\n",
            "244/244 - 8s - loss: 0.5186 - accuracy: 0.8917 - 8s/epoch - 32ms/step\n",
            "Epoch 111/200\n",
            "244/244 - 8s - loss: 0.5081 - accuracy: 0.8934 - 8s/epoch - 32ms/step\n",
            "Epoch 112/200\n",
            "244/244 - 8s - loss: 0.5021 - accuracy: 0.8959 - 8s/epoch - 32ms/step\n",
            "Epoch 113/200\n",
            "244/244 - 8s - loss: 0.4914 - accuracy: 0.8971 - 8s/epoch - 32ms/step\n",
            "Epoch 114/200\n",
            "244/244 - 8s - loss: 0.4833 - accuracy: 0.8968 - 8s/epoch - 32ms/step\n",
            "Epoch 115/200\n",
            "244/244 - 8s - loss: 0.4781 - accuracy: 0.9003 - 8s/epoch - 32ms/step\n",
            "Epoch 116/200\n",
            "244/244 - 8s - loss: 0.4643 - accuracy: 0.9012 - 8s/epoch - 32ms/step\n",
            "Epoch 117/200\n",
            "244/244 - 8s - loss: 0.4547 - accuracy: 0.9038 - 8s/epoch - 32ms/step\n",
            "Epoch 118/200\n",
            "244/244 - 8s - loss: 0.4485 - accuracy: 0.9034 - 8s/epoch - 32ms/step\n",
            "Epoch 119/200\n",
            "244/244 - 8s - loss: 0.4389 - accuracy: 0.9047 - 8s/epoch - 32ms/step\n",
            "Epoch 120/200\n",
            "244/244 - 8s - loss: 0.4310 - accuracy: 0.9047 - 8s/epoch - 32ms/step\n",
            "Epoch 121/200\n",
            "244/244 - 8s - loss: 0.4264 - accuracy: 0.9057 - 8s/epoch - 32ms/step\n",
            "Epoch 122/200\n",
            "244/244 - 8s - loss: 0.4174 - accuracy: 0.9089 - 8s/epoch - 32ms/step\n",
            "Epoch 123/200\n",
            "244/244 - 8s - loss: 0.4118 - accuracy: 0.9086 - 8s/epoch - 32ms/step\n",
            "Epoch 124/200\n",
            "244/244 - 8s - loss: 0.4069 - accuracy: 0.9086 - 8s/epoch - 32ms/step\n",
            "Epoch 125/200\n",
            "244/244 - 8s - loss: 0.3986 - accuracy: 0.9091 - 8s/epoch - 32ms/step\n",
            "Epoch 126/200\n",
            "244/244 - 8s - loss: 0.3913 - accuracy: 0.9099 - 8s/epoch - 32ms/step\n",
            "Epoch 127/200\n",
            "244/244 - 8s - loss: 0.3869 - accuracy: 0.9127 - 8s/epoch - 33ms/step\n",
            "Epoch 128/200\n",
            "244/244 - 8s - loss: 0.3861 - accuracy: 0.9116 - 8s/epoch - 32ms/step\n",
            "Epoch 129/200\n",
            "244/244 - 8s - loss: 0.3916 - accuracy: 0.9082 - 8s/epoch - 32ms/step\n",
            "Epoch 130/200\n",
            "244/244 - 8s - loss: 0.3824 - accuracy: 0.9108 - 8s/epoch - 32ms/step\n",
            "Epoch 131/200\n",
            "244/244 - 8s - loss: 0.3693 - accuracy: 0.9132 - 8s/epoch - 32ms/step\n",
            "Epoch 132/200\n",
            "244/244 - 8s - loss: 0.3600 - accuracy: 0.9125 - 8s/epoch - 32ms/step\n",
            "Epoch 133/200\n",
            "244/244 - 8s - loss: 0.3564 - accuracy: 0.9131 - 8s/epoch - 32ms/step\n",
            "Epoch 134/200\n",
            "244/244 - 8s - loss: 0.3519 - accuracy: 0.9152 - 8s/epoch - 32ms/step\n",
            "Epoch 135/200\n",
            "244/244 - 8s - loss: 0.3472 - accuracy: 0.9144 - 8s/epoch - 32ms/step\n",
            "Epoch 136/200\n",
            "244/244 - 8s - loss: 0.3457 - accuracy: 0.9138 - 8s/epoch - 32ms/step\n",
            "Epoch 137/200\n",
            "244/244 - 8s - loss: 0.3401 - accuracy: 0.9166 - 8s/epoch - 32ms/step\n",
            "Epoch 138/200\n",
            "244/244 - 8s - loss: 0.3379 - accuracy: 0.9155 - 8s/epoch - 32ms/step\n",
            "Epoch 139/200\n",
            "244/244 - 8s - loss: 0.3352 - accuracy: 0.9139 - 8s/epoch - 32ms/step\n",
            "Epoch 140/200\n",
            "244/244 - 8s - loss: 0.3317 - accuracy: 0.9155 - 8s/epoch - 32ms/step\n",
            "Epoch 141/200\n",
            "244/244 - 8s - loss: 0.3283 - accuracy: 0.9140 - 8s/epoch - 32ms/step\n",
            "Epoch 142/200\n",
            "244/244 - 8s - loss: 0.3246 - accuracy: 0.9167 - 8s/epoch - 32ms/step\n",
            "Epoch 143/200\n",
            "244/244 - 8s - loss: 0.3215 - accuracy: 0.9154 - 8s/epoch - 33ms/step\n",
            "Epoch 144/200\n",
            "244/244 - 8s - loss: 0.3177 - accuracy: 0.9172 - 8s/epoch - 32ms/step\n",
            "Epoch 145/200\n",
            "244/244 - 8s - loss: 0.3195 - accuracy: 0.9168 - 8s/epoch - 32ms/step\n",
            "Epoch 146/200\n",
            "244/244 - 8s - loss: 0.3173 - accuracy: 0.9158 - 8s/epoch - 32ms/step\n",
            "Epoch 147/200\n",
            "244/244 - 8s - loss: 0.3110 - accuracy: 0.9177 - 8s/epoch - 32ms/step\n",
            "Epoch 148/200\n",
            "244/244 - 8s - loss: 0.3078 - accuracy: 0.9159 - 8s/epoch - 32ms/step\n",
            "Epoch 149/200\n",
            "244/244 - 8s - loss: 0.3056 - accuracy: 0.9173 - 8s/epoch - 32ms/step\n",
            "Epoch 150/200\n",
            "244/244 - 8s - loss: 0.3053 - accuracy: 0.9158 - 8s/epoch - 32ms/step\n",
            "Epoch 151/200\n",
            "244/244 - 8s - loss: 0.3338 - accuracy: 0.9129 - 8s/epoch - 32ms/step\n",
            "Epoch 152/200\n",
            "244/244 - 8s - loss: 0.3182 - accuracy: 0.9153 - 8s/epoch - 32ms/step\n",
            "Epoch 153/200\n",
            "244/244 - 8s - loss: 0.3004 - accuracy: 0.9168 - 8s/epoch - 32ms/step\n",
            "Epoch 154/200\n",
            "244/244 - 8s - loss: 0.2958 - accuracy: 0.9162 - 8s/epoch - 32ms/step\n",
            "Epoch 155/200\n",
            "244/244 - 8s - loss: 0.2938 - accuracy: 0.9173 - 8s/epoch - 32ms/step\n",
            "Epoch 156/200\n",
            "244/244 - 8s - loss: 0.2926 - accuracy: 0.9154 - 8s/epoch - 32ms/step\n",
            "Epoch 157/200\n",
            "244/244 - 8s - loss: 0.2919 - accuracy: 0.9153 - 8s/epoch - 32ms/step\n",
            "Epoch 158/200\n",
            "244/244 - 8s - loss: 0.2907 - accuracy: 0.9152 - 8s/epoch - 32ms/step\n",
            "Epoch 159/200\n",
            "244/244 - 8s - loss: 0.2905 - accuracy: 0.9159 - 8s/epoch - 33ms/step\n",
            "Epoch 160/200\n",
            "244/244 - 8s - loss: 0.2894 - accuracy: 0.9153 - 8s/epoch - 32ms/step\n",
            "Epoch 161/200\n",
            "244/244 - 8s - loss: 0.2884 - accuracy: 0.9153 - 8s/epoch - 32ms/step\n",
            "Epoch 162/200\n",
            "244/244 - 8s - loss: 0.2870 - accuracy: 0.9176 - 8s/epoch - 32ms/step\n",
            "Epoch 163/200\n",
            "244/244 - 8s - loss: 0.2850 - accuracy: 0.9149 - 8s/epoch - 32ms/step\n",
            "Epoch 164/200\n",
            "244/244 - 8s - loss: 0.2839 - accuracy: 0.9170 - 8s/epoch - 32ms/step\n",
            "Epoch 165/200\n",
            "244/244 - 8s - loss: 0.2833 - accuracy: 0.9179 - 8s/epoch - 32ms/step\n",
            "Epoch 166/200\n",
            "244/244 - 8s - loss: 0.6865 - accuracy: 0.8326 - 8s/epoch - 32ms/step\n",
            "Epoch 167/200\n",
            "244/244 - 8s - loss: 0.6156 - accuracy: 0.8443 - 8s/epoch - 32ms/step\n",
            "Epoch 168/200\n",
            "244/244 - 8s - loss: 0.3708 - accuracy: 0.9070 - 8s/epoch - 32ms/step\n",
            "Epoch 169/200\n",
            "244/244 - 8s - loss: 0.3288 - accuracy: 0.9149 - 8s/epoch - 32ms/step\n",
            "Epoch 170/200\n",
            "244/244 - 8s - loss: 0.3131 - accuracy: 0.9146 - 8s/epoch - 32ms/step\n",
            "Epoch 171/200\n",
            "244/244 - 8s - loss: 0.3041 - accuracy: 0.9179 - 8s/epoch - 32ms/step\n",
            "Epoch 172/200\n",
            "244/244 - 8s - loss: 0.2990 - accuracy: 0.9179 - 8s/epoch - 32ms/step\n",
            "Epoch 173/200\n",
            "244/244 - 8s - loss: 0.2971 - accuracy: 0.9161 - 8s/epoch - 32ms/step\n",
            "Epoch 174/200\n",
            "244/244 - 8s - loss: 0.2925 - accuracy: 0.9176 - 8s/epoch - 32ms/step\n",
            "Epoch 175/200\n",
            "244/244 - 8s - loss: 0.2901 - accuracy: 0.9166 - 8s/epoch - 32ms/step\n",
            "Epoch 176/200\n",
            "244/244 - 8s - loss: 0.2874 - accuracy: 0.9179 - 8s/epoch - 32ms/step\n",
            "Epoch 177/200\n",
            "244/244 - 8s - loss: 0.2851 - accuracy: 0.9168 - 8s/epoch - 32ms/step\n",
            "Epoch 178/200\n",
            "244/244 - 8s - loss: 0.2843 - accuracy: 0.9171 - 8s/epoch - 32ms/step\n",
            "Epoch 179/200\n",
            "244/244 - 8s - loss: 0.2820 - accuracy: 0.9164 - 8s/epoch - 32ms/step\n",
            "Epoch 180/200\n",
            "244/244 - 8s - loss: 0.2836 - accuracy: 0.9173 - 8s/epoch - 32ms/step\n",
            "Epoch 181/200\n",
            "244/244 - 8s - loss: 0.2817 - accuracy: 0.9163 - 8s/epoch - 32ms/step\n",
            "Epoch 182/200\n",
            "244/244 - 8s - loss: 0.2825 - accuracy: 0.9173 - 8s/epoch - 34ms/step\n",
            "Epoch 183/200\n",
            "244/244 - 8s - loss: 0.2822 - accuracy: 0.9155 - 8s/epoch - 32ms/step\n",
            "Epoch 184/200\n",
            "244/244 - 8s - loss: 0.2805 - accuracy: 0.9179 - 8s/epoch - 32ms/step\n",
            "Epoch 185/200\n",
            "244/244 - 8s - loss: 0.2775 - accuracy: 0.9166 - 8s/epoch - 32ms/step\n",
            "Epoch 186/200\n",
            "244/244 - 8s - loss: 0.2770 - accuracy: 0.9150 - 8s/epoch - 32ms/step\n",
            "Epoch 187/200\n",
            "244/244 - 8s - loss: 0.2756 - accuracy: 0.9173 - 8s/epoch - 32ms/step\n",
            "Epoch 188/200\n",
            "244/244 - 8s - loss: 0.2743 - accuracy: 0.9170 - 8s/epoch - 32ms/step\n",
            "Epoch 189/200\n",
            "244/244 - 8s - loss: 0.2732 - accuracy: 0.9168 - 8s/epoch - 32ms/step\n",
            "Epoch 190/200\n",
            "244/244 - 8s - loss: 0.2723 - accuracy: 0.9168 - 8s/epoch - 32ms/step\n",
            "Epoch 191/200\n",
            "244/244 - 8s - loss: 0.2732 - accuracy: 0.9166 - 8s/epoch - 32ms/step\n",
            "Epoch 192/200\n",
            "244/244 - 8s - loss: 0.2708 - accuracy: 0.9179 - 8s/epoch - 32ms/step\n",
            "Epoch 193/200\n",
            "244/244 - 8s - loss: 0.2738 - accuracy: 0.9163 - 8s/epoch - 32ms/step\n",
            "Epoch 194/200\n",
            "244/244 - 8s - loss: 0.3272 - accuracy: 0.9081 - 8s/epoch - 32ms/step\n",
            "Epoch 195/200\n",
            "244/244 - 8s - loss: 0.3129 - accuracy: 0.9100 - 8s/epoch - 32ms/step\n",
            "Epoch 196/200\n",
            "244/244 - 8s - loss: 0.2782 - accuracy: 0.9155 - 8s/epoch - 32ms/step\n",
            "Epoch 197/200\n",
            "244/244 - 8s - loss: 0.2702 - accuracy: 0.9171 - 8s/epoch - 32ms/step\n",
            "Epoch 198/200\n",
            "244/244 - 8s - loss: 0.2686 - accuracy: 0.9153 - 8s/epoch - 32ms/step\n",
            "Epoch 199/200\n",
            "244/244 - 8s - loss: 0.2667 - accuracy: 0.9171 - 8s/epoch - 32ms/step\n",
            "Epoch 200/200\n",
            "244/244 - 8s - loss: 0.2668 - accuracy: 0.9170 - 8s/epoch - 32ms/step\n"
          ]
        },
        {
          "output_type": "execute_result",
          "data": {
            "text/plain": [
              "<keras.callbacks.History at 0x7fac6bb32c10>"
            ]
          },
          "metadata": {},
          "execution_count": 18
        }
      ]
    },
    {
      "cell_type": "code",
      "source": [
        "def sentence_generation(model, tokenizer, current_word, n): # 모델, 토크나이저, 현재 단어, 반복할 횟수\n",
        "    init_word = current_word\n",
        "    sentence = ''\n",
        "\n",
        "    # n번 반복\n",
        "    for _ in range(n):\n",
        "        encoded = tokenizer.texts_to_sequences([current_word])[0]\n",
        "        encoded = pad_sequences([encoded], maxlen=max_len-1, padding='pre')\n",
        "\n",
        "        # 입력한 X(현재 단어)에 대해서 y를 예측하고 y(예측한 단어)를 result에 저장.\n",
        "        result = model.predict(encoded, verbose=0)\n",
        "        result = np.argmax(result, axis=1)\n",
        "\n",
        "        for word, index in tokenizer.word_index.items(): \n",
        "            # 만약 예측한 단어와 인덱스와 동일한 단어가 있다면\n",
        "            if index == result:\n",
        "                break\n",
        "\n",
        "        # 현재 단어 + ' ' + 예측 단어를 현재 단어로 변경\n",
        "        current_word = current_word + ' '  + word\n",
        "\n",
        "        # 예측 단어를 문장에 저장\n",
        "        sentence = sentence + ' ' + word\n",
        "\n",
        "    sentence = init_word + sentence\n",
        "    return sentence"
      ],
      "metadata": {
        "id": "SnPi8ykcv-iH"
      },
      "execution_count": 19,
      "outputs": []
    },
    {
      "cell_type": "code",
      "source": [
        "print(sentence_generation(model, tokenizer, 'i', 10))"
      ],
      "metadata": {
        "colab": {
          "base_uri": "https://localhost:8080/"
        },
        "id": "Qd6eu99p2H8D",
        "outputId": "5a68e983-868a-4218-d067-a3ab777aa8e9"
      },
      "execution_count": 20,
      "outputs": [
        {
          "output_type": "stream",
          "name": "stdout",
          "text": [
            "i disapprove of school vouchers can i still apply for them\n"
          ]
        }
      ]
    },
    {
      "cell_type": "code",
      "source": [
        "print(sentence_generation(model, tokenizer, 'how', 10))"
      ],
      "metadata": {
        "colab": {
          "base_uri": "https://localhost:8080/"
        },
        "id": "PLVjr3QM2IpG",
        "outputId": "f5f0ccfa-ec03-4971-966c-854113a9ec47"
      },
      "execution_count": 21,
      "outputs": [
        {
          "output_type": "stream",
          "name": "stdout",
          "text": [
            "how to make a crossword puzzle economy housing sticker by trauma\n"
          ]
        }
      ]
    },
    {
      "cell_type": "code",
      "source": [],
      "metadata": {
        "id": "srhj4nSM2KX8"
      },
      "execution_count": null,
      "outputs": []
    }
  ]
}