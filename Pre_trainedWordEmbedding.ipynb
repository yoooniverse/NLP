{
  "nbformat": 4,
  "nbformat_minor": 0,
  "metadata": {
    "colab": {
      "provenance": [],
      "mount_file_id": "11dMeirvEops0HruO66kNNEb6txUDrYYh",
      "authorship_tag": "ABX9TyNKqVnkp8W9UV6Nw5+MsgCb",
      "include_colab_link": true
    },
    "kernelspec": {
      "name": "python3",
      "display_name": "Python 3"
    },
    "language_info": {
      "name": "python"
    },
    "accelerator": "GPU",
    "gpuClass": "standard"
  },
  "cells": [
    {
      "cell_type": "markdown",
      "metadata": {
        "id": "view-in-github",
        "colab_type": "text"
      },
      "source": [
        "<a href=\"https://colab.research.google.com/github/yoooniverse/NLP/blob/main/Pre_trainedWordEmbedding.ipynb\" target=\"_parent\"><img src=\"https://colab.research.google.com/assets/colab-badge.svg\" alt=\"Open In Colab\"/></a>"
      ]
    },
    {
      "cell_type": "markdown",
      "source": [
        "1. Keras Embedding layer"
      ],
      "metadata": {
        "id": "UH9ELvPpG_Fu"
      }
    },
    {
      "cell_type": "code",
      "execution_count": null,
      "metadata": {
        "id": "rEbaP-XYG0Bc"
      },
      "outputs": [],
      "source": [
        "vocab_size = 20000\n",
        "output_dim = 128\n",
        "input_length = 500\n",
        "\n",
        "v = Embedding(vocab_size, output_dim, input_length=input_length)"
      ]
    },
    {
      "cell_type": "markdown",
      "source": [
        "vocab_size = 텍스트 데이터의 전체 단어 집합의 크기입니다.  \n",
        "output_dim = 워드 임베딩 후의 임베딩 벡터의 차원입니다.  \n",
        "input_length = 입력 시퀀스의 길이입니다. 만약 갖고있는 각 샘플의 길이가 500개이라면 이 값은 500입니다.  \n",
        "\n"
      ],
      "metadata": {
        "id": "sZRsiFhgHH5M"
      }
    },
    {
      "cell_type": "code",
      "source": [
        "import numpy as np\n",
        "from tensorflow.keras.preprocessing.text import Tokenizer\n",
        "from tensorflow.keras.preprocessing.sequence import pad_sequences\n",
        "\n",
        "sentences = ['nice great best amazing', 'stop lies', 'pitiful nerd', 'excellent work', 'supreme quality', 'bad', 'highly respectable']\n",
        "y_train = [1, 0, 0, 1, 1, 0, 1]"
      ],
      "metadata": {
        "id": "tPsQVKrGHIx2"
      },
      "execution_count": 1,
      "outputs": []
    },
    {
      "cell_type": "code",
      "source": [
        "tokenizer = Tokenizer()\n",
        "tokenizer.fit_on_texts(sentences)\n",
        "vocab_size = len(tokenizer.word_index) + 1\n",
        "print('word set :',vocab_size)"
      ],
      "metadata": {
        "colab": {
          "base_uri": "https://localhost:8080/"
        },
        "id": "Zr-FE1a0Hp1_",
        "outputId": "60b9ceef-45ab-44bb-b198-55a64ceeff42"
      },
      "execution_count": 2,
      "outputs": [
        {
          "output_type": "stream",
          "name": "stdout",
          "text": [
            "word set : 16\n"
          ]
        }
      ]
    },
    {
      "cell_type": "code",
      "source": [
        "X_encoded = tokenizer.texts_to_sequences(sentences)\n",
        "print('integer encoding result :', X_encoded)"
      ],
      "metadata": {
        "colab": {
          "base_uri": "https://localhost:8080/"
        },
        "id": "RxCrJuRDH6gQ",
        "outputId": "f5d08a37-d644-4eea-e220-266d155717e5"
      },
      "execution_count": 3,
      "outputs": [
        {
          "output_type": "stream",
          "name": "stdout",
          "text": [
            "integer encoding result : [[1, 2, 3, 4], [5, 6], [7, 8], [9, 10], [11, 12], [13], [14, 15]]\n"
          ]
        }
      ]
    },
    {
      "cell_type": "code",
      "source": [
        "max_len = max(len(l) for l in X_encoded)\n",
        "print('longest length :', max_len)"
      ],
      "metadata": {
        "colab": {
          "base_uri": "https://localhost:8080/"
        },
        "id": "iiiKY7DtIFJD",
        "outputId": "8061827f-0d0a-420c-b065-8a2488c29333"
      },
      "execution_count": 4,
      "outputs": [
        {
          "output_type": "stream",
          "name": "stdout",
          "text": [
            "longest length : 4\n"
          ]
        }
      ]
    },
    {
      "cell_type": "code",
      "source": [
        "X_train = pad_sequences(X_encoded, maxlen=max_len, padding='post')\n",
        "y_train = np.array(y_train)\n",
        "print('padding result :')\n",
        "print(X_train)"
      ],
      "metadata": {
        "colab": {
          "base_uri": "https://localhost:8080/"
        },
        "id": "pLx3n4_fIQqd",
        "outputId": "fe4f3020-8291-420f-9b97-2b6916041ad6"
      },
      "execution_count": 5,
      "outputs": [
        {
          "output_type": "stream",
          "name": "stdout",
          "text": [
            "padding result :\n",
            "[[ 1  2  3  4]\n",
            " [ 5  6  0  0]\n",
            " [ 7  8  0  0]\n",
            " [ 9 10  0  0]\n",
            " [11 12  0  0]\n",
            " [13  0  0  0]\n",
            " [14 15  0  0]]\n"
          ]
        }
      ]
    },
    {
      "cell_type": "markdown",
      "source": [
        "build binary classification model"
      ],
      "metadata": {
        "id": "9qOinRQZIhiR"
      }
    },
    {
      "cell_type": "markdown",
      "source": [
        "output_dim : 1  \n",
        "activation : sigmoid  \n",
        "loss : binary_crossentropy  \n",
        "epoch : 100"
      ],
      "metadata": {
        "id": "sQ5p---ZIlWs"
      }
    },
    {
      "cell_type": "code",
      "source": [
        "from tensorflow.keras.models import Sequential\n",
        "from tensorflow.keras.layers import Dense, Embedding, Flatten\n",
        "\n",
        "embedding_dim = 4\n",
        "\n",
        "model = Sequential()\n",
        "model.add(Embedding(vocab_size, embedding_dim, input_length=max_len))\n",
        "model.add(Flatten())\n",
        "model.add(Dense(1, activation='sigmoid'))\n",
        "\n",
        "model.compile(optimizer='adam', loss='binary_crossentropy', metrics=['acc'])\n",
        "model.fit(X_train, y_train, epochs=100, verbose=2)"
      ],
      "metadata": {
        "colab": {
          "base_uri": "https://localhost:8080/"
        },
        "id": "EbLRUxRLIc54",
        "outputId": "06833f1f-7f86-4720-811d-d9cc7874c732"
      },
      "execution_count": 6,
      "outputs": [
        {
          "output_type": "stream",
          "name": "stdout",
          "text": [
            "Epoch 1/100\n",
            "1/1 - 2s - loss: 0.6901 - acc: 0.5714 - 2s/epoch - 2s/step\n",
            "Epoch 2/100\n",
            "1/1 - 0s - loss: 0.6881 - acc: 0.5714 - 7ms/epoch - 7ms/step\n",
            "Epoch 3/100\n",
            "1/1 - 0s - loss: 0.6860 - acc: 0.5714 - 6ms/epoch - 6ms/step\n",
            "Epoch 4/100\n",
            "1/1 - 0s - loss: 0.6840 - acc: 0.7143 - 7ms/epoch - 7ms/step\n",
            "Epoch 5/100\n",
            "1/1 - 0s - loss: 0.6820 - acc: 0.7143 - 6ms/epoch - 6ms/step\n",
            "Epoch 6/100\n",
            "1/1 - 0s - loss: 0.6800 - acc: 0.8571 - 6ms/epoch - 6ms/step\n",
            "Epoch 7/100\n",
            "1/1 - 0s - loss: 0.6780 - acc: 1.0000 - 7ms/epoch - 7ms/step\n",
            "Epoch 8/100\n",
            "1/1 - 0s - loss: 0.6760 - acc: 1.0000 - 6ms/epoch - 6ms/step\n",
            "Epoch 9/100\n",
            "1/1 - 0s - loss: 0.6740 - acc: 1.0000 - 6ms/epoch - 6ms/step\n",
            "Epoch 10/100\n",
            "1/1 - 0s - loss: 0.6720 - acc: 1.0000 - 6ms/epoch - 6ms/step\n",
            "Epoch 11/100\n",
            "1/1 - 0s - loss: 0.6700 - acc: 1.0000 - 6ms/epoch - 6ms/step\n",
            "Epoch 12/100\n",
            "1/1 - 0s - loss: 0.6680 - acc: 1.0000 - 7ms/epoch - 7ms/step\n",
            "Epoch 13/100\n",
            "1/1 - 0s - loss: 0.6660 - acc: 1.0000 - 6ms/epoch - 6ms/step\n",
            "Epoch 14/100\n",
            "1/1 - 0s - loss: 0.6640 - acc: 1.0000 - 6ms/epoch - 6ms/step\n",
            "Epoch 15/100\n",
            "1/1 - 0s - loss: 0.6620 - acc: 1.0000 - 6ms/epoch - 6ms/step\n",
            "Epoch 16/100\n",
            "1/1 - 0s - loss: 0.6600 - acc: 1.0000 - 8ms/epoch - 8ms/step\n",
            "Epoch 17/100\n",
            "1/1 - 0s - loss: 0.6580 - acc: 1.0000 - 6ms/epoch - 6ms/step\n",
            "Epoch 18/100\n",
            "1/1 - 0s - loss: 0.6560 - acc: 1.0000 - 6ms/epoch - 6ms/step\n",
            "Epoch 19/100\n",
            "1/1 - 0s - loss: 0.6540 - acc: 1.0000 - 7ms/epoch - 7ms/step\n",
            "Epoch 20/100\n",
            "1/1 - 0s - loss: 0.6520 - acc: 1.0000 - 6ms/epoch - 6ms/step\n",
            "Epoch 21/100\n",
            "1/1 - 0s - loss: 0.6500 - acc: 1.0000 - 6ms/epoch - 6ms/step\n",
            "Epoch 22/100\n",
            "1/1 - 0s - loss: 0.6480 - acc: 1.0000 - 6ms/epoch - 6ms/step\n",
            "Epoch 23/100\n",
            "1/1 - 0s - loss: 0.6460 - acc: 1.0000 - 5ms/epoch - 5ms/step\n",
            "Epoch 24/100\n",
            "1/1 - 0s - loss: 0.6440 - acc: 1.0000 - 5ms/epoch - 5ms/step\n",
            "Epoch 25/100\n",
            "1/1 - 0s - loss: 0.6420 - acc: 1.0000 - 6ms/epoch - 6ms/step\n",
            "Epoch 26/100\n",
            "1/1 - 0s - loss: 0.6399 - acc: 1.0000 - 6ms/epoch - 6ms/step\n",
            "Epoch 27/100\n",
            "1/1 - 0s - loss: 0.6379 - acc: 1.0000 - 6ms/epoch - 6ms/step\n",
            "Epoch 28/100\n",
            "1/1 - 0s - loss: 0.6359 - acc: 1.0000 - 6ms/epoch - 6ms/step\n",
            "Epoch 29/100\n",
            "1/1 - 0s - loss: 0.6338 - acc: 1.0000 - 6ms/epoch - 6ms/step\n",
            "Epoch 30/100\n",
            "1/1 - 0s - loss: 0.6318 - acc: 1.0000 - 6ms/epoch - 6ms/step\n",
            "Epoch 31/100\n",
            "1/1 - 0s - loss: 0.6297 - acc: 1.0000 - 6ms/epoch - 6ms/step\n",
            "Epoch 32/100\n",
            "1/1 - 0s - loss: 0.6277 - acc: 1.0000 - 6ms/epoch - 6ms/step\n",
            "Epoch 33/100\n",
            "1/1 - 0s - loss: 0.6256 - acc: 1.0000 - 6ms/epoch - 6ms/step\n",
            "Epoch 34/100\n",
            "1/1 - 0s - loss: 0.6236 - acc: 1.0000 - 5ms/epoch - 5ms/step\n",
            "Epoch 35/100\n",
            "1/1 - 0s - loss: 0.6215 - acc: 1.0000 - 6ms/epoch - 6ms/step\n",
            "Epoch 36/100\n",
            "1/1 - 0s - loss: 0.6194 - acc: 1.0000 - 6ms/epoch - 6ms/step\n",
            "Epoch 37/100\n",
            "1/1 - 0s - loss: 0.6173 - acc: 1.0000 - 6ms/epoch - 6ms/step\n",
            "Epoch 38/100\n",
            "1/1 - 0s - loss: 0.6153 - acc: 1.0000 - 6ms/epoch - 6ms/step\n",
            "Epoch 39/100\n",
            "1/1 - 0s - loss: 0.6132 - acc: 1.0000 - 5ms/epoch - 5ms/step\n",
            "Epoch 40/100\n",
            "1/1 - 0s - loss: 0.6111 - acc: 1.0000 - 6ms/epoch - 6ms/step\n",
            "Epoch 41/100\n",
            "1/1 - 0s - loss: 0.6090 - acc: 1.0000 - 6ms/epoch - 6ms/step\n",
            "Epoch 42/100\n",
            "1/1 - 0s - loss: 0.6069 - acc: 1.0000 - 7ms/epoch - 7ms/step\n",
            "Epoch 43/100\n",
            "1/1 - 0s - loss: 0.6048 - acc: 1.0000 - 7ms/epoch - 7ms/step\n",
            "Epoch 44/100\n",
            "1/1 - 0s - loss: 0.6026 - acc: 1.0000 - 6ms/epoch - 6ms/step\n",
            "Epoch 45/100\n",
            "1/1 - 0s - loss: 0.6005 - acc: 1.0000 - 6ms/epoch - 6ms/step\n",
            "Epoch 46/100\n",
            "1/1 - 0s - loss: 0.5984 - acc: 1.0000 - 6ms/epoch - 6ms/step\n",
            "Epoch 47/100\n",
            "1/1 - 0s - loss: 0.5962 - acc: 1.0000 - 6ms/epoch - 6ms/step\n",
            "Epoch 48/100\n",
            "1/1 - 0s - loss: 0.5941 - acc: 1.0000 - 6ms/epoch - 6ms/step\n",
            "Epoch 49/100\n",
            "1/1 - 0s - loss: 0.5920 - acc: 1.0000 - 6ms/epoch - 6ms/step\n",
            "Epoch 50/100\n",
            "1/1 - 0s - loss: 0.5898 - acc: 1.0000 - 6ms/epoch - 6ms/step\n",
            "Epoch 51/100\n",
            "1/1 - 0s - loss: 0.5877 - acc: 1.0000 - 6ms/epoch - 6ms/step\n",
            "Epoch 52/100\n",
            "1/1 - 0s - loss: 0.5855 - acc: 1.0000 - 8ms/epoch - 8ms/step\n",
            "Epoch 53/100\n",
            "1/1 - 0s - loss: 0.5833 - acc: 1.0000 - 11ms/epoch - 11ms/step\n",
            "Epoch 54/100\n",
            "1/1 - 0s - loss: 0.5812 - acc: 1.0000 - 7ms/epoch - 7ms/step\n",
            "Epoch 55/100\n",
            "1/1 - 0s - loss: 0.5790 - acc: 1.0000 - 7ms/epoch - 7ms/step\n",
            "Epoch 56/100\n",
            "1/1 - 0s - loss: 0.5768 - acc: 1.0000 - 6ms/epoch - 6ms/step\n",
            "Epoch 57/100\n",
            "1/1 - 0s - loss: 0.5746 - acc: 1.0000 - 6ms/epoch - 6ms/step\n",
            "Epoch 58/100\n",
            "1/1 - 0s - loss: 0.5724 - acc: 1.0000 - 6ms/epoch - 6ms/step\n",
            "Epoch 59/100\n",
            "1/1 - 0s - loss: 0.5702 - acc: 1.0000 - 6ms/epoch - 6ms/step\n",
            "Epoch 60/100\n",
            "1/1 - 0s - loss: 0.5680 - acc: 1.0000 - 6ms/epoch - 6ms/step\n",
            "Epoch 61/100\n",
            "1/1 - 0s - loss: 0.5658 - acc: 1.0000 - 14ms/epoch - 14ms/step\n",
            "Epoch 62/100\n",
            "1/1 - 0s - loss: 0.5636 - acc: 1.0000 - 6ms/epoch - 6ms/step\n",
            "Epoch 63/100\n",
            "1/1 - 0s - loss: 0.5614 - acc: 1.0000 - 6ms/epoch - 6ms/step\n",
            "Epoch 64/100\n",
            "1/1 - 0s - loss: 0.5592 - acc: 1.0000 - 6ms/epoch - 6ms/step\n",
            "Epoch 65/100\n",
            "1/1 - 0s - loss: 0.5570 - acc: 1.0000 - 9ms/epoch - 9ms/step\n",
            "Epoch 66/100\n",
            "1/1 - 0s - loss: 0.5547 - acc: 1.0000 - 6ms/epoch - 6ms/step\n",
            "Epoch 67/100\n",
            "1/1 - 0s - loss: 0.5525 - acc: 1.0000 - 6ms/epoch - 6ms/step\n",
            "Epoch 68/100\n",
            "1/1 - 0s - loss: 0.5503 - acc: 1.0000 - 7ms/epoch - 7ms/step\n",
            "Epoch 69/100\n",
            "1/1 - 0s - loss: 0.5480 - acc: 1.0000 - 6ms/epoch - 6ms/step\n",
            "Epoch 70/100\n",
            "1/1 - 0s - loss: 0.5458 - acc: 1.0000 - 6ms/epoch - 6ms/step\n",
            "Epoch 71/100\n",
            "1/1 - 0s - loss: 0.5435 - acc: 1.0000 - 6ms/epoch - 6ms/step\n",
            "Epoch 72/100\n",
            "1/1 - 0s - loss: 0.5413 - acc: 1.0000 - 7ms/epoch - 7ms/step\n",
            "Epoch 73/100\n",
            "1/1 - 0s - loss: 0.5390 - acc: 1.0000 - 6ms/epoch - 6ms/step\n",
            "Epoch 74/100\n",
            "1/1 - 0s - loss: 0.5368 - acc: 1.0000 - 6ms/epoch - 6ms/step\n",
            "Epoch 75/100\n",
            "1/1 - 0s - loss: 0.5345 - acc: 1.0000 - 6ms/epoch - 6ms/step\n",
            "Epoch 76/100\n",
            "1/1 - 0s - loss: 0.5323 - acc: 1.0000 - 6ms/epoch - 6ms/step\n",
            "Epoch 77/100\n",
            "1/1 - 0s - loss: 0.5300 - acc: 1.0000 - 7ms/epoch - 7ms/step\n",
            "Epoch 78/100\n",
            "1/1 - 0s - loss: 0.5278 - acc: 1.0000 - 7ms/epoch - 7ms/step\n",
            "Epoch 79/100\n",
            "1/1 - 0s - loss: 0.5255 - acc: 1.0000 - 7ms/epoch - 7ms/step\n",
            "Epoch 80/100\n",
            "1/1 - 0s - loss: 0.5232 - acc: 1.0000 - 6ms/epoch - 6ms/step\n",
            "Epoch 81/100\n",
            "1/1 - 0s - loss: 0.5209 - acc: 1.0000 - 6ms/epoch - 6ms/step\n",
            "Epoch 82/100\n",
            "1/1 - 0s - loss: 0.5187 - acc: 1.0000 - 6ms/epoch - 6ms/step\n",
            "Epoch 83/100\n",
            "1/1 - 0s - loss: 0.5164 - acc: 1.0000 - 6ms/epoch - 6ms/step\n",
            "Epoch 84/100\n",
            "1/1 - 0s - loss: 0.5141 - acc: 1.0000 - 6ms/epoch - 6ms/step\n",
            "Epoch 85/100\n",
            "1/1 - 0s - loss: 0.5118 - acc: 1.0000 - 6ms/epoch - 6ms/step\n",
            "Epoch 86/100\n",
            "1/1 - 0s - loss: 0.5096 - acc: 1.0000 - 6ms/epoch - 6ms/step\n",
            "Epoch 87/100\n",
            "1/1 - 0s - loss: 0.5073 - acc: 1.0000 - 6ms/epoch - 6ms/step\n",
            "Epoch 88/100\n",
            "1/1 - 0s - loss: 0.5050 - acc: 1.0000 - 10ms/epoch - 10ms/step\n",
            "Epoch 89/100\n",
            "1/1 - 0s - loss: 0.5027 - acc: 1.0000 - 6ms/epoch - 6ms/step\n",
            "Epoch 90/100\n",
            "1/1 - 0s - loss: 0.5004 - acc: 1.0000 - 6ms/epoch - 6ms/step\n",
            "Epoch 91/100\n",
            "1/1 - 0s - loss: 0.4982 - acc: 1.0000 - 6ms/epoch - 6ms/step\n",
            "Epoch 92/100\n",
            "1/1 - 0s - loss: 0.4959 - acc: 1.0000 - 7ms/epoch - 7ms/step\n",
            "Epoch 93/100\n",
            "1/1 - 0s - loss: 0.4936 - acc: 1.0000 - 6ms/epoch - 6ms/step\n",
            "Epoch 94/100\n",
            "1/1 - 0s - loss: 0.4913 - acc: 1.0000 - 8ms/epoch - 8ms/step\n",
            "Epoch 95/100\n",
            "1/1 - 0s - loss: 0.4890 - acc: 1.0000 - 7ms/epoch - 7ms/step\n",
            "Epoch 96/100\n",
            "1/1 - 0s - loss: 0.4867 - acc: 1.0000 - 6ms/epoch - 6ms/step\n",
            "Epoch 97/100\n",
            "1/1 - 0s - loss: 0.4845 - acc: 1.0000 - 6ms/epoch - 6ms/step\n",
            "Epoch 98/100\n",
            "1/1 - 0s - loss: 0.4822 - acc: 1.0000 - 8ms/epoch - 8ms/step\n",
            "Epoch 99/100\n",
            "1/1 - 0s - loss: 0.4799 - acc: 1.0000 - 6ms/epoch - 6ms/step\n",
            "Epoch 100/100\n",
            "1/1 - 0s - loss: 0.4776 - acc: 1.0000 - 6ms/epoch - 6ms/step\n"
          ]
        },
        {
          "output_type": "execute_result",
          "data": {
            "text/plain": [
              "<keras.callbacks.History at 0x7fb9d018c1f0>"
            ]
          },
          "metadata": {},
          "execution_count": 6
        }
      ]
    },
    {
      "cell_type": "markdown",
      "source": [
        "\n",
        "\n",
        "---\n",
        "\n"
      ],
      "metadata": {
        "id": "CpYZM-4CKYFl"
      }
    },
    {
      "cell_type": "markdown",
      "source": [
        "2. Pre-Trained Word Embedding"
      ],
      "metadata": {
        "id": "4mdS52ZFKa5L"
      }
    },
    {
      "cell_type": "markdown",
      "source": [
        "(1) GloVe ver."
      ],
      "metadata": {
        "id": "410ZsiV-o5e3"
      }
    },
    {
      "cell_type": "markdown",
      "source": [
        "GloVe 다운로드 링크 : http://nlp.stanford.edu/data/glove.6B.zip\n",
        "\n",
        "used 'glove.6B.100d.txt'\n",
        "\n",
        "\n",
        "Word2Vec 다운로드 링크 : https://drive.google.com/file/d/0B7XkCwpI5KDYNlNUTTlSS21pQmM\n"
      ],
      "metadata": {
        "id": "SXzzTlokKfwR"
      }
    },
    {
      "cell_type": "code",
      "source": [
        "from urllib.request import urlretrieve, urlopen\n",
        "import gzip\n",
        "import zipfile\n",
        "\n",
        "urlretrieve(\"http://nlp.stanford.edu/data/glove.6B.zip\", filename=\"glove.6B.zip\")\n",
        "zf = zipfile.ZipFile('glove.6B.zip')\n",
        "zf.extractall()\n",
        "zf.close()"
      ],
      "metadata": {
        "id": "i8SmA7vtKYlb"
      },
      "execution_count": 7,
      "outputs": []
    },
    {
      "cell_type": "code",
      "source": [
        "embedding_dict = dict()\n",
        "\n",
        "f = open('glove.6B.100d.txt', encoding=\"utf8\")\n",
        "\n",
        "for line in f:\n",
        "  word_vector = line.split()\n",
        "  word = word_vector[0]\n",
        "\n",
        "  word_vector_arr = np.asarray(word_vector[1:], dtype='float32')\n",
        "  embedding_dict[word] = word_vector_arr\n",
        "\n",
        "f.close()\n",
        "\n",
        "print(\"# of Embedding vestors : %s\" %len(embedding_dict))"
      ],
      "metadata": {
        "colab": {
          "base_uri": "https://localhost:8080/"
        },
        "id": "LSxYfZvGJhQI",
        "outputId": "23995d90-3748-4d52-e0f4-335bb2cde911"
      },
      "execution_count": 8,
      "outputs": [
        {
          "output_type": "stream",
          "name": "stdout",
          "text": [
            "# of Embedding vestors : 400000\n"
          ]
        }
      ]
    },
    {
      "cell_type": "code",
      "source": [
        "print(embedding_dict['respectable'])\n",
        "print('vector dimension :', len(embedding_dict['respectable']))"
      ],
      "metadata": {
        "colab": {
          "base_uri": "https://localhost:8080/"
        },
        "id": "_Lb7uvJqicde",
        "outputId": "551a8cc4-a8ba-4b5f-ae3d-a8197955417b"
      },
      "execution_count": 10,
      "outputs": [
        {
          "output_type": "stream",
          "name": "stdout",
          "text": [
            "[-0.049773   0.19903    0.10585    0.1391    -0.32395    0.44053\n",
            "  0.3947    -0.22805   -0.25793    0.49768    0.15384   -0.08831\n",
            "  0.0782    -0.8299    -0.037788   0.16772   -0.45197   -0.17085\n",
            "  0.74756    0.98256    0.81872    0.28507    0.16178   -0.48626\n",
            " -0.006265  -0.92469   -0.30625   -0.067318  -0.046762  -0.76291\n",
            " -0.0025264 -0.018795   0.12882   -0.52457    0.3586     0.43119\n",
            " -0.89477   -0.057421  -0.53724    0.25587    0.55195    0.44698\n",
            " -0.24252    0.29946    0.25776   -0.8717     0.68426   -0.05688\n",
            " -0.1848    -0.59352   -0.11227   -0.57692   -0.013593   0.18488\n",
            " -0.32507   -0.90171    0.17672    0.075601   0.54896   -0.21488\n",
            " -0.54018   -0.45882   -0.79536    0.26331    0.18879   -0.16363\n",
            "  0.3975     0.1099     0.1164    -0.083499   0.50159    0.35802\n",
            "  0.25677    0.088546   0.42108    0.28674   -0.71285   -0.82915\n",
            "  0.15297   -0.82712    0.022112   1.067     -0.31776    0.1211\n",
            " -0.069755  -0.61327    0.27308   -0.42638   -0.085084  -0.17694\n",
            " -0.0090944  0.1109     0.62543   -0.23682   -0.44928   -0.3667\n",
            " -0.21616   -0.19187   -0.032502   0.38025  ]\n",
            "vector dimension : 100\n"
          ]
        }
      ]
    },
    {
      "cell_type": "code",
      "source": [
        "embedding_matrix = np.zeros((vocab_size, 100))\n",
        "print('size of embedding_matrix : ', np.shape(embedding_matrix))"
      ],
      "metadata": {
        "colab": {
          "base_uri": "https://localhost:8080/"
        },
        "id": "-X5vHAbkisOs",
        "outputId": "3927bb12-cee1-45d1-8fc4-0250357951a0"
      },
      "execution_count": 11,
      "outputs": [
        {
          "output_type": "stream",
          "name": "stdout",
          "text": [
            "size of embedding_matrix :  (16, 100)\n"
          ]
        }
      ]
    },
    {
      "cell_type": "code",
      "source": [
        "print(tokenizer.word_index.items())"
      ],
      "metadata": {
        "colab": {
          "base_uri": "https://localhost:8080/"
        },
        "id": "PLid1Lg8jLwK",
        "outputId": "a105b2fc-1d3f-49b7-9089-96f21447ec16"
      },
      "execution_count": 12,
      "outputs": [
        {
          "output_type": "stream",
          "name": "stdout",
          "text": [
            "dict_items([('nice', 1), ('great', 2), ('best', 3), ('amazing', 4), ('stop', 5), ('lies', 6), ('pitiful', 7), ('nerd', 8), ('excellent', 9), ('work', 10), ('supreme', 11), ('quality', 12), ('bad', 13), ('highly', 14), ('respectable', 15)])\n"
          ]
        }
      ]
    },
    {
      "cell_type": "code",
      "source": [
        "print('word \"great\"\\'s mapped integer : ', tokenizer.word_index['great'])"
      ],
      "metadata": {
        "colab": {
          "base_uri": "https://localhost:8080/"
        },
        "id": "UG3zYT-hlcUF",
        "outputId": "e3582e60-15de-4551-a57b-6e323b0cedc7"
      },
      "execution_count": 13,
      "outputs": [
        {
          "output_type": "stream",
          "name": "stdout",
          "text": [
            "word \"great\"'s mapped integer :  2\n"
          ]
        }
      ]
    },
    {
      "cell_type": "code",
      "source": [
        "print(embedding_dict['great'])"
      ],
      "metadata": {
        "colab": {
          "base_uri": "https://localhost:8080/"
        },
        "id": "sCaTkJTFlrGM",
        "outputId": "43973b57-496f-4457-f4ec-42c5e7f2e90a"
      },
      "execution_count": 14,
      "outputs": [
        {
          "output_type": "stream",
          "name": "stdout",
          "text": [
            "[-0.013786   0.38216    0.53236    0.15261   -0.29694   -0.20558\n",
            " -0.41846   -0.58437   -0.77355   -0.87866   -0.37858   -0.18516\n",
            " -0.128     -0.20584   -0.22925   -0.42599    0.3725     0.26077\n",
            " -1.0702     0.62916   -0.091469   0.70348   -0.4973    -0.77691\n",
            "  0.66045    0.09465   -0.44893    0.018917   0.33146   -0.35022\n",
            " -0.35789    0.030313   0.22253   -0.23236   -0.19719   -0.0053125\n",
            " -0.25848    0.58081   -0.10705   -0.17845   -0.16206    0.087086\n",
            "  0.63029   -0.76649    0.51619    0.14073    1.019     -0.43136\n",
            "  0.46138   -0.43585   -0.47568    0.19226    0.36065    0.78987\n",
            "  0.088945  -2.7814    -0.15366    0.01015    1.1798     0.15168\n",
            " -0.050112   1.2626    -0.77527    0.36031    0.95761   -0.11385\n",
            "  0.28035   -0.02591    0.31246   -0.15424    0.3778    -0.13599\n",
            "  0.2946    -0.31579    0.42943    0.086969   0.019169  -0.27242\n",
            " -0.31696    0.37327    0.61997    0.13889    0.17188    0.30363\n",
            " -1.2776     0.044423  -0.52736   -0.88536   -0.19428   -0.61947\n",
            " -0.10146   -0.26301   -0.061707   0.36627   -0.95223   -0.39346\n",
            " -0.69183   -1.0426     0.28855    0.63056  ]\n"
          ]
        }
      ]
    },
    {
      "cell_type": "code",
      "source": [
        "for word, index in tokenizer.word_index.items():\n",
        "  vector_value = embedding_dict.get(word)\n",
        "  if vector_value is not None:\n",
        "    embedding_matrix[index] = vector_value"
      ],
      "metadata": {
        "id": "ftAwwCmqlw15"
      },
      "execution_count": 15,
      "outputs": []
    },
    {
      "cell_type": "code",
      "source": [
        "embedding_matrix[2]\n",
        "\n",
        "#이전에 확인한 사전에 훈련된 GloVe에서의 'great'의 벡터값과 일치"
      ],
      "metadata": {
        "colab": {
          "base_uri": "https://localhost:8080/"
        },
        "id": "pzPdZ6W2oADB",
        "outputId": "b988b031-6712-4416-b71a-9b86af702666"
      },
      "execution_count": 16,
      "outputs": [
        {
          "output_type": "execute_result",
          "data": {
            "text/plain": [
              "array([-0.013786  ,  0.38216001,  0.53236002,  0.15261   , -0.29694   ,\n",
              "       -0.20558   , -0.41846001, -0.58437002, -0.77354997, -0.87866002,\n",
              "       -0.37858   , -0.18516   , -0.12800001, -0.20584001, -0.22925   ,\n",
              "       -0.42598999,  0.3725    ,  0.26076999, -1.07019997,  0.62915999,\n",
              "       -0.091469  ,  0.70348001, -0.4973    , -0.77691001,  0.66044998,\n",
              "        0.09465   , -0.44893   ,  0.018917  ,  0.33146   , -0.35021999,\n",
              "       -0.35789001,  0.030313  ,  0.22253001, -0.23236001, -0.19719   ,\n",
              "       -0.0053125 , -0.25848001,  0.58081001, -0.10705   , -0.17845   ,\n",
              "       -0.16205999,  0.087086  ,  0.63028997, -0.76648998,  0.51618999,\n",
              "        0.14072999,  1.01900005, -0.43136001,  0.46138   , -0.43584999,\n",
              "       -0.47567999,  0.19226   ,  0.36065   ,  0.78987002,  0.088945  ,\n",
              "       -2.78139997, -0.15366   ,  0.01015   ,  1.17980003,  0.15167999,\n",
              "       -0.050112  ,  1.26259995, -0.77526999,  0.36030999,  0.95761001,\n",
              "       -0.11385   ,  0.28035   , -0.02591   ,  0.31246001, -0.15424   ,\n",
              "        0.37779999, -0.13598999,  0.29460001, -0.31579   ,  0.42943001,\n",
              "        0.086969  ,  0.019169  , -0.27241999, -0.31696001,  0.37327   ,\n",
              "        0.61997002,  0.13889   ,  0.17188001,  0.30362999, -1.27760005,\n",
              "        0.044423  , -0.52736002, -0.88536   , -0.19428   , -0.61947   ,\n",
              "       -0.10146   , -0.26301   , -0.061707  ,  0.36627001, -0.95222998,\n",
              "       -0.39346001, -0.69182998, -1.04260004,  0.28854999,  0.63055998])"
            ]
          },
          "metadata": {},
          "execution_count": 16
        }
      ]
    },
    {
      "cell_type": "code",
      "source": [
        "from tensorflow.keras.models import Sequential\n",
        "from tensorflow.keras.layers import Dense, Embedding, Flatten\n",
        "\n",
        "output_dim = 100\n",
        "\n",
        "model = Sequential()\n",
        "e = Embedding(vocab_size, output_dim, weights=[embedding_matrix], input_length=max_len, trainable=False)\n",
        "model.add(e)\n",
        "model.add(Flatten())\n",
        "model.add(Dense(1, activation='sigmoid'))\n",
        "model.compile(optimizer='adam', loss='binary_crossentropy', metrics=['acc'])\n",
        "model.fit(X_train, y_train, epochs=100, verbose=2)"
      ],
      "metadata": {
        "colab": {
          "base_uri": "https://localhost:8080/"
        },
        "id": "cp_-yLUaoDbX",
        "outputId": "aaf7d087-02b4-4eb9-92fb-f27584ac293f"
      },
      "execution_count": 17,
      "outputs": [
        {
          "output_type": "stream",
          "name": "stdout",
          "text": [
            "Epoch 1/100\n",
            "1/1 - 0s - loss: 0.7078 - acc: 0.2857 - 344ms/epoch - 344ms/step\n",
            "Epoch 2/100\n",
            "1/1 - 0s - loss: 0.6859 - acc: 0.4286 - 6ms/epoch - 6ms/step\n",
            "Epoch 3/100\n",
            "1/1 - 0s - loss: 0.6648 - acc: 0.5714 - 5ms/epoch - 5ms/step\n",
            "Epoch 4/100\n",
            "1/1 - 0s - loss: 0.6446 - acc: 0.7143 - 5ms/epoch - 5ms/step\n",
            "Epoch 5/100\n",
            "1/1 - 0s - loss: 0.6252 - acc: 0.7143 - 6ms/epoch - 6ms/step\n",
            "Epoch 6/100\n",
            "1/1 - 0s - loss: 0.6066 - acc: 0.7143 - 5ms/epoch - 5ms/step\n",
            "Epoch 7/100\n",
            "1/1 - 0s - loss: 0.5888 - acc: 0.7143 - 6ms/epoch - 6ms/step\n",
            "Epoch 8/100\n",
            "1/1 - 0s - loss: 0.5718 - acc: 0.7143 - 6ms/epoch - 6ms/step\n",
            "Epoch 9/100\n",
            "1/1 - 0s - loss: 0.5556 - acc: 0.7143 - 5ms/epoch - 5ms/step\n",
            "Epoch 10/100\n",
            "1/1 - 0s - loss: 0.5400 - acc: 0.7143 - 5ms/epoch - 5ms/step\n",
            "Epoch 11/100\n",
            "1/1 - 0s - loss: 0.5251 - acc: 0.7143 - 7ms/epoch - 7ms/step\n",
            "Epoch 12/100\n",
            "1/1 - 0s - loss: 0.5108 - acc: 0.8571 - 8ms/epoch - 8ms/step\n",
            "Epoch 13/100\n",
            "1/1 - 0s - loss: 0.4971 - acc: 0.8571 - 6ms/epoch - 6ms/step\n",
            "Epoch 14/100\n",
            "1/1 - 0s - loss: 0.4839 - acc: 0.8571 - 5ms/epoch - 5ms/step\n",
            "Epoch 15/100\n",
            "1/1 - 0s - loss: 0.4713 - acc: 0.8571 - 6ms/epoch - 6ms/step\n",
            "Epoch 16/100\n",
            "1/1 - 0s - loss: 0.4591 - acc: 0.8571 - 6ms/epoch - 6ms/step\n",
            "Epoch 17/100\n",
            "1/1 - 0s - loss: 0.4474 - acc: 1.0000 - 5ms/epoch - 5ms/step\n",
            "Epoch 18/100\n",
            "1/1 - 0s - loss: 0.4361 - acc: 1.0000 - 5ms/epoch - 5ms/step\n",
            "Epoch 19/100\n",
            "1/1 - 0s - loss: 0.4252 - acc: 1.0000 - 6ms/epoch - 6ms/step\n",
            "Epoch 20/100\n",
            "1/1 - 0s - loss: 0.4146 - acc: 1.0000 - 6ms/epoch - 6ms/step\n",
            "Epoch 21/100\n",
            "1/1 - 0s - loss: 0.4045 - acc: 1.0000 - 6ms/epoch - 6ms/step\n",
            "Epoch 22/100\n",
            "1/1 - 0s - loss: 0.3946 - acc: 1.0000 - 5ms/epoch - 5ms/step\n",
            "Epoch 23/100\n",
            "1/1 - 0s - loss: 0.3851 - acc: 1.0000 - 5ms/epoch - 5ms/step\n",
            "Epoch 24/100\n",
            "1/1 - 0s - loss: 0.3758 - acc: 1.0000 - 6ms/epoch - 6ms/step\n",
            "Epoch 25/100\n",
            "1/1 - 0s - loss: 0.3669 - acc: 1.0000 - 6ms/epoch - 6ms/step\n",
            "Epoch 26/100\n",
            "1/1 - 0s - loss: 0.3582 - acc: 1.0000 - 5ms/epoch - 5ms/step\n",
            "Epoch 27/100\n",
            "1/1 - 0s - loss: 0.3498 - acc: 1.0000 - 6ms/epoch - 6ms/step\n",
            "Epoch 28/100\n",
            "1/1 - 0s - loss: 0.3416 - acc: 1.0000 - 5ms/epoch - 5ms/step\n",
            "Epoch 29/100\n",
            "1/1 - 0s - loss: 0.3337 - acc: 1.0000 - 5ms/epoch - 5ms/step\n",
            "Epoch 30/100\n",
            "1/1 - 0s - loss: 0.3260 - acc: 1.0000 - 6ms/epoch - 6ms/step\n",
            "Epoch 31/100\n",
            "1/1 - 0s - loss: 0.3186 - acc: 1.0000 - 5ms/epoch - 5ms/step\n",
            "Epoch 32/100\n",
            "1/1 - 0s - loss: 0.3114 - acc: 1.0000 - 5ms/epoch - 5ms/step\n",
            "Epoch 33/100\n",
            "1/1 - 0s - loss: 0.3044 - acc: 1.0000 - 5ms/epoch - 5ms/step\n",
            "Epoch 34/100\n",
            "1/1 - 0s - loss: 0.2976 - acc: 1.0000 - 5ms/epoch - 5ms/step\n",
            "Epoch 35/100\n",
            "1/1 - 0s - loss: 0.2910 - acc: 1.0000 - 6ms/epoch - 6ms/step\n",
            "Epoch 36/100\n",
            "1/1 - 0s - loss: 0.2846 - acc: 1.0000 - 5ms/epoch - 5ms/step\n",
            "Epoch 37/100\n",
            "1/1 - 0s - loss: 0.2784 - acc: 1.0000 - 5ms/epoch - 5ms/step\n",
            "Epoch 38/100\n",
            "1/1 - 0s - loss: 0.2723 - acc: 1.0000 - 5ms/epoch - 5ms/step\n",
            "Epoch 39/100\n",
            "1/1 - 0s - loss: 0.2665 - acc: 1.0000 - 6ms/epoch - 6ms/step\n",
            "Epoch 40/100\n",
            "1/1 - 0s - loss: 0.2608 - acc: 1.0000 - 6ms/epoch - 6ms/step\n",
            "Epoch 41/100\n",
            "1/1 - 0s - loss: 0.2553 - acc: 1.0000 - 6ms/epoch - 6ms/step\n",
            "Epoch 42/100\n",
            "1/1 - 0s - loss: 0.2500 - acc: 1.0000 - 5ms/epoch - 5ms/step\n",
            "Epoch 43/100\n",
            "1/1 - 0s - loss: 0.2448 - acc: 1.0000 - 7ms/epoch - 7ms/step\n",
            "Epoch 44/100\n",
            "1/1 - 0s - loss: 0.2398 - acc: 1.0000 - 5ms/epoch - 5ms/step\n",
            "Epoch 45/100\n",
            "1/1 - 0s - loss: 0.2349 - acc: 1.0000 - 7ms/epoch - 7ms/step\n",
            "Epoch 46/100\n",
            "1/1 - 0s - loss: 0.2302 - acc: 1.0000 - 6ms/epoch - 6ms/step\n",
            "Epoch 47/100\n",
            "1/1 - 0s - loss: 0.2256 - acc: 1.0000 - 5ms/epoch - 5ms/step\n",
            "Epoch 48/100\n",
            "1/1 - 0s - loss: 0.2212 - acc: 1.0000 - 6ms/epoch - 6ms/step\n",
            "Epoch 49/100\n",
            "1/1 - 0s - loss: 0.2168 - acc: 1.0000 - 6ms/epoch - 6ms/step\n",
            "Epoch 50/100\n",
            "1/1 - 0s - loss: 0.2126 - acc: 1.0000 - 5ms/epoch - 5ms/step\n",
            "Epoch 51/100\n",
            "1/1 - 0s - loss: 0.2085 - acc: 1.0000 - 8ms/epoch - 8ms/step\n",
            "Epoch 52/100\n",
            "1/1 - 0s - loss: 0.2046 - acc: 1.0000 - 5ms/epoch - 5ms/step\n",
            "Epoch 53/100\n",
            "1/1 - 0s - loss: 0.2007 - acc: 1.0000 - 6ms/epoch - 6ms/step\n",
            "Epoch 54/100\n",
            "1/1 - 0s - loss: 0.1970 - acc: 1.0000 - 6ms/epoch - 6ms/step\n",
            "Epoch 55/100\n",
            "1/1 - 0s - loss: 0.1933 - acc: 1.0000 - 6ms/epoch - 6ms/step\n",
            "Epoch 56/100\n",
            "1/1 - 0s - loss: 0.1898 - acc: 1.0000 - 6ms/epoch - 6ms/step\n",
            "Epoch 57/100\n",
            "1/1 - 0s - loss: 0.1864 - acc: 1.0000 - 6ms/epoch - 6ms/step\n",
            "Epoch 58/100\n",
            "1/1 - 0s - loss: 0.1830 - acc: 1.0000 - 6ms/epoch - 6ms/step\n",
            "Epoch 59/100\n",
            "1/1 - 0s - loss: 0.1797 - acc: 1.0000 - 5ms/epoch - 5ms/step\n",
            "Epoch 60/100\n",
            "1/1 - 0s - loss: 0.1766 - acc: 1.0000 - 5ms/epoch - 5ms/step\n",
            "Epoch 61/100\n",
            "1/1 - 0s - loss: 0.1735 - acc: 1.0000 - 5ms/epoch - 5ms/step\n",
            "Epoch 62/100\n",
            "1/1 - 0s - loss: 0.1705 - acc: 1.0000 - 6ms/epoch - 6ms/step\n",
            "Epoch 63/100\n",
            "1/1 - 0s - loss: 0.1676 - acc: 1.0000 - 5ms/epoch - 5ms/step\n",
            "Epoch 64/100\n",
            "1/1 - 0s - loss: 0.1647 - acc: 1.0000 - 7ms/epoch - 7ms/step\n",
            "Epoch 65/100\n",
            "1/1 - 0s - loss: 0.1620 - acc: 1.0000 - 7ms/epoch - 7ms/step\n",
            "Epoch 66/100\n",
            "1/1 - 0s - loss: 0.1593 - acc: 1.0000 - 5ms/epoch - 5ms/step\n",
            "Epoch 67/100\n",
            "1/1 - 0s - loss: 0.1566 - acc: 1.0000 - 8ms/epoch - 8ms/step\n",
            "Epoch 68/100\n",
            "1/1 - 0s - loss: 0.1541 - acc: 1.0000 - 6ms/epoch - 6ms/step\n",
            "Epoch 69/100\n",
            "1/1 - 0s - loss: 0.1516 - acc: 1.0000 - 6ms/epoch - 6ms/step\n",
            "Epoch 70/100\n",
            "1/1 - 0s - loss: 0.1491 - acc: 1.0000 - 5ms/epoch - 5ms/step\n",
            "Epoch 71/100\n",
            "1/1 - 0s - loss: 0.1468 - acc: 1.0000 - 6ms/epoch - 6ms/step\n",
            "Epoch 72/100\n",
            "1/1 - 0s - loss: 0.1444 - acc: 1.0000 - 5ms/epoch - 5ms/step\n",
            "Epoch 73/100\n",
            "1/1 - 0s - loss: 0.1422 - acc: 1.0000 - 6ms/epoch - 6ms/step\n",
            "Epoch 74/100\n",
            "1/1 - 0s - loss: 0.1400 - acc: 1.0000 - 5ms/epoch - 5ms/step\n",
            "Epoch 75/100\n",
            "1/1 - 0s - loss: 0.1378 - acc: 1.0000 - 6ms/epoch - 6ms/step\n",
            "Epoch 76/100\n",
            "1/1 - 0s - loss: 0.1357 - acc: 1.0000 - 6ms/epoch - 6ms/step\n",
            "Epoch 77/100\n",
            "1/1 - 0s - loss: 0.1337 - acc: 1.0000 - 6ms/epoch - 6ms/step\n",
            "Epoch 78/100\n",
            "1/1 - 0s - loss: 0.1317 - acc: 1.0000 - 7ms/epoch - 7ms/step\n",
            "Epoch 79/100\n",
            "1/1 - 0s - loss: 0.1297 - acc: 1.0000 - 6ms/epoch - 6ms/step\n",
            "Epoch 80/100\n",
            "1/1 - 0s - loss: 0.1278 - acc: 1.0000 - 6ms/epoch - 6ms/step\n",
            "Epoch 81/100\n",
            "1/1 - 0s - loss: 0.1259 - acc: 1.0000 - 5ms/epoch - 5ms/step\n",
            "Epoch 82/100\n",
            "1/1 - 0s - loss: 0.1241 - acc: 1.0000 - 6ms/epoch - 6ms/step\n",
            "Epoch 83/100\n",
            "1/1 - 0s - loss: 0.1223 - acc: 1.0000 - 6ms/epoch - 6ms/step\n",
            "Epoch 84/100\n",
            "1/1 - 0s - loss: 0.1206 - acc: 1.0000 - 7ms/epoch - 7ms/step\n",
            "Epoch 85/100\n",
            "1/1 - 0s - loss: 0.1189 - acc: 1.0000 - 6ms/epoch - 6ms/step\n",
            "Epoch 86/100\n",
            "1/1 - 0s - loss: 0.1172 - acc: 1.0000 - 6ms/epoch - 6ms/step\n",
            "Epoch 87/100\n",
            "1/1 - 0s - loss: 0.1156 - acc: 1.0000 - 5ms/epoch - 5ms/step\n",
            "Epoch 88/100\n",
            "1/1 - 0s - loss: 0.1140 - acc: 1.0000 - 6ms/epoch - 6ms/step\n",
            "Epoch 89/100\n",
            "1/1 - 0s - loss: 0.1125 - acc: 1.0000 - 6ms/epoch - 6ms/step\n",
            "Epoch 90/100\n",
            "1/1 - 0s - loss: 0.1110 - acc: 1.0000 - 6ms/epoch - 6ms/step\n",
            "Epoch 91/100\n",
            "1/1 - 0s - loss: 0.1095 - acc: 1.0000 - 6ms/epoch - 6ms/step\n",
            "Epoch 92/100\n",
            "1/1 - 0s - loss: 0.1080 - acc: 1.0000 - 8ms/epoch - 8ms/step\n",
            "Epoch 93/100\n",
            "1/1 - 0s - loss: 0.1066 - acc: 1.0000 - 7ms/epoch - 7ms/step\n",
            "Epoch 94/100\n",
            "1/1 - 0s - loss: 0.1052 - acc: 1.0000 - 6ms/epoch - 6ms/step\n",
            "Epoch 95/100\n",
            "1/1 - 0s - loss: 0.1038 - acc: 1.0000 - 6ms/epoch - 6ms/step\n",
            "Epoch 96/100\n",
            "1/1 - 0s - loss: 0.1025 - acc: 1.0000 - 5ms/epoch - 5ms/step\n",
            "Epoch 97/100\n",
            "1/1 - 0s - loss: 0.1012 - acc: 1.0000 - 5ms/epoch - 5ms/step\n",
            "Epoch 98/100\n",
            "1/1 - 0s - loss: 0.0999 - acc: 1.0000 - 6ms/epoch - 6ms/step\n",
            "Epoch 99/100\n",
            "1/1 - 0s - loss: 0.0986 - acc: 1.0000 - 5ms/epoch - 5ms/step\n",
            "Epoch 100/100\n",
            "1/1 - 0s - loss: 0.0974 - acc: 1.0000 - 6ms/epoch - 6ms/step\n"
          ]
        },
        {
          "output_type": "execute_result",
          "data": {
            "text/plain": [
              "<keras.callbacks.History at 0x7fb957ec92b0>"
            ]
          },
          "metadata": {},
          "execution_count": 17
        }
      ]
    },
    {
      "cell_type": "markdown",
      "source": [
        "(2) Word2Vec ver."
      ],
      "metadata": {
        "id": "b5tIbPVmo8bY"
      }
    },
    {
      "cell_type": "code",
      "source": [
        "import gensim\n",
        "\n",
        "'''\n",
        "urlretrieve(\"https://s3.amazonaws.com/dl4j-distribution/GoogleNews-vectors-negative300.bin.gz\",\\\n",
        "            filename=\"GoogleNews-vectors-negative300.bin.gz\")\n",
        "word2vec_model = gensim.models.KeyedVectors.load_word2vec_format('GoogleNews-vectors-negative300.bin.gz', binary=True)\n",
        "'''\n",
        "\n",
        "word2vec_model = gensim.models.KeyedVectors.load_word2vec_format('/content/drive/MyDrive/NLP/GoogleNews-vectors-negative300.bin.gz', binary=True)"
      ],
      "metadata": {
        "id": "92Y5g-vboz_q"
      },
      "execution_count": 21,
      "outputs": []
    },
    {
      "cell_type": "code",
      "source": [
        "print('model size(shape) : ', word2vec_model.vectors.shape)"
      ],
      "metadata": {
        "colab": {
          "base_uri": "https://localhost:8080/"
        },
        "id": "NJNM5aJLpXO6",
        "outputId": "d99b75b9-7663-42c8-cef3-89696d8dd9b5"
      },
      "execution_count": 22,
      "outputs": [
        {
          "output_type": "stream",
          "name": "stdout",
          "text": [
            "model size(shape) :  (3000000, 300)\n"
          ]
        }
      ]
    },
    {
      "cell_type": "code",
      "source": [
        "embedding_matrix = np.zeros((vocab_size, 300))\n",
        "print('embedding_matrix shape: ', np.shape(embedding_matrix))"
      ],
      "metadata": {
        "colab": {
          "base_uri": "https://localhost:8080/"
        },
        "id": "0nPHvFs9q-NR",
        "outputId": "98a15697-d6a6-44d1-8e89-ce78ff777f91"
      },
      "execution_count": 24,
      "outputs": [
        {
          "output_type": "stream",
          "name": "stdout",
          "text": [
            "embedding_matrix shape:  (16, 300)\n"
          ]
        }
      ]
    },
    {
      "cell_type": "code",
      "source": [
        "def get_vector(word):\n",
        "  if word in word2vec_model:\n",
        "    return word2vec_model[word]\n",
        "  else:\n",
        "    return None"
      ],
      "metadata": {
        "id": "-dz-twErrHB7"
      },
      "execution_count": 25,
      "outputs": []
    },
    {
      "cell_type": "code",
      "source": [
        "for word, index in tokenizer.word_index.items():\n",
        "  vector_value = get_vector(word)\n",
        "  if vector_value is not None:\n",
        "    embedding_matrix[index] = vector_value"
      ],
      "metadata": {
        "id": "FauRjitlrUTO"
      },
      "execution_count": 26,
      "outputs": []
    },
    {
      "cell_type": "code",
      "source": [
        "print(word2vec_model['nice'])"
      ],
      "metadata": {
        "colab": {
          "base_uri": "https://localhost:8080/"
        },
        "id": "vGJfcXoNrjUp",
        "outputId": "8284fccb-ffde-4f24-95d8-2b9c4fda8d32"
      },
      "execution_count": 27,
      "outputs": [
        {
          "output_type": "stream",
          "name": "stdout",
          "text": [
            "[ 0.15820312  0.10595703 -0.18945312  0.38671875  0.08349609 -0.26757812\n",
            "  0.08349609  0.11328125 -0.10400391  0.17871094 -0.12353516 -0.22265625\n",
            " -0.01806641 -0.25390625  0.13183594  0.0859375   0.16113281  0.11083984\n",
            " -0.11083984 -0.0859375   0.0267334   0.34570312  0.15136719 -0.00415039\n",
            "  0.10498047  0.04907227 -0.06982422  0.08642578  0.03198242 -0.02844238\n",
            " -0.15722656  0.11865234  0.36132812  0.00173187  0.05297852 -0.234375\n",
            "  0.11767578  0.08642578 -0.01123047  0.25976562  0.28515625 -0.11669922\n",
            "  0.38476562  0.07275391  0.01147461  0.03466797  0.18164062 -0.03955078\n",
            "  0.04199219  0.01013184 -0.06054688  0.09765625  0.06689453  0.14648438\n",
            " -0.12011719  0.08447266 -0.06152344  0.06347656  0.3046875  -0.35546875\n",
            " -0.2890625   0.19628906 -0.33203125 -0.07128906  0.12792969  0.09619141\n",
            " -0.12158203 -0.08691406 -0.12890625  0.27734375  0.265625    0.1796875\n",
            "  0.12695312  0.06298828 -0.34375    -0.05908203  0.0456543   0.171875\n",
            "  0.08935547  0.14648438 -0.04638672 -0.00842285 -0.0279541   0.234375\n",
            " -0.07470703 -0.13574219  0.00378418  0.19433594  0.05664062 -0.05419922\n",
            "  0.06176758  0.14160156 -0.24121094  0.02539062 -0.15917969 -0.10595703\n",
            "  0.11865234  0.24707031 -0.13574219 -0.20410156 -0.30078125  0.07910156\n",
            " -0.04394531  0.02026367 -0.05786133  0.2109375   0.13574219  0.08349609\n",
            " -0.0098877  -0.10546875 -0.08105469  0.03735352 -0.10351562 -0.10205078\n",
            "  0.23925781 -0.21875     0.05151367  0.06738281  0.07617188  0.04638672\n",
            "  0.03198242 -0.07275391  0.14550781  0.04858398 -0.05664062 -0.07470703\n",
            " -0.0030365  -0.09277344 -0.11083984 -0.03320312 -0.15234375 -0.12207031\n",
            "  0.09814453  0.375       0.00454712 -0.10009766  0.02734375  0.30078125\n",
            " -0.0390625   0.30078125 -0.04541016 -0.00424194  0.13671875 -0.18945312\n",
            " -0.21777344  0.12695312 -0.02746582 -0.18164062  0.08984375 -0.23339844\n",
            "  0.203125    0.2734375  -0.26953125  0.15332031 -0.20703125 -0.01153564\n",
            "  0.12451172  0.05395508 -0.23535156 -0.01409912 -0.09765625  0.20800781\n",
            "  0.19335938  0.14746094  0.28710938 -0.23046875  0.01965332 -0.09619141\n",
            " -0.0703125  -0.04174805 -0.17578125  0.0007019   0.10546875  0.10351562\n",
            "  0.02478027  0.35742188  0.17382812 -0.09570312 -0.18359375  0.23242188\n",
            " -0.14453125 -0.20410156 -0.01867676  0.06640625 -0.2265625  -0.00582886\n",
            " -0.08642578  0.02416992 -0.07324219 -0.29882812 -0.15625     0.07666016\n",
            "  0.19628906 -0.20410156  0.09863281 -0.01672363 -0.18652344 -0.12353516\n",
            " -0.16015625 -0.10058594  0.21777344  0.09375    -0.10058594 -0.03637695\n",
            "  0.15136719 -0.02526855 -0.23730469  0.03417969 -0.00604248  0.15625\n",
            " -0.14257812  0.18066406 -0.35351562  0.25        0.13085938 -0.04296875\n",
            "  0.17089844  0.20507812  0.00680542 -0.08251953 -0.06738281  0.22167969\n",
            " -0.16308594 -0.16699219 -0.02087402  0.11035156  0.06054688 -0.04223633\n",
            " -0.17285156  0.05029297 -0.19824219  0.01495361  0.06542969  0.03271484\n",
            "  0.14453125 -0.08691406 -0.11035156 -0.1484375   0.09667969  0.22363281\n",
            "  0.23535156  0.08398438  0.18164062 -0.10595703 -0.04296875  0.11572266\n",
            " -0.00153351  0.0534668  -0.1328125  -0.33203125 -0.08251953  0.30664062\n",
            "  0.22363281  0.27929688  0.09082031 -0.18066406 -0.00613403 -0.09423828\n",
            " -0.21289062  0.01965332 -0.08105469 -0.06689453 -0.31835938 -0.08447266\n",
            "  0.13574219  0.0625      0.07080078 -0.14257812 -0.11279297  0.01452637\n",
            " -0.06689453  0.03881836  0.19433594  0.09521484  0.11376953 -0.12451172\n",
            "  0.13769531 -0.18847656 -0.05224609  0.15820312  0.09863281 -0.04370117\n",
            " -0.06054688  0.21679688  0.04077148 -0.14648438 -0.18945312 -0.25195312\n",
            " -0.16894531 -0.08642578 -0.08544922  0.18945312 -0.14648438  0.13476562\n",
            " -0.04077148  0.03271484  0.08935547 -0.26757812  0.00836182 -0.21386719]\n"
          ]
        }
      ]
    },
    {
      "cell_type": "code",
      "source": [
        "print('word \"nice\"\\'s mapped integer : ', tokenizer.word_index['nice'])"
      ],
      "metadata": {
        "colab": {
          "base_uri": "https://localhost:8080/"
        },
        "id": "rkZSkfJ0rlxS",
        "outputId": "e8de9e48-54a5-4129-b6c7-8af6a4a9b01b"
      },
      "execution_count": 28,
      "outputs": [
        {
          "output_type": "stream",
          "name": "stdout",
          "text": [
            "word \"nice\"'s mapped integer :  1\n"
          ]
        }
      ]
    },
    {
      "cell_type": "code",
      "source": [
        "print(embedding_matrix[1])"
      ],
      "metadata": {
        "colab": {
          "base_uri": "https://localhost:8080/"
        },
        "id": "Piv2Zq8-rvSA",
        "outputId": "237c0903-5ebd-4929-ef2c-707502e31427"
      },
      "execution_count": 29,
      "outputs": [
        {
          "output_type": "stream",
          "name": "stdout",
          "text": [
            "[ 0.15820312  0.10595703 -0.18945312  0.38671875  0.08349609 -0.26757812\n",
            "  0.08349609  0.11328125 -0.10400391  0.17871094 -0.12353516 -0.22265625\n",
            " -0.01806641 -0.25390625  0.13183594  0.0859375   0.16113281  0.11083984\n",
            " -0.11083984 -0.0859375   0.0267334   0.34570312  0.15136719 -0.00415039\n",
            "  0.10498047  0.04907227 -0.06982422  0.08642578  0.03198242 -0.02844238\n",
            " -0.15722656  0.11865234  0.36132812  0.00173187  0.05297852 -0.234375\n",
            "  0.11767578  0.08642578 -0.01123047  0.25976562  0.28515625 -0.11669922\n",
            "  0.38476562  0.07275391  0.01147461  0.03466797  0.18164062 -0.03955078\n",
            "  0.04199219  0.01013184 -0.06054688  0.09765625  0.06689453  0.14648438\n",
            " -0.12011719  0.08447266 -0.06152344  0.06347656  0.3046875  -0.35546875\n",
            " -0.2890625   0.19628906 -0.33203125 -0.07128906  0.12792969  0.09619141\n",
            " -0.12158203 -0.08691406 -0.12890625  0.27734375  0.265625    0.1796875\n",
            "  0.12695312  0.06298828 -0.34375    -0.05908203  0.0456543   0.171875\n",
            "  0.08935547  0.14648438 -0.04638672 -0.00842285 -0.0279541   0.234375\n",
            " -0.07470703 -0.13574219  0.00378418  0.19433594  0.05664062 -0.05419922\n",
            "  0.06176758  0.14160156 -0.24121094  0.02539062 -0.15917969 -0.10595703\n",
            "  0.11865234  0.24707031 -0.13574219 -0.20410156 -0.30078125  0.07910156\n",
            " -0.04394531  0.02026367 -0.05786133  0.2109375   0.13574219  0.08349609\n",
            " -0.0098877  -0.10546875 -0.08105469  0.03735352 -0.10351562 -0.10205078\n",
            "  0.23925781 -0.21875     0.05151367  0.06738281  0.07617188  0.04638672\n",
            "  0.03198242 -0.07275391  0.14550781  0.04858398 -0.05664062 -0.07470703\n",
            " -0.0030365  -0.09277344 -0.11083984 -0.03320312 -0.15234375 -0.12207031\n",
            "  0.09814453  0.375       0.00454712 -0.10009766  0.02734375  0.30078125\n",
            " -0.0390625   0.30078125 -0.04541016 -0.00424194  0.13671875 -0.18945312\n",
            " -0.21777344  0.12695312 -0.02746582 -0.18164062  0.08984375 -0.23339844\n",
            "  0.203125    0.2734375  -0.26953125  0.15332031 -0.20703125 -0.01153564\n",
            "  0.12451172  0.05395508 -0.23535156 -0.01409912 -0.09765625  0.20800781\n",
            "  0.19335938  0.14746094  0.28710938 -0.23046875  0.01965332 -0.09619141\n",
            " -0.0703125  -0.04174805 -0.17578125  0.0007019   0.10546875  0.10351562\n",
            "  0.02478027  0.35742188  0.17382812 -0.09570312 -0.18359375  0.23242188\n",
            " -0.14453125 -0.20410156 -0.01867676  0.06640625 -0.2265625  -0.00582886\n",
            " -0.08642578  0.02416992 -0.07324219 -0.29882812 -0.15625     0.07666016\n",
            "  0.19628906 -0.20410156  0.09863281 -0.01672363 -0.18652344 -0.12353516\n",
            " -0.16015625 -0.10058594  0.21777344  0.09375    -0.10058594 -0.03637695\n",
            "  0.15136719 -0.02526855 -0.23730469  0.03417969 -0.00604248  0.15625\n",
            " -0.14257812  0.18066406 -0.35351562  0.25        0.13085938 -0.04296875\n",
            "  0.17089844  0.20507812  0.00680542 -0.08251953 -0.06738281  0.22167969\n",
            " -0.16308594 -0.16699219 -0.02087402  0.11035156  0.06054688 -0.04223633\n",
            " -0.17285156  0.05029297 -0.19824219  0.01495361  0.06542969  0.03271484\n",
            "  0.14453125 -0.08691406 -0.11035156 -0.1484375   0.09667969  0.22363281\n",
            "  0.23535156  0.08398438  0.18164062 -0.10595703 -0.04296875  0.11572266\n",
            " -0.00153351  0.0534668  -0.1328125  -0.33203125 -0.08251953  0.30664062\n",
            "  0.22363281  0.27929688  0.09082031 -0.18066406 -0.00613403 -0.09423828\n",
            " -0.21289062  0.01965332 -0.08105469 -0.06689453 -0.31835938 -0.08447266\n",
            "  0.13574219  0.0625      0.07080078 -0.14257812 -0.11279297  0.01452637\n",
            " -0.06689453  0.03881836  0.19433594  0.09521484  0.11376953 -0.12451172\n",
            "  0.13769531 -0.18847656 -0.05224609  0.15820312  0.09863281 -0.04370117\n",
            " -0.06054688  0.21679688  0.04077148 -0.14648438 -0.18945312 -0.25195312\n",
            " -0.16894531 -0.08642578 -0.08544922  0.18945312 -0.14648438  0.13476562\n",
            " -0.04077148  0.03271484  0.08935547 -0.26757812  0.00836182 -0.21386719]\n"
          ]
        }
      ]
    },
    {
      "cell_type": "code",
      "source": [
        "from tensorflow.keras.models import Sequential\n",
        "from tensorflow.keras.layers import Dense, Embedding, Flatten, Input\n",
        "\n",
        "model = Sequential()\n",
        "model.add(Input(shape=(max_len,), dtype='int32'))\n",
        "e = Embedding(vocab_size, 300, weights=[embedding_matrix], input_length=max_len, trainable=False)\n",
        "model.add(e)\n",
        "model.add(Flatten())\n",
        "model.add(Dense(1, activation='sigmoid'))\n",
        "model.compile(optimizer='adam', loss='binary_crossentropy', metrics=['acc'])\n",
        "model.fit(X_train, y_train , epochs=100, verbose=2)"
      ],
      "metadata": {
        "colab": {
          "base_uri": "https://localhost:8080/"
        },
        "id": "j9sn3gPorzJJ",
        "outputId": "4b6d05ef-bcb7-43d0-b0f4-bbc2a2a69e1b"
      },
      "execution_count": 30,
      "outputs": [
        {
          "output_type": "stream",
          "name": "stdout",
          "text": [
            "Epoch 1/100\n",
            "1/1 - 0s - loss: 0.7465 - acc: 0.1429 - 452ms/epoch - 452ms/step\n",
            "Epoch 2/100\n",
            "1/1 - 0s - loss: 0.7260 - acc: 0.5714 - 7ms/epoch - 7ms/step\n",
            "Epoch 3/100\n",
            "1/1 - 0s - loss: 0.7059 - acc: 0.8571 - 5ms/epoch - 5ms/step\n",
            "Epoch 4/100\n",
            "1/1 - 0s - loss: 0.6864 - acc: 0.8571 - 5ms/epoch - 5ms/step\n",
            "Epoch 5/100\n",
            "1/1 - 0s - loss: 0.6675 - acc: 0.8571 - 6ms/epoch - 6ms/step\n",
            "Epoch 6/100\n",
            "1/1 - 0s - loss: 0.6492 - acc: 0.8571 - 5ms/epoch - 5ms/step\n",
            "Epoch 7/100\n",
            "1/1 - 0s - loss: 0.6314 - acc: 1.0000 - 5ms/epoch - 5ms/step\n",
            "Epoch 8/100\n",
            "1/1 - 0s - loss: 0.6142 - acc: 1.0000 - 5ms/epoch - 5ms/step\n",
            "Epoch 9/100\n",
            "1/1 - 0s - loss: 0.5976 - acc: 1.0000 - 5ms/epoch - 5ms/step\n",
            "Epoch 10/100\n",
            "1/1 - 0s - loss: 0.5816 - acc: 1.0000 - 5ms/epoch - 5ms/step\n",
            "Epoch 11/100\n",
            "1/1 - 0s - loss: 0.5661 - acc: 1.0000 - 5ms/epoch - 5ms/step\n",
            "Epoch 12/100\n",
            "1/1 - 0s - loss: 0.5512 - acc: 1.0000 - 6ms/epoch - 6ms/step\n",
            "Epoch 13/100\n",
            "1/1 - 0s - loss: 0.5368 - acc: 1.0000 - 6ms/epoch - 6ms/step\n",
            "Epoch 14/100\n",
            "1/1 - 0s - loss: 0.5230 - acc: 1.0000 - 15ms/epoch - 15ms/step\n",
            "Epoch 15/100\n",
            "1/1 - 0s - loss: 0.5096 - acc: 1.0000 - 8ms/epoch - 8ms/step\n",
            "Epoch 16/100\n",
            "1/1 - 0s - loss: 0.4967 - acc: 1.0000 - 13ms/epoch - 13ms/step\n",
            "Epoch 17/100\n",
            "1/1 - 0s - loss: 0.4843 - acc: 1.0000 - 10ms/epoch - 10ms/step\n",
            "Epoch 18/100\n",
            "1/1 - 0s - loss: 0.4724 - acc: 1.0000 - 8ms/epoch - 8ms/step\n",
            "Epoch 19/100\n",
            "1/1 - 0s - loss: 0.4608 - acc: 1.0000 - 7ms/epoch - 7ms/step\n",
            "Epoch 20/100\n",
            "1/1 - 0s - loss: 0.4497 - acc: 1.0000 - 8ms/epoch - 8ms/step\n",
            "Epoch 21/100\n",
            "1/1 - 0s - loss: 0.4389 - acc: 1.0000 - 10ms/epoch - 10ms/step\n",
            "Epoch 22/100\n",
            "1/1 - 0s - loss: 0.4286 - acc: 1.0000 - 9ms/epoch - 9ms/step\n",
            "Epoch 23/100\n",
            "1/1 - 0s - loss: 0.4186 - acc: 1.0000 - 8ms/epoch - 8ms/step\n",
            "Epoch 24/100\n",
            "1/1 - 0s - loss: 0.4089 - acc: 1.0000 - 10ms/epoch - 10ms/step\n",
            "Epoch 25/100\n",
            "1/1 - 0s - loss: 0.3995 - acc: 1.0000 - 6ms/epoch - 6ms/step\n",
            "Epoch 26/100\n",
            "1/1 - 0s - loss: 0.3905 - acc: 1.0000 - 5ms/epoch - 5ms/step\n",
            "Epoch 27/100\n",
            "1/1 - 0s - loss: 0.3818 - acc: 1.0000 - 6ms/epoch - 6ms/step\n",
            "Epoch 28/100\n",
            "1/1 - 0s - loss: 0.3733 - acc: 1.0000 - 8ms/epoch - 8ms/step\n",
            "Epoch 29/100\n",
            "1/1 - 0s - loss: 0.3651 - acc: 1.0000 - 6ms/epoch - 6ms/step\n",
            "Epoch 30/100\n",
            "1/1 - 0s - loss: 0.3572 - acc: 1.0000 - 6ms/epoch - 6ms/step\n",
            "Epoch 31/100\n",
            "1/1 - 0s - loss: 0.3495 - acc: 1.0000 - 8ms/epoch - 8ms/step\n",
            "Epoch 32/100\n",
            "1/1 - 0s - loss: 0.3421 - acc: 1.0000 - 9ms/epoch - 9ms/step\n",
            "Epoch 33/100\n",
            "1/1 - 0s - loss: 0.3349 - acc: 1.0000 - 6ms/epoch - 6ms/step\n",
            "Epoch 34/100\n",
            "1/1 - 0s - loss: 0.3279 - acc: 1.0000 - 6ms/epoch - 6ms/step\n",
            "Epoch 35/100\n",
            "1/1 - 0s - loss: 0.3211 - acc: 1.0000 - 6ms/epoch - 6ms/step\n",
            "Epoch 36/100\n",
            "1/1 - 0s - loss: 0.3145 - acc: 1.0000 - 5ms/epoch - 5ms/step\n",
            "Epoch 37/100\n",
            "1/1 - 0s - loss: 0.3081 - acc: 1.0000 - 6ms/epoch - 6ms/step\n",
            "Epoch 38/100\n",
            "1/1 - 0s - loss: 0.3019 - acc: 1.0000 - 6ms/epoch - 6ms/step\n",
            "Epoch 39/100\n",
            "1/1 - 0s - loss: 0.2959 - acc: 1.0000 - 6ms/epoch - 6ms/step\n",
            "Epoch 40/100\n",
            "1/1 - 0s - loss: 0.2901 - acc: 1.0000 - 6ms/epoch - 6ms/step\n",
            "Epoch 41/100\n",
            "1/1 - 0s - loss: 0.2844 - acc: 1.0000 - 6ms/epoch - 6ms/step\n",
            "Epoch 42/100\n",
            "1/1 - 0s - loss: 0.2789 - acc: 1.0000 - 5ms/epoch - 5ms/step\n",
            "Epoch 43/100\n",
            "1/1 - 0s - loss: 0.2736 - acc: 1.0000 - 5ms/epoch - 5ms/step\n",
            "Epoch 44/100\n",
            "1/1 - 0s - loss: 0.2684 - acc: 1.0000 - 5ms/epoch - 5ms/step\n",
            "Epoch 45/100\n",
            "1/1 - 0s - loss: 0.2634 - acc: 1.0000 - 6ms/epoch - 6ms/step\n",
            "Epoch 46/100\n",
            "1/1 - 0s - loss: 0.2585 - acc: 1.0000 - 8ms/epoch - 8ms/step\n",
            "Epoch 47/100\n",
            "1/1 - 0s - loss: 0.2537 - acc: 1.0000 - 8ms/epoch - 8ms/step\n",
            "Epoch 48/100\n",
            "1/1 - 0s - loss: 0.2491 - acc: 1.0000 - 6ms/epoch - 6ms/step\n",
            "Epoch 49/100\n",
            "1/1 - 0s - loss: 0.2446 - acc: 1.0000 - 6ms/epoch - 6ms/step\n",
            "Epoch 50/100\n",
            "1/1 - 0s - loss: 0.2402 - acc: 1.0000 - 6ms/epoch - 6ms/step\n",
            "Epoch 51/100\n",
            "1/1 - 0s - loss: 0.2359 - acc: 1.0000 - 6ms/epoch - 6ms/step\n",
            "Epoch 52/100\n",
            "1/1 - 0s - loss: 0.2318 - acc: 1.0000 - 5ms/epoch - 5ms/step\n",
            "Epoch 53/100\n",
            "1/1 - 0s - loss: 0.2277 - acc: 1.0000 - 6ms/epoch - 6ms/step\n",
            "Epoch 54/100\n",
            "1/1 - 0s - loss: 0.2238 - acc: 1.0000 - 6ms/epoch - 6ms/step\n",
            "Epoch 55/100\n",
            "1/1 - 0s - loss: 0.2199 - acc: 1.0000 - 5ms/epoch - 5ms/step\n",
            "Epoch 56/100\n",
            "1/1 - 0s - loss: 0.2162 - acc: 1.0000 - 6ms/epoch - 6ms/step\n",
            "Epoch 57/100\n",
            "1/1 - 0s - loss: 0.2126 - acc: 1.0000 - 5ms/epoch - 5ms/step\n",
            "Epoch 58/100\n",
            "1/1 - 0s - loss: 0.2090 - acc: 1.0000 - 6ms/epoch - 6ms/step\n",
            "Epoch 59/100\n",
            "1/1 - 0s - loss: 0.2056 - acc: 1.0000 - 5ms/epoch - 5ms/step\n",
            "Epoch 60/100\n",
            "1/1 - 0s - loss: 0.2022 - acc: 1.0000 - 5ms/epoch - 5ms/step\n",
            "Epoch 61/100\n",
            "1/1 - 0s - loss: 0.1989 - acc: 1.0000 - 6ms/epoch - 6ms/step\n",
            "Epoch 62/100\n",
            "1/1 - 0s - loss: 0.1957 - acc: 1.0000 - 5ms/epoch - 5ms/step\n",
            "Epoch 63/100\n",
            "1/1 - 0s - loss: 0.1926 - acc: 1.0000 - 6ms/epoch - 6ms/step\n",
            "Epoch 64/100\n",
            "1/1 - 0s - loss: 0.1896 - acc: 1.0000 - 5ms/epoch - 5ms/step\n",
            "Epoch 65/100\n",
            "1/1 - 0s - loss: 0.1866 - acc: 1.0000 - 5ms/epoch - 5ms/step\n",
            "Epoch 66/100\n",
            "1/1 - 0s - loss: 0.1837 - acc: 1.0000 - 6ms/epoch - 6ms/step\n",
            "Epoch 67/100\n",
            "1/1 - 0s - loss: 0.1809 - acc: 1.0000 - 7ms/epoch - 7ms/step\n",
            "Epoch 68/100\n",
            "1/1 - 0s - loss: 0.1781 - acc: 1.0000 - 7ms/epoch - 7ms/step\n",
            "Epoch 69/100\n",
            "1/1 - 0s - loss: 0.1754 - acc: 1.0000 - 7ms/epoch - 7ms/step\n",
            "Epoch 70/100\n",
            "1/1 - 0s - loss: 0.1728 - acc: 1.0000 - 6ms/epoch - 6ms/step\n",
            "Epoch 71/100\n",
            "1/1 - 0s - loss: 0.1702 - acc: 1.0000 - 5ms/epoch - 5ms/step\n",
            "Epoch 72/100\n",
            "1/1 - 0s - loss: 0.1677 - acc: 1.0000 - 6ms/epoch - 6ms/step\n",
            "Epoch 73/100\n",
            "1/1 - 0s - loss: 0.1652 - acc: 1.0000 - 5ms/epoch - 5ms/step\n",
            "Epoch 74/100\n",
            "1/1 - 0s - loss: 0.1628 - acc: 1.0000 - 5ms/epoch - 5ms/step\n",
            "Epoch 75/100\n",
            "1/1 - 0s - loss: 0.1605 - acc: 1.0000 - 5ms/epoch - 5ms/step\n",
            "Epoch 76/100\n",
            "1/1 - 0s - loss: 0.1582 - acc: 1.0000 - 6ms/epoch - 6ms/step\n",
            "Epoch 77/100\n",
            "1/1 - 0s - loss: 0.1559 - acc: 1.0000 - 8ms/epoch - 8ms/step\n",
            "Epoch 78/100\n",
            "1/1 - 0s - loss: 0.1537 - acc: 1.0000 - 5ms/epoch - 5ms/step\n",
            "Epoch 79/100\n",
            "1/1 - 0s - loss: 0.1516 - acc: 1.0000 - 7ms/epoch - 7ms/step\n",
            "Epoch 80/100\n",
            "1/1 - 0s - loss: 0.1495 - acc: 1.0000 - 6ms/epoch - 6ms/step\n",
            "Epoch 81/100\n",
            "1/1 - 0s - loss: 0.1474 - acc: 1.0000 - 6ms/epoch - 6ms/step\n",
            "Epoch 82/100\n",
            "1/1 - 0s - loss: 0.1454 - acc: 1.0000 - 6ms/epoch - 6ms/step\n",
            "Epoch 83/100\n",
            "1/1 - 0s - loss: 0.1435 - acc: 1.0000 - 5ms/epoch - 5ms/step\n",
            "Epoch 84/100\n",
            "1/1 - 0s - loss: 0.1415 - acc: 1.0000 - 6ms/epoch - 6ms/step\n",
            "Epoch 85/100\n",
            "1/1 - 0s - loss: 0.1397 - acc: 1.0000 - 6ms/epoch - 6ms/step\n",
            "Epoch 86/100\n",
            "1/1 - 0s - loss: 0.1378 - acc: 1.0000 - 6ms/epoch - 6ms/step\n",
            "Epoch 87/100\n",
            "1/1 - 0s - loss: 0.1360 - acc: 1.0000 - 6ms/epoch - 6ms/step\n",
            "Epoch 88/100\n",
            "1/1 - 0s - loss: 0.1342 - acc: 1.0000 - 6ms/epoch - 6ms/step\n",
            "Epoch 89/100\n",
            "1/1 - 0s - loss: 0.1325 - acc: 1.0000 - 5ms/epoch - 5ms/step\n",
            "Epoch 90/100\n",
            "1/1 - 0s - loss: 0.1308 - acc: 1.0000 - 5ms/epoch - 5ms/step\n",
            "Epoch 91/100\n",
            "1/1 - 0s - loss: 0.1291 - acc: 1.0000 - 5ms/epoch - 5ms/step\n",
            "Epoch 92/100\n",
            "1/1 - 0s - loss: 0.1275 - acc: 1.0000 - 5ms/epoch - 5ms/step\n",
            "Epoch 93/100\n",
            "1/1 - 0s - loss: 0.1259 - acc: 1.0000 - 5ms/epoch - 5ms/step\n",
            "Epoch 94/100\n",
            "1/1 - 0s - loss: 0.1243 - acc: 1.0000 - 6ms/epoch - 6ms/step\n",
            "Epoch 95/100\n",
            "1/1 - 0s - loss: 0.1228 - acc: 1.0000 - 6ms/epoch - 6ms/step\n",
            "Epoch 96/100\n",
            "1/1 - 0s - loss: 0.1213 - acc: 1.0000 - 6ms/epoch - 6ms/step\n",
            "Epoch 97/100\n",
            "1/1 - 0s - loss: 0.1198 - acc: 1.0000 - 5ms/epoch - 5ms/step\n",
            "Epoch 98/100\n",
            "1/1 - 0s - loss: 0.1184 - acc: 1.0000 - 6ms/epoch - 6ms/step\n",
            "Epoch 99/100\n",
            "1/1 - 0s - loss: 0.1169 - acc: 1.0000 - 5ms/epoch - 5ms/step\n",
            "Epoch 100/100\n",
            "1/1 - 0s - loss: 0.1155 - acc: 1.0000 - 5ms/epoch - 5ms/step\n"
          ]
        },
        {
          "output_type": "execute_result",
          "data": {
            "text/plain": [
              "<keras.callbacks.History at 0x7fb920660c70>"
            ]
          },
          "metadata": {},
          "execution_count": 30
        }
      ]
    },
    {
      "cell_type": "code",
      "source": [],
      "metadata": {
        "id": "4nYQjbzxsc6P"
      },
      "execution_count": null,
      "outputs": []
    }
  ]
}