{
  "nbformat": 4,
  "nbformat_minor": 0,
  "metadata": {
    "colab": {
      "provenance": [],
      "authorship_tag": "ABX9TyPO7BoTyKjOpoT9Xi5SBFVA",
      "include_colab_link": true
    },
    "kernelspec": {
      "name": "python3",
      "display_name": "Python 3"
    },
    "language_info": {
      "name": "python"
    },
    "accelerator": "GPU",
    "gpuClass": "standard"
  },
  "cells": [
    {
      "cell_type": "markdown",
      "metadata": {
        "id": "view-in-github",
        "colab_type": "text"
      },
      "source": [
        "<a href=\"https://colab.research.google.com/github/yoooniverse/NLP/blob/main/NaiveBayesClassifier.ipynb\" target=\"_parent\"><img src=\"https://colab.research.google.com/assets/colab-badge.svg\" alt=\"Open In Colab\"/></a>"
      ]
    },
    {
      "cell_type": "markdown",
      "source": [
        "02.22.2023"
      ],
      "metadata": {
        "id": "BQDpLm-NokCR"
      }
    },
    {
      "cell_type": "markdown",
      "source": [
        "Bayes' theorem(조건부확률 계산 방법 중 하나)  \n",
        "\n",
        "$P(A|B) = {P(B|A)P(A)\\over P(B)}$"
      ],
      "metadata": {
        "id": "NZ41kGr9Mk-u"
      }
    },
    {
      "cell_type": "markdown",
      "source": [
        "P(정상 메일 | 입력 텍스트) = 입력 텍스트가 있을 때 정상 메일일 확률  \n",
        "P(스팸 메일 | 입력 텍스트) = 입력 텍스트가 있을 때 스팸 메일일 확률\n",
        "\n"
      ],
      "metadata": {
        "id": "esHUoJHUNI0k"
      }
    },
    {
      "cell_type": "markdown",
      "source": [
        "P(정상 메일 | 입력 텍스트) = (P(입력 텍스트 | 정상 메일) × P(정상 메일)) / P(입력 텍스트)  \n",
        "P(스팸 메일 | 입력 텍스트) = (P(입력 텍스트 | 스팸 메일) × P(스팸 메일)) / P(입력 텍스트)\n",
        "\n",
        "분모를 양쪽에서 제거하여 식을 간소화.  \n",
        "P(정상 메일 | 입력 텍스트) = P(입력 텍스트 | 정상 메일) × P(정상 메일)  \n",
        "P(스팸 메일 | 입력 텍스트) = P(입력 텍스트 | 스팸 메일) × P(스팸 메일)"
      ],
      "metadata": {
        "id": "Dhsv02xMNMsX"
      }
    },
    {
      "cell_type": "markdown",
      "source": [
        "P(정상 메일 | 입력 텍스트)가 P(스팸 메일 | 입력 텍스트)보다 크다면 정상 메일이라고 볼 수 있다.\n"
      ],
      "metadata": {
        "id": "lvnHiBDzNdn5"
      }
    },
    {
      "cell_type": "markdown",
      "source": [
        "입력 텍스트에 단어가 3개 있다면,\n",
        "\n",
        "$P(정상 메일 | 입력 텍스트) = P(w_1 | 정상 메일) × P(w_2 | 정상 메일) × P(w_3 | 정상 메일) × P(정상 메일)$\n",
        "\n",
        "$P(스팸 메일 | 입력 텍스트) = P(w_1 | 스팸 메일) × P(w_2 | 스팸 메일) × P(w_3 | 스팸 메일) × P(스팸 메일)$"
      ],
      "metadata": {
        "id": "PdxXTDeBPFt3"
      }
    },
    {
      "cell_type": "markdown",
      "source": [
        "point) 입력 텍스트에 대해서 단, 하나의 단어라도 훈련 텍스트에 없었다면 확률 전체가 0이 되는 것은 지나친 일반화\n",
        "\n",
        "**라플라스 스무딩) 각 단어에 대한 확률의 분모, 분자에 전부 숫자를 더해서 분자가 0이 되는 것을 방지**"
      ],
      "metadata": {
        "id": "onVIZusuckVi"
      }
    },
    {
      "cell_type": "code",
      "execution_count": 1,
      "metadata": {
        "colab": {
          "base_uri": "https://localhost:8080/"
        },
        "id": "LsYtt7zKMb3g",
        "outputId": "abaf0370-78b5-49f1-93a3-10e3ea35dec2"
      },
      "outputs": [
        {
          "output_type": "stream",
          "name": "stdout",
          "text": [
            "dict_keys(['data', 'filenames', 'target_names', 'target', 'DESCR'])\n"
          ]
        }
      ],
      "source": [
        "from sklearn.datasets import fetch_20newsgroups\n",
        "newsdata = fetch_20newsgroups(subset='train')\n",
        "print(newsdata.keys())"
      ]
    },
    {
      "cell_type": "code",
      "source": [
        "print(len(newsdata.data), len(newsdata.filenames), len(newsdata.target_names), len(newsdata.target))"
      ],
      "metadata": {
        "colab": {
          "base_uri": "https://localhost:8080/"
        },
        "id": "I09Yt_xzeDqQ",
        "outputId": "660e2029-c33d-49bf-9134-87f22e3d260d"
      },
      "execution_count": 2,
      "outputs": [
        {
          "output_type": "stream",
          "name": "stdout",
          "text": [
            "11314 11314 20 11314\n"
          ]
        }
      ]
    },
    {
      "cell_type": "code",
      "source": [
        "print(newsdata.target_names)"
      ],
      "metadata": {
        "colab": {
          "base_uri": "https://localhost:8080/"
        },
        "id": "PBmU5_ozeETN",
        "outputId": "36d23bc4-b77c-44c9-bd56-f665cbcbe863"
      },
      "execution_count": 3,
      "outputs": [
        {
          "output_type": "stream",
          "name": "stdout",
          "text": [
            "['alt.atheism', 'comp.graphics', 'comp.os.ms-windows.misc', 'comp.sys.ibm.pc.hardware', 'comp.sys.mac.hardware', 'comp.windows.x', 'misc.forsale', 'rec.autos', 'rec.motorcycles', 'rec.sport.baseball', 'rec.sport.hockey', 'sci.crypt', 'sci.electronics', 'sci.med', 'sci.space', 'soc.religion.christian', 'talk.politics.guns', 'talk.politics.mideast', 'talk.politics.misc', 'talk.religion.misc']\n"
          ]
        }
      ]
    },
    {
      "cell_type": "code",
      "source": [
        "print(newsdata.target)"
      ],
      "metadata": {
        "colab": {
          "base_uri": "https://localhost:8080/"
        },
        "id": "AsUKv13MeNub",
        "outputId": "01cc225c-2b68-408a-e428-9f2caf663da2"
      },
      "execution_count": 4,
      "outputs": [
        {
          "output_type": "stream",
          "name": "stdout",
          "text": [
            "[7 4 4 ... 3 1 8]\n"
          ]
        }
      ]
    },
    {
      "cell_type": "code",
      "source": [
        "print(newsdata.target[0])\n",
        "print(newsdata.target_names[7])\n",
        "print(newsdata.data[0])"
      ],
      "metadata": {
        "colab": {
          "base_uri": "https://localhost:8080/"
        },
        "id": "gwUUiS-rev3M",
        "outputId": "5b0a4cff-91a3-491b-95a3-57b5e28285f4"
      },
      "execution_count": 5,
      "outputs": [
        {
          "output_type": "stream",
          "name": "stdout",
          "text": [
            "7\n",
            "rec.autos\n",
            "From: lerxst@wam.umd.edu (where's my thing)\n",
            "Subject: WHAT car is this!?\n",
            "Nntp-Posting-Host: rac3.wam.umd.edu\n",
            "Organization: University of Maryland, College Park\n",
            "Lines: 15\n",
            "\n",
            " I was wondering if anyone out there could enlighten me on this car I saw\n",
            "the other day. It was a 2-door sports car, looked to be from the late 60s/\n",
            "early 70s. It was called a Bricklin. The doors were really small. In addition,\n",
            "the front bumper was separate from the rest of the body. This is \n",
            "all I know. If anyone can tellme a model name, engine specs, years\n",
            "of production, where this car is made, history, or whatever info you\n",
            "have on this funky looking car, please e-mail.\n",
            "\n",
            "Thanks,\n",
            "- IL\n",
            "   ---- brought to you by your neighborhood Lerxst ----\n",
            "\n",
            "\n",
            "\n",
            "\n",
            "\n"
          ]
        }
      ]
    },
    {
      "cell_type": "markdown",
      "source": [
        "newsdata.target & newsdata.data\n",
        "\n",
        "need to preprocess `newsdata.data`"
      ],
      "metadata": {
        "id": "Drz3x5WIfOLu"
      }
    },
    {
      "cell_type": "code",
      "source": [
        "from sklearn.feature_extraction.text import CountVectorizer\n",
        "from sklearn.feature_extraction.text import TfidfTransformer\n",
        "from sklearn.naive_bayes import MultinomialNB\n",
        "from sklearn.metrics import accuracy_score"
      ],
      "metadata": {
        "id": "0I3S-l6mfCxc"
      },
      "execution_count": 6,
      "outputs": []
    },
    {
      "cell_type": "code",
      "source": [
        "# 나이브 베이즈 분류를 위해서는 데이터를 BoW로 만들어줄 필요\n",
        "# 입력한 텍스트를 자동으로 BoW로 만드는 CountVectorizer\n",
        "\n",
        "dtmvector = CountVectorizer()\n",
        "X_train_dtm = dtmvector.fit_transform(newsdata.data)\n",
        "print(X_train_dtm.shape)"
      ],
      "metadata": {
        "colab": {
          "base_uri": "https://localhost:8080/"
        },
        "id": "VMG7aYoBgJpg",
        "outputId": "dff18289-8d4f-4a57-b4f7-5171b8019bd3"
      },
      "execution_count": 7,
      "outputs": [
        {
          "output_type": "stream",
          "name": "stdout",
          "text": [
            "(11314, 130107)\n"
          ]
        }
      ]
    },
    {
      "cell_type": "markdown",
      "source": [
        "BoW의 원리(Bag of Words)\n",
        "\n",
        "(1) 각 단어에 고유한 정수 인덱스를 부여.  # 단어 집합 생성.  \n",
        "(2) 각 인덱스의 위치에 단어 토큰의 등장 횟수를 기록한 벡터를 생성.  \n",
        "사이킷 런에서는 단어의 빈도를 Count하여 Vector로 만드는 CountVectorizer 클래스를 지원. 이를 이용하면 영어에 대해서는 손쉽게 BoW를 만들 수 있다."
      ],
      "metadata": {
        "id": "WEZeHTWYhuEs"
      }
    },
    {
      "cell_type": "markdown",
      "source": [
        "DTM (Document-Term Matrix)\n",
        "\n",
        "서로 다른 문서들의 BoW들을 결합한 표현 방법"
      ],
      "metadata": {
        "id": "08ktRycoia13"
      }
    },
    {
      "cell_type": "markdown",
      "source": [
        "TF-IDF(Term Frequency-Inverse Document Frequency)\n",
        "\n",
        "DTM 내의 각 단어들마다 중요한 정도를 가중치로 주는 방법 (사이킷 런 사용)"
      ],
      "metadata": {
        "id": "99S0WZqHkALw"
      }
    },
    {
      "cell_type": "code",
      "source": [
        "tfidf_transformer = TfidfTransformer()\n",
        "tfidfv = tfidf_transformer.fit_transform(X_train_dtm)\n",
        "print(tfidfv.shape)"
      ],
      "metadata": {
        "colab": {
          "base_uri": "https://localhost:8080/"
        },
        "id": "P7pP6DnPh4dy",
        "outputId": "69b23dfe-5f8b-4fae-d588-90d0c6987b2a"
      },
      "execution_count": 8,
      "outputs": [
        {
          "output_type": "stream",
          "name": "stdout",
          "text": [
            "(11314, 130107)\n"
          ]
        }
      ]
    },
    {
      "cell_type": "code",
      "source": [
        "mod = MultinomialNB()\n",
        "mod.fit(tfidfv, newsdata.target)\n",
        "\n",
        "MultinomialNB(alpha=1.0, class_prior=None, fit_prior=True) #alpha 1.0 : 라플라스 스무딩"
      ],
      "metadata": {
        "colab": {
          "base_uri": "https://localhost:8080/"
        },
        "id": "y6sOxuD6nRK8",
        "outputId": "5aeb3f7c-2809-45e2-fa56-dd68fc5eef99"
      },
      "execution_count": 9,
      "outputs": [
        {
          "output_type": "execute_result",
          "data": {
            "text/plain": [
              "MultinomialNB()"
            ]
          },
          "metadata": {},
          "execution_count": 9
        }
      ]
    },
    {
      "cell_type": "code",
      "source": [
        "newsdata_test = fetch_20newsgroups(subset='test', shuffle=True)\n",
        "X_test_dtm = dtmvector.transform(newsdata_test.data)\n",
        "tfidfv_test = tfidf_transformer.transform(X_test_dtm)\n",
        "\n",
        "predicted = mod.predict(tfidfv_test)\n",
        "print(\"정확도: \", accuracy_score(newsdata_test.target, predicted))"
      ],
      "metadata": {
        "colab": {
          "base_uri": "https://localhost:8080/"
        },
        "id": "izb9Sm-6nxOw",
        "outputId": "5af2ee55-85a6-4991-e911-9000d4ab9a0f"
      },
      "execution_count": 10,
      "outputs": [
        {
          "output_type": "stream",
          "name": "stdout",
          "text": [
            "정확도:  0.7738980350504514\n"
          ]
        }
      ]
    },
    {
      "cell_type": "markdown",
      "source": [
        "note) 잠재 의미 분석 챕터에서 진행했던 전처리를 모두 진행하고 다시 나이브 베이즈 분류기를 돌려보세요. 80% 이상의 정확도를 얻을 수 있습니다\n",
        "\n",
        "https://wikidocs.net/24949"
      ],
      "metadata": {
        "id": "hx9rHjRWoSEq"
      }
    },
    {
      "cell_type": "code",
      "source": [],
      "metadata": {
        "id": "KQRXGC7roLkB"
      },
      "execution_count": null,
      "outputs": []
    }
  ]
}